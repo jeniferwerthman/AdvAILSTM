{
  "nbformat": 4,
  "nbformat_minor": 0,
  "metadata": {
    "colab": {
      "name": "Copy of LSTMStock-Take2.ipynb",
      "provenance": [],
      "collapsed_sections": [],
      "include_colab_link": true
    },
    "kernelspec": {
      "name": "python3",
      "display_name": "Python 3"
    },
    "language_info": {
      "name": "python"
    }
  },
  "cells": [
    {
      "cell_type": "markdown",
      "metadata": {
        "id": "view-in-github",
        "colab_type": "text"
      },
      "source": [
        "<a href=\"https://colab.research.google.com/github/jeniferwerthman/AdvAILSTM/blob/main/Copy_of_LSTMStock_Take2.ipynb\" target=\"_parent\"><img src=\"https://colab.research.google.com/assets/colab-badge.svg\" alt=\"Open In Colab\"/></a>"
      ]
    },
    {
      "cell_type": "code",
      "execution_count": 1,
      "metadata": {
        "id": "XZyj7QpGi81g"
      },
      "outputs": [],
      "source": [
        "import pandas as pd\n",
        "import pandas_datareader as pdr\n",
        "import os\n",
        "import matplotlib.pyplot as mplot\n",
        "from matplotlib.ticker import MultipleLocator\n",
        "import matplotlib.dates as mdates\n",
        "import numpy as np\n",
        "import altair as alt \n",
        "import tensorflow as tf \n",
        "import datetime as dt\n",
        "from sklearn.preprocessing import MinMaxScaler\n",
        "from sklearn.metrics import mean_squared_error\n",
        "from keras.models import Sequential\n",
        "from keras.layers import Dense\n",
        "from keras.layers import LSTM\n",
        "from keras.layers import Dropout"
      ]
    },
    {
      "cell_type": "code",
      "source": [
        "#Import Data \n",
        "stockDf = pd.read_csv('AAPL.csv',delimiter=',')\n",
        "stockDf['openChange'] = stockDf.Open.pct_change()\n",
        "stockDf['closeChange'] = stockDf.Close.pct_change()\n",
        "stockDf['weekday_num'] = pd.DatetimeIndex(stockDf['Date']).weekday\n",
        "stockDf['month'] = pd.DatetimeIndex(stockDf['Date']).month\n",
        "stockDf['day'] = pd.DatetimeIndex(stockDf['Date']).day\n",
        "stockDf['year'] = pd.DatetimeIndex(stockDf['Date']).year\n",
        "stockDf['display'] = stockDf[\"month\"].map(str)+ \"-\" + stockDf[\"year\"].map(str)\n",
        "\n",
        "# Select features (columns) to be involved intro training and predictions\n",
        "cols = list(stockDf)[1:7]\n",
        "\n",
        "# Extract dates (will be used in visualization)\n",
        "datelist_train = list(stockDf['Date']) \n",
        "datelist_train = [dt.datetime.strptime(date, '%Y-%m-%d').date() for date in datelist_train]\n",
        "\n",
        "print('Training set shape == {}'.format(stockDf.shape))\n",
        "print('All timestamps == {}'.format(len(datelist_train)))\n",
        "print('Featured selected: {}'.format(cols))"
      ],
      "metadata": {
        "id": "GKIxzjYwjced",
        "colab": {
          "base_uri": "https://localhost:8080/"
        },
        "outputId": "86f701d2-e82f-4f59-c708-afdb5943a576"
      },
      "execution_count": 3,
      "outputs": [
        {
          "output_type": "stream",
          "name": "stdout",
          "text": [
            "Training set shape == (254, 14)\n",
            "All timestamps == 254\n",
            "Featured selected: ['Open', 'High', 'Low', 'Close', 'Adj Close', 'Volume']\n"
          ]
        }
      ]
    },
    {
      "cell_type": "code",
      "source": [
        "[[stockDf]]"
      ],
      "metadata": {
        "id": "iM-IkVGVkE3a",
        "outputId": "90b25421-8381-485f-d471-487c3b9e0895",
        "colab": {
          "base_uri": "https://localhost:8080/"
        }
      },
      "execution_count": null,
      "outputs": [
        {
          "output_type": "execute_result",
          "data": {
            "text/plain": [
              "[[            Date         Open         High         Low        Close  \\\n",
              "  0     2010-06-29     3.800000     5.000000    3.508000     4.778000   \n",
              "  1     2010-06-30     5.158000     6.084000    4.660000     4.766000   \n",
              "  2     2010-07-01     5.000000     5.184000    4.054000     4.392000   \n",
              "  3     2010-07-02     4.600000     4.620000    3.742000     3.840000   \n",
              "  4     2010-07-06     4.000000     4.000000    3.166000     3.222000   \n",
              "  ...          ...          ...          ...         ...          ...   \n",
              "  2973  2022-04-20  1030.000000  1034.000000  975.250000   977.200012   \n",
              "  2974  2022-04-21  1074.729980  1092.219971  996.419983  1008.780029   \n",
              "  2975  2022-04-22  1014.909973  1034.849976  994.000000  1005.049988   \n",
              "  2976  2022-04-25   978.969971  1008.619995  975.299988   998.020020   \n",
              "  2977  2022-04-26   995.429993  1000.000000  875.000000   876.419983   \n",
              "  \n",
              "          Adj Close    Volume  openChange  closeChange  weekday_num  month  day  \\\n",
              "  0        4.778000  93831500         NaN          NaN            1      6   29   \n",
              "  1        4.766000  85935500    0.357368    -0.002512            2      6   30   \n",
              "  2        4.392000  41094000   -0.030632    -0.078473            3      7    1   \n",
              "  3        3.840000  25699000   -0.080000    -0.125683            4      7    2   \n",
              "  4        3.222000  34334500   -0.130435    -0.160937            1      7    6   \n",
              "  ...           ...       ...         ...          ...          ...    ...  ...   \n",
              "  2973   977.200012  23570400    0.024814    -0.049555            2      4   20   \n",
              "  2974  1008.780029  35138800    0.043427     0.032317            3      4   21   \n",
              "  2975  1005.049988  23181600   -0.055660    -0.003698            4      4   22   \n",
              "  2976   998.020020  22780400   -0.035412    -0.006995            0      4   25   \n",
              "  2977   876.419983  45147900    0.016814    -0.121841            1      4   26   \n",
              "  \n",
              "        year display  \n",
              "  0     2010  6-2010  \n",
              "  1     2010  6-2010  \n",
              "  2     2010  7-2010  \n",
              "  3     2010  7-2010  \n",
              "  4     2010  7-2010  \n",
              "  ...    ...     ...  \n",
              "  2973  2022  4-2022  \n",
              "  2974  2022  4-2022  \n",
              "  2975  2022  4-2022  \n",
              "  2976  2022  4-2022  \n",
              "  2977  2022  4-2022  \n",
              "  \n",
              "  [2978 rows x 14 columns]]]"
            ]
          },
          "metadata": {},
          "execution_count": 4
        }
      ]
    },
    {
      "cell_type": "code",
      "source": [
        "(alt.Chart(stockDf).mark_line().encode(x='Date', y='Close').properties(height=400, width=500))"
      ],
      "metadata": {
        "id": "rjBJSywVkMt6",
        "colab": {
          "base_uri": "https://localhost:8080/",
          "height": 509
        },
        "outputId": "ed9f5aec-85e0-4754-93a9-4fa001a80431"
      },
      "execution_count": 4,
      "outputs": [
        {
          "output_type": "execute_result",
          "data": {
            "text/html": [
              "\n",
              "<div id=\"altair-viz-c052555fc4904f22b63e23036b46ec74\"></div>\n",
              "<script type=\"text/javascript\">\n",
              "  var VEGA_DEBUG = (typeof VEGA_DEBUG == \"undefined\") ? {} : VEGA_DEBUG;\n",
              "  (function(spec, embedOpt){\n",
              "    let outputDiv = document.currentScript.previousElementSibling;\n",
              "    if (outputDiv.id !== \"altair-viz-c052555fc4904f22b63e23036b46ec74\") {\n",
              "      outputDiv = document.getElementById(\"altair-viz-c052555fc4904f22b63e23036b46ec74\");\n",
              "    }\n",
              "    const paths = {\n",
              "      \"vega\": \"https://cdn.jsdelivr.net/npm//vega@5?noext\",\n",
              "      \"vega-lib\": \"https://cdn.jsdelivr.net/npm//vega-lib?noext\",\n",
              "      \"vega-lite\": \"https://cdn.jsdelivr.net/npm//vega-lite@4.17.0?noext\",\n",
              "      \"vega-embed\": \"https://cdn.jsdelivr.net/npm//vega-embed@6?noext\",\n",
              "    };\n",
              "\n",
              "    function maybeLoadScript(lib, version) {\n",
              "      var key = `${lib.replace(\"-\", \"\")}_version`;\n",
              "      return (VEGA_DEBUG[key] == version) ?\n",
              "        Promise.resolve(paths[lib]) :\n",
              "        new Promise(function(resolve, reject) {\n",
              "          var s = document.createElement('script');\n",
              "          document.getElementsByTagName(\"head\")[0].appendChild(s);\n",
              "          s.async = true;\n",
              "          s.onload = () => {\n",
              "            VEGA_DEBUG[key] = version;\n",
              "            return resolve(paths[lib]);\n",
              "          };\n",
              "          s.onerror = () => reject(`Error loading script: ${paths[lib]}`);\n",
              "          s.src = paths[lib];\n",
              "        });\n",
              "    }\n",
              "\n",
              "    function showError(err) {\n",
              "      outputDiv.innerHTML = `<div class=\"error\" style=\"color:red;\">${err}</div>`;\n",
              "      throw err;\n",
              "    }\n",
              "\n",
              "    function displayChart(vegaEmbed) {\n",
              "      vegaEmbed(outputDiv, spec, embedOpt)\n",
              "        .catch(err => showError(`Javascript Error: ${err.message}<br>This usually means there's a typo in your chart specification. See the javascript console for the full traceback.`));\n",
              "    }\n",
              "\n",
              "    if(typeof define === \"function\" && define.amd) {\n",
              "      requirejs.config({paths});\n",
              "      require([\"vega-embed\"], displayChart, err => showError(`Error loading script: ${err.message}`));\n",
              "    } else {\n",
              "      maybeLoadScript(\"vega\", \"5\")\n",
              "        .then(() => maybeLoadScript(\"vega-lite\", \"4.17.0\"))\n",
              "        .then(() => maybeLoadScript(\"vega-embed\", \"6\"))\n",
              "        .catch(showError)\n",
              "        .then(() => displayChart(vegaEmbed));\n",
              "    }\n",
              "  })({\"config\": {\"view\": {\"continuousWidth\": 400, \"continuousHeight\": 300}}, \"data\": {\"name\": \"data-6761cdf1a08b0a20e5a3d382a03dc42c\"}, \"mark\": \"line\", \"encoding\": {\"x\": {\"field\": \"Date\", \"type\": \"nominal\"}, \"y\": {\"field\": \"Close\", \"type\": \"quantitative\"}}, \"height\": 400, \"width\": 500, \"$schema\": \"https://vega.github.io/schema/vega-lite/v4.17.0.json\", \"datasets\": {\"data-6761cdf1a08b0a20e5a3d382a03dc42c\": [{\"Date\": \"2021-04-27\", \"Open\": 135.009995, \"High\": 135.410004, \"Low\": 134.110001, \"Close\": 134.389999, \"Adj Close\": 133.595963, \"Volume\": 66015800, \"openChange\": null, \"closeChange\": null, \"weekday_num\": 1, \"month\": 4, \"day\": 27, \"year\": 2021, \"display\": \"4-2021\"}, {\"Date\": \"2021-04-28\", \"Open\": 134.309998, \"High\": 135.020004, \"Low\": 133.080002, \"Close\": 133.580002, \"Adj Close\": 132.790741, \"Volume\": 107760100, \"openChange\": -0.005184779097280878, \"closeChange\": -0.006027211890967998, \"weekday_num\": 2, \"month\": 4, \"day\": 28, \"year\": 2021, \"display\": \"4-2021\"}, {\"Date\": \"2021-04-29\", \"Open\": 136.470001, \"High\": 137.070007, \"Low\": 132.449997, \"Close\": 133.479996, \"Adj Close\": 132.691345, \"Volume\": 151101000, \"openChange\": 0.016082220476244746, \"closeChange\": -0.0007486599678296901, \"weekday_num\": 3, \"month\": 4, \"day\": 29, \"year\": 2021, \"display\": \"4-2021\"}, {\"Date\": \"2021-04-30\", \"Open\": 131.779999, \"High\": 133.559998, \"Low\": 131.070007, \"Close\": 131.460007, \"Adj Close\": 130.683289, \"Volume\": 109839500, \"openChange\": -0.03436654184533927, \"closeChange\": -0.015133271355507127, \"weekday_num\": 4, \"month\": 4, \"day\": 30, \"year\": 2021, \"display\": \"4-2021\"}, {\"Date\": \"2021-05-03\", \"Open\": 132.039993, \"High\": 134.070007, \"Low\": 131.830002, \"Close\": 132.539993, \"Adj Close\": 131.756882, \"Volume\": 75135100, \"openChange\": 0.001972939763036363, \"closeChange\": 0.008215319812055144, \"weekday_num\": 0, \"month\": 5, \"day\": 3, \"year\": 2021, \"display\": \"5-2021\"}, {\"Date\": \"2021-05-04\", \"Open\": 131.190002, \"High\": 131.490005, \"Low\": 126.699997, \"Close\": 127.849998, \"Adj Close\": 127.094604, \"Volume\": 137564700, \"openChange\": -0.00643737537914002, \"closeChange\": -0.0353855081311194, \"weekday_num\": 1, \"month\": 5, \"day\": 4, \"year\": 2021, \"display\": \"5-2021\"}, {\"Date\": \"2021-05-05\", \"Open\": 129.199997, \"High\": 130.449997, \"Low\": 127.970001, \"Close\": 128.100006, \"Adj Close\": 127.34314, \"Volume\": 84000900, \"openChange\": -0.015168876969755662, \"closeChange\": 0.0019554791076337175, \"weekday_num\": 2, \"month\": 5, \"day\": 5, \"year\": 2021, \"display\": \"5-2021\"}, {\"Date\": \"2021-05-06\", \"Open\": 127.889999, \"High\": 129.75, \"Low\": 127.129997, \"Close\": 129.740005, \"Adj Close\": 128.97345, \"Volume\": 78128300, \"openChange\": -0.01013930364100546, \"closeChange\": 0.012802489642350201, \"weekday_num\": 3, \"month\": 5, \"day\": 6, \"year\": 2021, \"display\": \"5-2021\"}, {\"Date\": \"2021-05-07\", \"Open\": 130.850006, \"High\": 131.259995, \"Low\": 129.479996, \"Close\": 130.210007, \"Adj Close\": 129.660538, \"Volume\": 78973300, \"openChange\": 0.02314494505547704, \"closeChange\": 0.003622645150969328, \"weekday_num\": 4, \"month\": 5, \"day\": 7, \"year\": 2021, \"display\": \"5-2021\"}, {\"Date\": \"2021-05-10\", \"Open\": 129.410004, \"High\": 129.539993, \"Low\": 126.809998, \"Close\": 126.849998, \"Adj Close\": 126.314705, \"Volume\": 88071200, \"openChange\": -0.011004982300115596, \"closeChange\": -0.025804537434668817, \"weekday_num\": 0, \"month\": 5, \"day\": 10, \"year\": 2021, \"display\": \"5-2021\"}, {\"Date\": \"2021-05-11\", \"Open\": 123.5, \"High\": 126.269997, \"Low\": 122.769997, \"Close\": 125.910004, \"Adj Close\": 125.378685, \"Volume\": 126142800, \"openChange\": -0.04566883407251876, \"closeChange\": -0.007410279974935374, \"weekday_num\": 1, \"month\": 5, \"day\": 11, \"year\": 2021, \"display\": \"5-2021\"}, {\"Date\": \"2021-05-12\", \"Open\": 123.400002, \"High\": 124.639999, \"Low\": 122.25, \"Close\": 122.769997, \"Adj Close\": 122.25193, \"Volume\": 112172300, \"openChange\": -0.0008097004048582823, \"closeChange\": -0.024938502900849646, \"weekday_num\": 2, \"month\": 5, \"day\": 12, \"year\": 2021, \"display\": \"5-2021\"}, {\"Date\": \"2021-05-13\", \"Open\": 124.580002, \"High\": 126.150002, \"Low\": 124.260002, \"Close\": 124.970001, \"Adj Close\": 124.44265, \"Volume\": 105861300, \"openChange\": 0.009562398548421447, \"closeChange\": 0.01791972023913946, \"weekday_num\": 3, \"month\": 5, \"day\": 13, \"year\": 2021, \"display\": \"5-2021\"}, {\"Date\": \"2021-05-14\", \"Open\": 126.25, \"High\": 127.889999, \"Low\": 125.849998, \"Close\": 127.449997, \"Adj Close\": 126.912178, \"Volume\": 81918000, \"openChange\": 0.01340502466840543, \"closeChange\": 0.019844730576580538, \"weekday_num\": 4, \"month\": 5, \"day\": 14, \"year\": 2021, \"display\": \"5-2021\"}, {\"Date\": \"2021-05-17\", \"Open\": 126.82, \"High\": 126.93, \"Low\": 125.169998, \"Close\": 126.269997, \"Adj Close\": 125.737152, \"Volume\": 74244600, \"openChange\": 0.004514851485148519, \"closeChange\": -0.009258532975877531, \"weekday_num\": 0, \"month\": 5, \"day\": 17, \"year\": 2021, \"display\": \"5-2021\"}, {\"Date\": \"2021-05-18\", \"Open\": 126.559998, \"High\": 126.989998, \"Low\": 124.779999, \"Close\": 124.849998, \"Adj Close\": 124.323158, \"Volume\": 63342900, \"openChange\": -0.0020501655890238224, \"closeChange\": -0.01124573559623987, \"weekday_num\": 1, \"month\": 5, \"day\": 18, \"year\": 2021, \"display\": \"5-2021\"}, {\"Date\": \"2021-05-19\", \"Open\": 123.160004, \"High\": 124.919998, \"Low\": 122.860001, \"Close\": 124.690002, \"Adj Close\": 124.163826, \"Volume\": 92612000, \"openChange\": -0.026864681208354613, \"closeChange\": -0.001281505827496976, \"weekday_num\": 2, \"month\": 5, \"day\": 19, \"year\": 2021, \"display\": \"5-2021\"}, {\"Date\": \"2021-05-20\", \"Open\": 125.230003, \"High\": 127.720001, \"Low\": 125.099998, \"Close\": 127.309998, \"Adj Close\": 126.772766, \"Volume\": 76857100, \"openChange\": 0.016807396336232516, \"closeChange\": 0.021012077616294977, \"weekday_num\": 3, \"month\": 5, \"day\": 20, \"year\": 2021, \"display\": \"5-2021\"}, {\"Date\": \"2021-05-21\", \"Open\": 127.82, \"High\": 128.0, \"Low\": 125.209999, \"Close\": 125.43, \"Adj Close\": 124.900703, \"Volume\": 79295400, \"openChange\": 0.020681920769418216, \"closeChange\": -0.014767088441867582, \"weekday_num\": 4, \"month\": 5, \"day\": 21, \"year\": 2021, \"display\": \"5-2021\"}, {\"Date\": \"2021-05-24\", \"Open\": 126.010002, \"High\": 127.940002, \"Low\": 125.940002, \"Close\": 127.099998, \"Adj Close\": 126.563652, \"Volume\": 63092900, \"openChange\": -0.014160522609920179, \"closeChange\": 0.013314183209758301, \"weekday_num\": 0, \"month\": 5, \"day\": 24, \"year\": 2021, \"display\": \"5-2021\"}, {\"Date\": \"2021-05-25\", \"Open\": 127.82, \"High\": 128.320007, \"Low\": 126.32, \"Close\": 126.900002, \"Adj Close\": 126.364502, \"Volume\": 72009500, \"openChange\": 0.014363923270154233, \"closeChange\": -0.0015735326762160717, \"weekday_num\": 1, \"month\": 5, \"day\": 25, \"year\": 2021, \"display\": \"5-2021\"}, {\"Date\": \"2021-05-26\", \"Open\": 126.959999, \"High\": 127.389999, \"Low\": 126.419998, \"Close\": 126.849998, \"Adj Close\": 126.314705, \"Volume\": 56575900, \"openChange\": -0.00672821937099044, \"closeChange\": -0.0003940425469811659, \"weekday_num\": 2, \"month\": 5, \"day\": 26, \"year\": 2021, \"display\": \"5-2021\"}, {\"Date\": \"2021-05-27\", \"Open\": 126.440002, \"High\": 127.639999, \"Low\": 125.080002, \"Close\": 125.279999, \"Adj Close\": 124.751335, \"Volume\": 94625600, \"openChange\": -0.004095754600628054, \"closeChange\": -0.012376815331128332, \"weekday_num\": 3, \"month\": 5, \"day\": 27, \"year\": 2021, \"display\": \"5-2021\"}, {\"Date\": \"2021-05-28\", \"Open\": 125.57, \"High\": 125.800003, \"Low\": 124.550003, \"Close\": 124.610001, \"Adj Close\": 124.08416, \"Volume\": 71311100, \"openChange\": -0.006880749653895291, \"closeChange\": -0.005348004512675697, \"weekday_num\": 4, \"month\": 5, \"day\": 28, \"year\": 2021, \"display\": \"5-2021\"}, {\"Date\": \"2021-06-01\", \"Open\": 125.080002, \"High\": 125.349998, \"Low\": 123.940002, \"Close\": 124.279999, \"Adj Close\": 123.755547, \"Volume\": 67637100, \"openChange\": -0.003902190013538309, \"closeChange\": -0.002648278608070931, \"weekday_num\": 1, \"month\": 6, \"day\": 1, \"year\": 2021, \"display\": \"6-2021\"}, {\"Date\": \"2021-06-02\", \"Open\": 124.279999, \"High\": 125.239998, \"Low\": 124.050003, \"Close\": 125.059998, \"Adj Close\": 124.532265, \"Volume\": 59278900, \"openChange\": -0.00639593050214371, \"closeChange\": 0.006276142631768122, \"weekday_num\": 2, \"month\": 6, \"day\": 2, \"year\": 2021, \"display\": \"6-2021\"}, {\"Date\": \"2021-06-03\", \"Open\": 124.68, \"High\": 124.849998, \"Low\": 123.129997, \"Close\": 123.540001, \"Adj Close\": 123.018684, \"Volume\": 76229200, \"openChange\": 0.003218546855636939, \"closeChange\": -0.012154142206207252, \"weekday_num\": 3, \"month\": 6, \"day\": 3, \"year\": 2021, \"display\": \"6-2021\"}, {\"Date\": \"2021-06-04\", \"Open\": 124.07, \"High\": 126.160004, \"Low\": 123.849998, \"Close\": 125.889999, \"Adj Close\": 125.358765, \"Volume\": 75169300, \"openChange\": -0.004892524863651104, \"closeChange\": 0.019022162708255186, \"weekday_num\": 4, \"month\": 6, \"day\": 4, \"year\": 2021, \"display\": \"6-2021\"}, {\"Date\": \"2021-06-07\", \"Open\": 126.169998, \"High\": 126.32, \"Low\": 124.830002, \"Close\": 125.900002, \"Adj Close\": 125.368729, \"Volume\": 71057600, \"openChange\": 0.016925912791166287, \"closeChange\": 7.945825783983729e-05, \"weekday_num\": 0, \"month\": 6, \"day\": 7, \"year\": 2021, \"display\": \"6-2021\"}, {\"Date\": \"2021-06-08\", \"Open\": 126.599998, \"High\": 128.460007, \"Low\": 126.209999, \"Close\": 126.739998, \"Adj Close\": 126.205177, \"Volume\": 74403800, \"openChange\": 0.003408100236317546, \"closeChange\": 0.006671929997268844, \"weekday_num\": 1, \"month\": 6, \"day\": 8, \"year\": 2021, \"display\": \"6-2021\"}, {\"Date\": \"2021-06-09\", \"Open\": 127.209999, \"High\": 127.75, \"Low\": 126.519997, \"Close\": 127.129997, \"Adj Close\": 126.593529, \"Volume\": 56877900, \"openChange\": 0.004818333409452258, \"closeChange\": 0.003077158009739067, \"weekday_num\": 2, \"month\": 6, \"day\": 9, \"year\": 2021, \"display\": \"6-2021\"}, {\"Date\": \"2021-06-10\", \"Open\": 127.019997, \"High\": 128.190002, \"Low\": 125.940002, \"Close\": 126.110001, \"Adj Close\": 125.577843, \"Volume\": 71186400, \"openChange\": -0.0014936090047449335, \"closeChange\": -0.008023251978838686, \"weekday_num\": 3, \"month\": 6, \"day\": 10, \"year\": 2021, \"display\": \"6-2021\"}, {\"Date\": \"2021-06-11\", \"Open\": 126.529999, \"High\": 127.440002, \"Low\": 126.099998, \"Close\": 127.349998, \"Adj Close\": 126.812592, \"Volume\": 53522400, \"openChange\": -0.0038576445565495776, \"closeChange\": 0.00983266188381049, \"weekday_num\": 4, \"month\": 6, \"day\": 11, \"year\": 2021, \"display\": \"6-2021\"}, {\"Date\": \"2021-06-14\", \"Open\": 127.82, \"High\": 130.539993, \"Low\": 127.07, \"Close\": 130.479996, \"Adj Close\": 129.929382, \"Volume\": 96906500, \"openChange\": 0.010195218605826284, \"closeChange\": 0.024577919506524104, \"weekday_num\": 0, \"month\": 6, \"day\": 14, \"year\": 2021, \"display\": \"6-2021\"}, {\"Date\": \"2021-06-15\", \"Open\": 129.940002, \"High\": 130.600006, \"Low\": 129.389999, \"Close\": 129.639999, \"Adj Close\": 129.092941, \"Volume\": 62746300, \"openChange\": 0.01658583946174308, \"closeChange\": -0.006437745445669774, \"weekday_num\": 1, \"month\": 6, \"day\": 15, \"year\": 2021, \"display\": \"6-2021\"}, {\"Date\": \"2021-06-16\", \"Open\": 130.369995, \"High\": 130.889999, \"Low\": 128.460007, \"Close\": 130.149994, \"Adj Close\": 129.600784, \"Volume\": 91815000, \"openChange\": 0.003309165717882534, \"closeChange\": 0.003933932458608069, \"weekday_num\": 2, \"month\": 6, \"day\": 16, \"year\": 2021, \"display\": \"6-2021\"}, {\"Date\": \"2021-06-17\", \"Open\": 129.800003, \"High\": 132.550003, \"Low\": 129.649994, \"Close\": 131.789993, \"Adj Close\": 131.233856, \"Volume\": 96721700, \"openChange\": -0.004372110315720934, \"closeChange\": 0.012600838076104903, \"weekday_num\": 3, \"month\": 6, \"day\": 17, \"year\": 2021, \"display\": \"6-2021\"}, {\"Date\": \"2021-06-18\", \"Open\": 130.710007, \"High\": 131.509995, \"Low\": 130.240005, \"Close\": 130.460007, \"Adj Close\": 129.909485, \"Volume\": 108953300, \"openChange\": 0.007010816478948634, \"closeChange\": -0.0100917070387887, \"weekday_num\": 4, \"month\": 6, \"day\": 18, \"year\": 2021, \"display\": \"6-2021\"}, {\"Date\": \"2021-06-21\", \"Open\": 130.300003, \"High\": 132.410004, \"Low\": 129.210007, \"Close\": 132.300003, \"Adj Close\": 131.741714, \"Volume\": 79663300, \"openChange\": -0.003136745299080146, \"closeChange\": 0.014103908487449468, \"weekday_num\": 0, \"month\": 6, \"day\": 21, \"year\": 2021, \"display\": \"6-2021\"}, {\"Date\": \"2021-06-22\", \"Open\": 132.130005, \"High\": 134.080002, \"Low\": 131.619995, \"Close\": 133.979996, \"Adj Close\": 133.414612, \"Volume\": 74783600, \"openChange\": 0.014044527688921171, \"closeChange\": 0.01269835950041509, \"weekday_num\": 1, \"month\": 6, \"day\": 22, \"year\": 2021, \"display\": \"6-2021\"}, {\"Date\": \"2021-06-23\", \"Open\": 133.770004, \"High\": 134.320007, \"Low\": 133.229996, \"Close\": 133.699997, \"Adj Close\": 133.135803, \"Volume\": 60214200, \"openChange\": 0.012412010428668241, \"closeChange\": -0.002089856757422237, \"weekday_num\": 2, \"month\": 6, \"day\": 23, \"year\": 2021, \"display\": \"6-2021\"}, {\"Date\": \"2021-06-24\", \"Open\": 134.449997, \"High\": 134.639999, \"Low\": 132.929993, \"Close\": 133.410004, \"Adj Close\": 132.847031, \"Volume\": 68711000, \"openChange\": 0.005083299541502662, \"closeChange\": -0.0021689828459757754, \"weekday_num\": 3, \"month\": 6, \"day\": 24, \"year\": 2021, \"display\": \"6-2021\"}, {\"Date\": \"2021-06-25\", \"Open\": 133.460007, \"High\": 133.889999, \"Low\": 132.809998, \"Close\": 133.110001, \"Adj Close\": 132.548294, \"Volume\": 70783700, \"openChange\": -0.007363257880920626, \"closeChange\": -0.002248729413125372, \"weekday_num\": 4, \"month\": 6, \"day\": 25, \"year\": 2021, \"display\": \"6-2021\"}, {\"Date\": \"2021-06-28\", \"Open\": 133.410004, \"High\": 135.25, \"Low\": 133.350006, \"Close\": 134.779999, \"Adj Close\": 134.211243, \"Volume\": 62111300, \"openChange\": -0.0003746665471102695, \"closeChange\": 0.01254599945499213, \"weekday_num\": 0, \"month\": 6, \"day\": 28, \"year\": 2021, \"display\": \"6-2021\"}, {\"Date\": \"2021-06-29\", \"Open\": 134.800003, \"High\": 136.490005, \"Low\": 134.350006, \"Close\": 136.330002, \"Adj Close\": 135.7547, \"Volume\": 64556100, \"openChange\": 0.010419001261704697, \"closeChange\": 0.011500244928774661, \"weekday_num\": 1, \"month\": 6, \"day\": 29, \"year\": 2021, \"display\": \"6-2021\"}, {\"Date\": \"2021-06-30\", \"Open\": 136.169998, \"High\": 137.410004, \"Low\": 135.869995, \"Close\": 136.960007, \"Adj Close\": 136.38205, \"Volume\": 63261400, \"openChange\": 0.010163167429602993, \"closeChange\": 0.004621176489089995, \"weekday_num\": 2, \"month\": 6, \"day\": 30, \"year\": 2021, \"display\": \"6-2021\"}, {\"Date\": \"2021-07-01\", \"Open\": 136.600006, \"High\": 137.330002, \"Low\": 135.759995, \"Close\": 137.270004, \"Adj Close\": 136.69075, \"Volume\": 52485800, \"openChange\": 0.0031578762305630725, \"closeChange\": 0.0022634125595510923, \"weekday_num\": 3, \"month\": 7, \"day\": 1, \"year\": 2021, \"display\": \"7-2021\"}, {\"Date\": \"2021-07-02\", \"Open\": 137.899994, \"High\": 140.0, \"Low\": 137.75, \"Close\": 139.960007, \"Adj Close\": 139.3694, \"Volume\": 78852600, \"openChange\": 0.009516749215955356, \"closeChange\": 0.019596437106536246, \"weekday_num\": 4, \"month\": 7, \"day\": 2, \"year\": 2021, \"display\": \"7-2021\"}, {\"Date\": \"2021-07-06\", \"Open\": 140.070007, \"High\": 143.149994, \"Low\": 140.070007, \"Close\": 142.020004, \"Adj Close\": 141.420715, \"Volume\": 108181800, \"openChange\": 0.015736135565024068, \"closeChange\": 0.014718468826598441, \"weekday_num\": 1, \"month\": 7, \"day\": 6, \"year\": 2021, \"display\": \"7-2021\"}, {\"Date\": \"2021-07-07\", \"Open\": 143.539993, \"High\": 144.889999, \"Low\": 142.660004, \"Close\": 144.570007, \"Adj Close\": 143.959946, \"Volume\": 104911600, \"openChange\": 0.02477322643383606, \"closeChange\": 0.01795523819306477, \"weekday_num\": 2, \"month\": 7, \"day\": 7, \"year\": 2021, \"display\": \"7-2021\"}, {\"Date\": \"2021-07-08\", \"Open\": 141.580002, \"High\": 144.059998, \"Low\": 140.669998, \"Close\": 143.240005, \"Adj Close\": 142.635544, \"Volume\": 105575500, \"openChange\": -0.013654668354345034, \"closeChange\": -0.009199709037850501, \"weekday_num\": 3, \"month\": 7, \"day\": 8, \"year\": 2021, \"display\": \"7-2021\"}, {\"Date\": \"2021-07-09\", \"Open\": 142.75, \"High\": 145.649994, \"Low\": 142.649994, \"Close\": 145.110001, \"Adj Close\": 144.49765, \"Volume\": 99890800, \"openChange\": 0.008263864835939216, \"closeChange\": 0.013054984185458585, \"weekday_num\": 4, \"month\": 7, \"day\": 9, \"year\": 2021, \"display\": \"7-2021\"}, {\"Date\": \"2021-07-12\", \"Open\": 146.210007, \"High\": 146.320007, \"Low\": 144.0, \"Close\": 144.5, \"Adj Close\": 143.890228, \"Volume\": 76299700, \"openChange\": 0.0242382276707529, \"closeChange\": -0.004203714394571678, \"weekday_num\": 0, \"month\": 7, \"day\": 12, \"year\": 2021, \"display\": \"7-2021\"}, {\"Date\": \"2021-07-13\", \"Open\": 144.029999, \"High\": 147.460007, \"Low\": 143.630005, \"Close\": 145.639999, \"Adj Close\": 145.025421, \"Volume\": 100827100, \"openChange\": -0.014910114873327274, \"closeChange\": 0.007889266435985975, \"weekday_num\": 1, \"month\": 7, \"day\": 13, \"year\": 2021, \"display\": \"7-2021\"}, {\"Date\": \"2021-07-14\", \"Open\": 148.100006, \"High\": 149.570007, \"Low\": 147.679993, \"Close\": 149.149994, \"Adj Close\": 148.520599, \"Volume\": 127050800, \"openChange\": 0.028258050602361084, \"closeChange\": 0.02410048766891304, \"weekday_num\": 2, \"month\": 7, \"day\": 14, \"year\": 2021, \"display\": \"7-2021\"}, {\"Date\": \"2021-07-15\", \"Open\": 149.240005, \"High\": 150.0, \"Low\": 147.089996, \"Close\": 148.479996, \"Adj Close\": 147.853439, \"Volume\": 106820300, \"openChange\": 0.007697494624004264, \"closeChange\": -0.004492108796196104, \"weekday_num\": 3, \"month\": 7, \"day\": 15, \"year\": 2021, \"display\": \"7-2021\"}, {\"Date\": \"2021-07-16\", \"Open\": 148.460007, \"High\": 149.759995, \"Low\": 145.880005, \"Close\": 146.389999, \"Adj Close\": 145.772247, \"Volume\": 93251400, \"openChange\": -0.00522646725990128, \"closeChange\": -0.01407595000204609, \"weekday_num\": 4, \"month\": 7, \"day\": 16, \"year\": 2021, \"display\": \"7-2021\"}, {\"Date\": \"2021-07-19\", \"Open\": 143.75, \"High\": 144.070007, \"Low\": 141.669998, \"Close\": 142.449997, \"Adj Close\": 141.848892, \"Volume\": 121434600, \"openChange\": -0.0317257630198009, \"closeChange\": -0.026914420567760167, \"weekday_num\": 0, \"month\": 7, \"day\": 19, \"year\": 2021, \"display\": \"7-2021\"}, {\"Date\": \"2021-07-20\", \"Open\": 143.460007, \"High\": 147.100006, \"Low\": 142.960007, \"Close\": 146.149994, \"Adj Close\": 145.533264, \"Volume\": 96350000, \"openChange\": -0.0020173426086956825, \"closeChange\": 0.025974005461018024, \"weekday_num\": 1, \"month\": 7, \"day\": 20, \"year\": 2021, \"display\": \"7-2021\"}, {\"Date\": \"2021-07-21\", \"Open\": 145.529999, \"High\": 146.130005, \"Low\": 144.630005, \"Close\": 145.399994, \"Adj Close\": 144.786438, \"Volume\": 74993500, \"openChange\": 0.014429052690622113, \"closeChange\": -0.005131714203149396, \"weekday_num\": 2, \"month\": 7, \"day\": 21, \"year\": 2021, \"display\": \"7-2021\"}, {\"Date\": \"2021-07-22\", \"Open\": 145.940002, \"High\": 148.199997, \"Low\": 145.809998, \"Close\": 146.800003, \"Adj Close\": 146.180527, \"Volume\": 77338200, \"openChange\": 0.002817309165239479, \"closeChange\": 0.009628673024567158, \"weekday_num\": 3, \"month\": 7, \"day\": 22, \"year\": 2021, \"display\": \"7-2021\"}, {\"Date\": \"2021-07-23\", \"Open\": 147.550003, \"High\": 148.720001, \"Low\": 146.919998, \"Close\": 148.559998, \"Adj Close\": 147.933105, \"Volume\": 71447400, \"openChange\": 0.011031937631465816, \"closeChange\": 0.011989066512485103, \"weekday_num\": 4, \"month\": 7, \"day\": 23, \"year\": 2021, \"display\": \"7-2021\"}, {\"Date\": \"2021-07-26\", \"Open\": 148.270004, \"High\": 149.830002, \"Low\": 147.699997, \"Close\": 148.990005, \"Adj Close\": 148.361298, \"Volume\": 72434100, \"openChange\": 0.004879708474150313, \"closeChange\": 0.002894500577470316, \"weekday_num\": 0, \"month\": 7, \"day\": 26, \"year\": 2021, \"display\": \"7-2021\"}, {\"Date\": \"2021-07-27\", \"Open\": 149.119995, \"High\": 149.210007, \"Low\": 145.550003, \"Close\": 146.770004, \"Adj Close\": 146.15065, \"Volume\": 104818600, \"openChange\": 0.005732723929784189, \"closeChange\": -0.01490033509294797, \"weekday_num\": 1, \"month\": 7, \"day\": 27, \"year\": 2021, \"display\": \"7-2021\"}, {\"Date\": \"2021-07-28\", \"Open\": 144.809998, \"High\": 146.970001, \"Low\": 142.539993, \"Close\": 144.979996, \"Adj Close\": 144.36821, \"Volume\": 118931200, \"openChange\": -0.028902877846797015, \"closeChange\": -0.012196007026067823, \"weekday_num\": 2, \"month\": 7, \"day\": 28, \"year\": 2021, \"display\": \"7-2021\"}, {\"Date\": \"2021-07-29\", \"Open\": 144.690002, \"High\": 146.550003, \"Low\": 144.580002, \"Close\": 145.639999, \"Adj Close\": 145.025421, \"Volume\": 56699500, \"openChange\": -0.0008286444420779748, \"closeChange\": 0.004552372866667653, \"weekday_num\": 3, \"month\": 7, \"day\": 29, \"year\": 2021, \"display\": \"7-2021\"}, {\"Date\": \"2021-07-30\", \"Open\": 144.380005, \"High\": 146.330002, \"Low\": 144.110001, \"Close\": 145.860001, \"Adj Close\": 145.244492, \"Volume\": 70440600, \"openChange\": -0.0021424908128757636, \"closeChange\": 0.001510587760990223, \"weekday_num\": 4, \"month\": 7, \"day\": 30, \"year\": 2021, \"display\": \"7-2021\"}, {\"Date\": \"2021-08-02\", \"Open\": 146.360001, \"High\": 146.949997, \"Low\": 145.25, \"Close\": 145.520004, \"Adj Close\": 144.90593, \"Volume\": 62880000, \"openChange\": 0.01371378259752798, \"closeChange\": -0.0023309817473537997, \"weekday_num\": 0, \"month\": 8, \"day\": 2, \"year\": 2021, \"display\": \"8-2021\"}, {\"Date\": \"2021-08-03\", \"Open\": 145.809998, \"High\": 148.039993, \"Low\": 145.179993, \"Close\": 147.360001, \"Adj Close\": 146.738159, \"Volume\": 64786600, \"openChange\": -0.0037578778097986376, \"closeChange\": 0.012644289097188288, \"weekday_num\": 1, \"month\": 8, \"day\": 3, \"year\": 2021, \"display\": \"8-2021\"}, {\"Date\": \"2021-08-04\", \"Open\": 147.270004, \"High\": 147.789993, \"Low\": 146.279999, \"Close\": 146.949997, \"Adj Close\": 146.329895, \"Volume\": 56368300, \"openChange\": 0.010013071943118623, \"closeChange\": -0.0027823289713468924, \"weekday_num\": 2, \"month\": 8, \"day\": 4, \"year\": 2021, \"display\": \"8-2021\"}, {\"Date\": \"2021-08-05\", \"Open\": 146.979996, \"High\": 147.839996, \"Low\": 146.169998, \"Close\": 147.059998, \"Adj Close\": 146.439423, \"Volume\": 46397700, \"openChange\": -0.00196922653712972, \"closeChange\": 0.0007485607502257796, \"weekday_num\": 3, \"month\": 8, \"day\": 5, \"year\": 2021, \"display\": \"8-2021\"}, {\"Date\": \"2021-08-06\", \"Open\": 146.350006, \"High\": 147.110001, \"Low\": 145.630005, \"Close\": 146.139999, \"Adj Close\": 145.741333, \"Volume\": 54126800, \"openChange\": -0.004286229535616526, \"closeChange\": -0.006255943237535089, \"weekday_num\": 4, \"month\": 8, \"day\": 6, \"year\": 2021, \"display\": \"8-2021\"}, {\"Date\": \"2021-08-09\", \"Open\": 146.199997, \"High\": 146.699997, \"Low\": 145.520004, \"Close\": 146.089996, \"Adj Close\": 145.691467, \"Volume\": 48908700, \"openChange\": -0.0010250016662111117, \"closeChange\": -0.0003421582068026119, \"weekday_num\": 0, \"month\": 8, \"day\": 9, \"year\": 2021, \"display\": \"8-2021\"}, {\"Date\": \"2021-08-10\", \"Open\": 146.440002, \"High\": 147.710007, \"Low\": 145.300003, \"Close\": 145.600006, \"Adj Close\": 145.20282, \"Volume\": 69023100, \"openChange\": 0.0016416211007173054, \"closeChange\": -0.0033540284305298984, \"weekday_num\": 1, \"month\": 8, \"day\": 10, \"year\": 2021, \"display\": \"8-2021\"}, {\"Date\": \"2021-08-11\", \"Open\": 146.050003, \"High\": 146.720001, \"Low\": 145.529999, \"Close\": 145.860001, \"Adj Close\": 145.462112, \"Volume\": 48493500, \"openChange\": -0.002663199908997438, \"closeChange\": 0.00178567987146927, \"weekday_num\": 2, \"month\": 8, \"day\": 11, \"year\": 2021, \"display\": \"8-2021\"}, {\"Date\": \"2021-08-12\", \"Open\": 146.190002, \"High\": 149.050003, \"Low\": 145.839996, \"Close\": 148.889999, \"Adj Close\": 148.483841, \"Volume\": 72282600, \"openChange\": 0.000958568963534967, \"closeChange\": 0.02077333044855778, \"weekday_num\": 3, \"month\": 8, \"day\": 12, \"year\": 2021, \"display\": \"8-2021\"}, {\"Date\": \"2021-08-13\", \"Open\": 148.970001, \"High\": 149.440002, \"Low\": 148.270004, \"Close\": 149.100006, \"Adj Close\": 148.693268, \"Volume\": 59375000, \"openChange\": 0.01901634148688225, \"closeChange\": 0.001410484259591005, \"weekday_num\": 4, \"month\": 8, \"day\": 13, \"year\": 2021, \"display\": \"8-2021\"}, {\"Date\": \"2021-08-16\", \"Open\": 148.539993, \"High\": 151.190002, \"Low\": 146.470001, \"Close\": 151.119995, \"Adj Close\": 150.707748, \"Volume\": 103296000, \"openChange\": -0.002886540894901257, \"closeChange\": 0.01354788007184915, \"weekday_num\": 0, \"month\": 8, \"day\": 16, \"year\": 2021, \"display\": \"8-2021\"}, {\"Date\": \"2021-08-17\", \"Open\": 150.229996, \"High\": 151.679993, \"Low\": 149.089996, \"Close\": 150.190002, \"Adj Close\": 149.780304, \"Volume\": 92229700, \"openChange\": 0.011377427491867431, \"closeChange\": -0.00615400364458718, \"weekday_num\": 1, \"month\": 8, \"day\": 17, \"year\": 2021, \"display\": \"8-2021\"}, {\"Date\": \"2021-08-18\", \"Open\": 149.800003, \"High\": 150.720001, \"Low\": 146.149994, \"Close\": 146.360001, \"Adj Close\": 145.960739, \"Volume\": 86326000, \"openChange\": -0.002862231321632991, \"closeChange\": -0.02550103834474937, \"weekday_num\": 2, \"month\": 8, \"day\": 18, \"year\": 2021, \"display\": \"8-2021\"}, {\"Date\": \"2021-08-19\", \"Open\": 145.029999, \"High\": 148.0, \"Low\": 144.5, \"Close\": 146.699997, \"Adj Close\": 146.29982, \"Volume\": 86960300, \"openChange\": -0.03184248267338152, \"closeChange\": 0.002323011735972713, \"weekday_num\": 3, \"month\": 8, \"day\": 19, \"year\": 2021, \"display\": \"8-2021\"}, {\"Date\": \"2021-08-20\", \"Open\": 147.440002, \"High\": 148.5, \"Low\": 146.779999, \"Close\": 148.190002, \"Adj Close\": 147.785751, \"Volume\": 60549600, \"openChange\": 0.016617272403070205, \"closeChange\": 0.01015681684028924, \"weekday_num\": 4, \"month\": 8, \"day\": 20, \"year\": 2021, \"display\": \"8-2021\"}, {\"Date\": \"2021-08-23\", \"Open\": 148.309998, \"High\": 150.190002, \"Low\": 147.889999, \"Close\": 149.710007, \"Adj Close\": 149.30162, \"Volume\": 60131800, \"openChange\": 0.005900678161955053, \"closeChange\": 0.010257135970616948, \"weekday_num\": 0, \"month\": 8, \"day\": 23, \"year\": 2021, \"display\": \"8-2021\"}, {\"Date\": \"2021-08-24\", \"Open\": 149.449997, \"High\": 150.860001, \"Low\": 149.149994, \"Close\": 149.619995, \"Adj Close\": 149.211838, \"Volume\": 48606400, \"openChange\": 0.007686595747914415, \"closeChange\": -0.0006012423738648298, \"weekday_num\": 1, \"month\": 8, \"day\": 24, \"year\": 2021, \"display\": \"8-2021\"}, {\"Date\": \"2021-08-25\", \"Open\": 149.809998, \"High\": 150.320007, \"Low\": 147.800003, \"Close\": 148.360001, \"Adj Close\": 147.955276, \"Volume\": 58991300, \"openChange\": 0.002408839124968365, \"closeChange\": -0.008421294226082399, \"weekday_num\": 2, \"month\": 8, \"day\": 25, \"year\": 2021, \"display\": \"8-2021\"}, {\"Date\": \"2021-08-26\", \"Open\": 148.350006, \"High\": 149.119995, \"Low\": 147.509995, \"Close\": 147.539993, \"Adj Close\": 147.137527, \"Volume\": 48597200, \"openChange\": -0.009745624587752855, \"closeChange\": -0.00552715013799443, \"weekday_num\": 3, \"month\": 8, \"day\": 26, \"year\": 2021, \"display\": \"8-2021\"}, {\"Date\": \"2021-08-27\", \"Open\": 147.479996, \"High\": 148.75, \"Low\": 146.830002, \"Close\": 148.600006, \"Adj Close\": 148.194641, \"Volume\": 55802400, \"openChange\": -0.005864576776626551, \"closeChange\": 0.007184580793629269, \"weekday_num\": 4, \"month\": 8, \"day\": 27, \"year\": 2021, \"display\": \"8-2021\"}, {\"Date\": \"2021-08-30\", \"Open\": 149.0, \"High\": 153.490005, \"Low\": 148.610001, \"Close\": 153.119995, \"Adj Close\": 152.702286, \"Volume\": 90956700, \"openChange\": 0.010306509636737404, \"closeChange\": 0.030417152203883413, \"weekday_num\": 0, \"month\": 8, \"day\": 30, \"year\": 2021, \"display\": \"8-2021\"}, {\"Date\": \"2021-08-31\", \"Open\": 152.660004, \"High\": 152.800003, \"Low\": 151.289993, \"Close\": 151.830002, \"Adj Close\": 151.415817, \"Volume\": 86453100, \"openChange\": 0.024563785234899216, \"closeChange\": -0.008424719449605433, \"weekday_num\": 1, \"month\": 8, \"day\": 31, \"year\": 2021, \"display\": \"8-2021\"}, {\"Date\": \"2021-09-01\", \"Open\": 152.830002, \"High\": 154.979996, \"Low\": 152.339996, \"Close\": 152.509995, \"Adj Close\": 152.093964, \"Volume\": 80313700, \"openChange\": 0.0011135726159159365, \"closeChange\": 0.00447864711218271, \"weekday_num\": 2, \"month\": 9, \"day\": 1, \"year\": 2021, \"display\": \"9-2021\"}, {\"Date\": \"2021-09-02\", \"Open\": 153.869995, \"High\": 154.720001, \"Low\": 152.399994, \"Close\": 153.649994, \"Adj Close\": 153.23085, \"Volume\": 71115500, \"openChange\": 0.006804900781195888, \"closeChange\": 0.007474913365514091, \"weekday_num\": 3, \"month\": 9, \"day\": 2, \"year\": 2021, \"display\": \"9-2021\"}, {\"Date\": \"2021-09-03\", \"Open\": 153.759995, \"High\": 154.630005, \"Low\": 153.089996, \"Close\": 154.300003, \"Adj Close\": 153.879089, \"Volume\": 57808700, \"openChange\": -0.0007148892154054121, \"closeChange\": 0.004230452491915004, \"weekday_num\": 4, \"month\": 9, \"day\": 3, \"year\": 2021, \"display\": \"9-2021\"}, {\"Date\": \"2021-09-07\", \"Open\": 154.970001, \"High\": 157.259995, \"Low\": 154.389999, \"Close\": 156.690002, \"Adj Close\": 156.262573, \"Volume\": 82278300, \"openChange\": 0.007869446145598591, \"closeChange\": 0.015489299763655762, \"weekday_num\": 1, \"month\": 9, \"day\": 7, \"year\": 2021, \"display\": \"9-2021\"}, {\"Date\": \"2021-09-08\", \"Open\": 156.979996, \"High\": 157.039993, \"Low\": 153.979996, \"Close\": 155.110001, \"Adj Close\": 154.686874, \"Volume\": 74420200, \"openChange\": 0.012970219958893914, \"closeChange\": -0.010083610822852473, \"weekday_num\": 2, \"month\": 9, \"day\": 8, \"year\": 2021, \"display\": \"9-2021\"}, {\"Date\": \"2021-09-09\", \"Open\": 155.490005, \"High\": 156.110001, \"Low\": 153.949997, \"Close\": 154.070007, \"Adj Close\": 153.649719, \"Volume\": 57305700, \"openChange\": -0.00949159789760734, \"closeChange\": -0.006704880364226229, \"weekday_num\": 3, \"month\": 9, \"day\": 9, \"year\": 2021, \"display\": \"9-2021\"}, {\"Date\": \"2021-09-10\", \"Open\": 155.0, \"High\": 155.479996, \"Low\": 148.699997, \"Close\": 148.970001, \"Adj Close\": 148.563614, \"Volume\": 140893200, \"openChange\": -0.0031513601147545867, \"closeChange\": -0.03310187426680655, \"weekday_num\": 4, \"month\": 9, \"day\": 10, \"year\": 2021, \"display\": \"9-2021\"}, {\"Date\": \"2021-09-13\", \"Open\": 150.630005, \"High\": 151.419998, \"Low\": 148.75, \"Close\": 149.550003, \"Adj Close\": 149.142044, \"Volume\": 102404300, \"openChange\": -0.028193516129032203, \"closeChange\": 0.0038934147553641996, \"weekday_num\": 0, \"month\": 9, \"day\": 13, \"year\": 2021, \"display\": \"9-2021\"}, {\"Date\": \"2021-09-14\", \"Open\": 150.350006, \"High\": 151.070007, \"Low\": 146.910004, \"Close\": 148.119995, \"Adj Close\": 147.715927, \"Volume\": 109296300, \"openChange\": -0.001858852756461138, \"closeChange\": -0.009562072693505841, \"weekday_num\": 1, \"month\": 9, \"day\": 14, \"year\": 2021, \"display\": \"9-2021\"}, {\"Date\": \"2021-09-15\", \"Open\": 148.559998, \"High\": 149.440002, \"Low\": 146.369995, \"Close\": 149.029999, \"Adj Close\": 148.623459, \"Volume\": 83281300, \"openChange\": -0.01190560644207761, \"closeChange\": 0.006143694509306519, \"weekday_num\": 2, \"month\": 9, \"day\": 15, \"year\": 2021, \"display\": \"9-2021\"}, {\"Date\": \"2021-09-16\", \"Open\": 148.440002, \"High\": 148.970001, \"Low\": 147.220001, \"Close\": 148.789993, \"Adj Close\": 148.384094, \"Volume\": 68034100, \"openChange\": -0.0008077275283755458, \"closeChange\": -0.0016104542817583223, \"weekday_num\": 3, \"month\": 9, \"day\": 16, \"year\": 2021, \"display\": \"9-2021\"}, {\"Date\": \"2021-09-17\", \"Open\": 148.820007, \"High\": 148.820007, \"Low\": 145.759995, \"Close\": 146.059998, \"Adj Close\": 145.66156, \"Volume\": 129868800, \"openChange\": 0.0025599905340880635, \"closeChange\": -0.018347974517345378, \"weekday_num\": 4, \"month\": 9, \"day\": 17, \"year\": 2021, \"display\": \"9-2021\"}, {\"Date\": \"2021-09-20\", \"Open\": 143.800003, \"High\": 144.839996, \"Low\": 141.270004, \"Close\": 142.940002, \"Adj Close\": 142.550064, \"Volume\": 123478900, \"openChange\": -0.03373205055688511, \"closeChange\": -0.021361057392319083, \"weekday_num\": 0, \"month\": 9, \"day\": 20, \"year\": 2021, \"display\": \"9-2021\"}, {\"Date\": \"2021-09-21\", \"Open\": 143.929993, \"High\": 144.600006, \"Low\": 142.779999, \"Close\": 143.429993, \"Adj Close\": 143.038727, \"Volume\": 75834000, \"openChange\": 0.000903963819806064, \"closeChange\": 0.0034279487417385734, \"weekday_num\": 1, \"month\": 9, \"day\": 21, \"year\": 2021, \"display\": \"9-2021\"}, {\"Date\": \"2021-09-22\", \"Open\": 144.449997, \"High\": 146.429993, \"Low\": 143.699997, \"Close\": 145.850006, \"Adj Close\": 145.452133, \"Volume\": 76404300, \"openChange\": 0.0036128953330805125, \"closeChange\": 0.016872433368939843, \"weekday_num\": 2, \"month\": 9, \"day\": 22, \"year\": 2021, \"display\": \"9-2021\"}, {\"Date\": \"2021-09-23\", \"Open\": 146.649994, \"High\": 147.080002, \"Low\": 145.639999, \"Close\": 146.830002, \"Adj Close\": 146.429459, \"Volume\": 64838200, \"openChange\": 0.015230163002357022, \"closeChange\": 0.0067192043859085615, \"weekday_num\": 3, \"month\": 9, \"day\": 23, \"year\": 2021, \"display\": \"9-2021\"}, {\"Date\": \"2021-09-24\", \"Open\": 145.660004, \"High\": 147.470001, \"Low\": 145.559998, \"Close\": 146.919998, \"Adj Close\": 146.519211, \"Volume\": 53477900, \"openChange\": -0.006750699219258083, \"closeChange\": 0.0006129265053063104, \"weekday_num\": 4, \"month\": 9, \"day\": 24, \"year\": 2021, \"display\": \"9-2021\"}, {\"Date\": \"2021-09-27\", \"Open\": 145.470001, \"High\": 145.960007, \"Low\": 143.820007, \"Close\": 145.369995, \"Adj Close\": 144.97345, \"Volume\": 74150700, \"openChange\": -0.001304428084458853, \"closeChange\": -0.010549979724339575, \"weekday_num\": 0, \"month\": 9, \"day\": 27, \"year\": 2021, \"display\": \"9-2021\"}, {\"Date\": \"2021-09-28\", \"Open\": 143.25, \"High\": 144.75, \"Low\": 141.690002, \"Close\": 141.910004, \"Adj Close\": 141.522888, \"Volume\": 108972300, \"openChange\": -0.015260885301018101, \"closeChange\": -0.02380127343335192, \"weekday_num\": 1, \"month\": 9, \"day\": 28, \"year\": 2021, \"display\": \"9-2021\"}, {\"Date\": \"2021-09-29\", \"Open\": 142.470001, \"High\": 144.449997, \"Low\": 142.029999, \"Close\": 142.830002, \"Adj Close\": 142.440369, \"Volume\": 74602000, \"openChange\": -0.0054450191972077455, \"closeChange\": 0.00648296789562508, \"weekday_num\": 2, \"month\": 9, \"day\": 29, \"year\": 2021, \"display\": \"9-2021\"}, {\"Date\": \"2021-09-30\", \"Open\": 143.660004, \"High\": 144.380005, \"Low\": 141.279999, \"Close\": 141.5, \"Adj Close\": 141.113998, \"Volume\": 89056700, \"openChange\": 0.008352656641028577, \"closeChange\": -0.00931178310842573, \"weekday_num\": 3, \"month\": 9, \"day\": 30, \"year\": 2021, \"display\": \"9-2021\"}, {\"Date\": \"2021-10-01\", \"Open\": 141.899994, \"High\": 142.919998, \"Low\": 139.110001, \"Close\": 142.649994, \"Adj Close\": 142.260849, \"Volume\": 94639600, \"openChange\": -0.012251217812857651, \"closeChange\": 0.008127166077738446, \"weekday_num\": 4, \"month\": 10, \"day\": 1, \"year\": 2021, \"display\": \"10-2021\"}, {\"Date\": \"2021-10-04\", \"Open\": 141.759995, \"High\": 142.210007, \"Low\": 138.270004, \"Close\": 139.139999, \"Adj Close\": 138.760437, \"Volume\": 98322000, \"openChange\": -0.0009866032834362493, \"closeChange\": -0.024605644217552514, \"weekday_num\": 0, \"month\": 10, \"day\": 4, \"year\": 2021, \"display\": \"10-2021\"}, {\"Date\": \"2021-10-05\", \"Open\": 139.490005, \"High\": 142.240005, \"Low\": 139.360001, \"Close\": 141.110001, \"Adj Close\": 140.725067, \"Volume\": 80861100, \"openChange\": -0.016012909707001644, \"closeChange\": 0.014158416085657821, \"weekday_num\": 1, \"month\": 10, \"day\": 5, \"year\": 2021, \"display\": \"10-2021\"}, {\"Date\": \"2021-10-06\", \"Open\": 139.470001, \"High\": 142.149994, \"Low\": 138.369995, \"Close\": 142.0, \"Adj Close\": 141.61264, \"Volume\": 83221100, \"openChange\": -0.0001434081244745533, \"closeChange\": 0.0063071291452969636, \"weekday_num\": 2, \"month\": 10, \"day\": 6, \"year\": 2021, \"display\": \"10-2021\"}, {\"Date\": \"2021-10-07\", \"Open\": 143.059998, \"High\": 144.220001, \"Low\": 142.720001, \"Close\": 143.289993, \"Adj Close\": 142.899109, \"Volume\": 61732700, \"openChange\": 0.025740280879470445, \"closeChange\": 0.009084457746479035, \"weekday_num\": 3, \"month\": 10, \"day\": 7, \"year\": 2021, \"display\": \"10-2021\"}, {\"Date\": \"2021-10-08\", \"Open\": 144.029999, \"High\": 144.179993, \"Low\": 142.559998, \"Close\": 142.899994, \"Adj Close\": 142.510162, \"Volume\": 58773200, \"openChange\": 0.00678037895680661, \"closeChange\": -0.0027217462422516325, \"weekday_num\": 4, \"month\": 10, \"day\": 8, \"year\": 2021, \"display\": \"10-2021\"}, {\"Date\": \"2021-10-11\", \"Open\": 142.270004, \"High\": 144.809998, \"Low\": 141.809998, \"Close\": 142.809998, \"Adj Close\": 142.420425, \"Volume\": 64452200, \"openChange\": -0.012219641826144878, \"closeChange\": -0.0006297830915232838, \"weekday_num\": 0, \"month\": 10, \"day\": 11, \"year\": 2021, \"display\": \"10-2021\"}, {\"Date\": \"2021-10-12\", \"Open\": 143.229996, \"High\": 143.25, \"Low\": 141.039993, \"Close\": 141.509995, \"Adj Close\": 141.123962, \"Volume\": 73035900, \"openChange\": 0.006747676762559163, \"closeChange\": -0.00910302512573391, \"weekday_num\": 1, \"month\": 10, \"day\": 12, \"year\": 2021, \"display\": \"10-2021\"}, {\"Date\": \"2021-10-13\", \"Open\": 141.240005, \"High\": 141.399994, \"Low\": 139.199997, \"Close\": 140.910004, \"Adj Close\": 140.525604, \"Volume\": 78762700, \"openChange\": -0.013893674897540342, \"closeChange\": -0.004239919590132257, \"weekday_num\": 2, \"month\": 10, \"day\": 13, \"year\": 2021, \"display\": \"10-2021\"}, {\"Date\": \"2021-10-14\", \"Open\": 142.110001, \"High\": 143.880005, \"Low\": 141.509995, \"Close\": 143.759995, \"Adj Close\": 143.367828, \"Volume\": 69907100, \"openChange\": 0.006159699583698108, \"closeChange\": 0.02022561151868274, \"weekday_num\": 3, \"month\": 10, \"day\": 14, \"year\": 2021, \"display\": \"10-2021\"}, {\"Date\": \"2021-10-15\", \"Open\": 143.770004, \"High\": 144.899994, \"Low\": 143.509995, \"Close\": 144.839996, \"Adj Close\": 144.444885, \"Volume\": 67940300, \"openChange\": 0.011681113139954125, \"closeChange\": 0.0075125280854386745, \"weekday_num\": 4, \"month\": 10, \"day\": 15, \"year\": 2021, \"display\": \"10-2021\"}, {\"Date\": \"2021-10-18\", \"Open\": 143.449997, \"High\": 146.839996, \"Low\": 143.160004, \"Close\": 146.550003, \"Adj Close\": 146.150223, \"Volume\": 85589200, \"openChange\": -0.0022258259101113342, \"closeChange\": 0.011806179558303764, \"weekday_num\": 0, \"month\": 10, \"day\": 18, \"year\": 2021, \"display\": \"10-2021\"}, {\"Date\": \"2021-10-19\", \"Open\": 147.009995, \"High\": 149.169998, \"Low\": 146.550003, \"Close\": 148.759995, \"Adj Close\": 148.354187, \"Volume\": 76378900, \"openChange\": 0.02481699598780751, \"closeChange\": 0.015080122516271777, \"weekday_num\": 1, \"month\": 10, \"day\": 19, \"year\": 2021, \"display\": \"10-2021\"}, {\"Date\": \"2021-10-20\", \"Open\": 148.699997, \"High\": 149.75, \"Low\": 148.119995, \"Close\": 149.259995, \"Adj Close\": 148.852829, \"Volume\": 58418800, \"openChange\": 0.011495830606619517, \"closeChange\": 0.0033611186932347437, \"weekday_num\": 2, \"month\": 10, \"day\": 20, \"year\": 2021, \"display\": \"10-2021\"}, {\"Date\": \"2021-10-21\", \"Open\": 148.809998, \"High\": 149.639999, \"Low\": 147.869995, \"Close\": 149.479996, \"Adj Close\": 149.072235, \"Volume\": 61421000, \"openChange\": 0.0007397511917905941, \"closeChange\": 0.0014739448436937863, \"weekday_num\": 3, \"month\": 10, \"day\": 21, \"year\": 2021, \"display\": \"10-2021\"}, {\"Date\": \"2021-10-22\", \"Open\": 149.690002, \"High\": 150.179993, \"Low\": 148.639999, \"Close\": 148.690002, \"Adj Close\": 148.284393, \"Volume\": 58883400, \"openChange\": 0.0059136080359329934, \"closeChange\": -0.005284947960528474, \"weekday_num\": 4, \"month\": 10, \"day\": 22, \"year\": 2021, \"display\": \"10-2021\"}, {\"Date\": \"2021-10-25\", \"Open\": 148.679993, \"High\": 149.369995, \"Low\": 147.619995, \"Close\": 148.639999, \"Adj Close\": 148.234528, \"Volume\": 50720600, \"openChange\": -0.006747337741367598, \"closeChange\": -0.00033629026382020477, \"weekday_num\": 0, \"month\": 10, \"day\": 25, \"year\": 2021, \"display\": \"10-2021\"}, {\"Date\": \"2021-10-26\", \"Open\": 149.330002, \"High\": 150.839996, \"Low\": 149.009995, \"Close\": 149.320007, \"Adj Close\": 148.912674, \"Volume\": 60893400, \"openChange\": 0.004371865957782273, \"closeChange\": 0.0045748654774950825, \"weekday_num\": 1, \"month\": 10, \"day\": 26, \"year\": 2021, \"display\": \"10-2021\"}, {\"Date\": \"2021-10-27\", \"Open\": 149.360001, \"High\": 149.729996, \"Low\": 148.490005, \"Close\": 148.850006, \"Adj Close\": 148.443954, \"Volume\": 56094900, \"openChange\": 0.000200890642189977, \"closeChange\": -0.003147609013974928, \"weekday_num\": 2, \"month\": 10, \"day\": 27, \"year\": 2021, \"display\": \"10-2021\"}, {\"Date\": \"2021-10-28\", \"Open\": 149.820007, \"High\": 153.169998, \"Low\": 149.720001, \"Close\": 152.570007, \"Adj Close\": 152.153809, \"Volume\": 100077900, \"openChange\": 0.00307984732806732, \"closeChange\": 0.024991607994963694, \"weekday_num\": 3, \"month\": 10, \"day\": 28, \"year\": 2021, \"display\": \"10-2021\"}, {\"Date\": \"2021-10-29\", \"Open\": 147.220001, \"High\": 149.940002, \"Low\": 146.410004, \"Close\": 149.800003, \"Adj Close\": 149.391357, \"Volume\": 124953200, \"openChange\": -0.01735419756054346, \"closeChange\": -0.018155626092355104, \"weekday_num\": 4, \"month\": 10, \"day\": 29, \"year\": 2021, \"display\": \"10-2021\"}, {\"Date\": \"2021-11-01\", \"Open\": 148.990005, \"High\": 149.699997, \"Low\": 147.800003, \"Close\": 148.960007, \"Adj Close\": 148.55365, \"Volume\": 74588300, \"openChange\": 0.01202285007456294, \"closeChange\": -0.005607449820945742, \"weekday_num\": 0, \"month\": 11, \"day\": 1, \"year\": 2021, \"display\": \"11-2021\"}, {\"Date\": \"2021-11-02\", \"Open\": 148.660004, \"High\": 151.570007, \"Low\": 148.649994, \"Close\": 150.020004, \"Adj Close\": 149.610764, \"Volume\": 69122000, \"openChange\": -0.0022149203901296044, \"closeChange\": 0.0071159838224228444, \"weekday_num\": 1, \"month\": 11, \"day\": 2, \"year\": 2021, \"display\": \"11-2021\"}, {\"Date\": \"2021-11-03\", \"Open\": 150.389999, \"High\": 151.970001, \"Low\": 149.820007, \"Close\": 151.490005, \"Adj Close\": 151.076752, \"Volume\": 54511500, \"openChange\": 0.011637259205239836, \"closeChange\": 0.009798699912046294, \"weekday_num\": 2, \"month\": 11, \"day\": 3, \"year\": 2021, \"display\": \"11-2021\"}, {\"Date\": \"2021-11-04\", \"Open\": 151.580002, \"High\": 152.429993, \"Low\": 150.639999, \"Close\": 150.960007, \"Adj Close\": 150.548187, \"Volume\": 60394600, \"openChange\": 0.00791278015767527, \"closeChange\": -0.0034985674467434835, \"weekday_num\": 3, \"month\": 11, \"day\": 4, \"year\": 2021, \"display\": \"11-2021\"}, {\"Date\": \"2021-11-05\", \"Open\": 151.889999, \"High\": 152.199997, \"Low\": 150.059998, \"Close\": 151.279999, \"Adj Close\": 151.087509, \"Volume\": 65463900, \"openChange\": 0.0020451048681209283, \"closeChange\": 0.0021197137331876448, \"weekday_num\": 4, \"month\": 11, \"day\": 5, \"year\": 2021, \"display\": \"11-2021\"}, {\"Date\": \"2021-11-08\", \"Open\": 151.410004, \"High\": 151.570007, \"Low\": 150.160004, \"Close\": 150.440002, \"Adj Close\": 150.248581, \"Volume\": 55020900, \"openChange\": -0.003160148812694441, \"closeChange\": -0.005552597868539233, \"weekday_num\": 0, \"month\": 11, \"day\": 8, \"year\": 2021, \"display\": \"11-2021\"}, {\"Date\": \"2021-11-09\", \"Open\": 150.199997, \"High\": 151.429993, \"Low\": 150.059998, \"Close\": 150.809998, \"Adj Close\": 150.618103, \"Volume\": 56787900, \"openChange\": -0.007991592153976712, \"closeChange\": 0.0024594256519621105, \"weekday_num\": 1, \"month\": 11, \"day\": 9, \"year\": 2021, \"display\": \"11-2021\"}, {\"Date\": \"2021-11-10\", \"Open\": 150.020004, \"High\": 150.130005, \"Low\": 147.850006, \"Close\": 147.919998, \"Adj Close\": 147.731781, \"Volume\": 65187100, \"openChange\": -0.0011983555499005538, \"closeChange\": -0.019163185719291764, \"weekday_num\": 2, \"month\": 11, \"day\": 10, \"year\": 2021, \"display\": \"11-2021\"}, {\"Date\": \"2021-11-11\", \"Open\": 148.960007, \"High\": 149.429993, \"Low\": 147.679993, \"Close\": 147.869995, \"Adj Close\": 147.681839, \"Volume\": 41000000, \"openChange\": -0.007065704384330074, \"closeChange\": -0.0003380408374532573, \"weekday_num\": 3, \"month\": 11, \"day\": 11, \"year\": 2021, \"display\": \"11-2021\"}, {\"Date\": \"2021-11-12\", \"Open\": 148.429993, \"High\": 150.399994, \"Low\": 147.479996, \"Close\": 149.990005, \"Adj Close\": 149.799149, \"Volume\": 63804000, \"openChange\": -0.00355809596598633, \"closeChange\": 0.014336985674477054, \"weekday_num\": 4, \"month\": 11, \"day\": 12, \"year\": 2021, \"display\": \"11-2021\"}, {\"Date\": \"2021-11-15\", \"Open\": 150.369995, \"High\": 151.880005, \"Low\": 149.429993, \"Close\": 150.0, \"Adj Close\": 149.809128, \"Volume\": 59222800, \"openChange\": 0.013070148160688744, \"closeChange\": 6.663777363025147e-05, \"weekday_num\": 0, \"month\": 11, \"day\": 15, \"year\": 2021, \"display\": \"11-2021\"}, {\"Date\": \"2021-11-16\", \"Open\": 149.940002, \"High\": 151.490005, \"Low\": 149.339996, \"Close\": 151.0, \"Adj Close\": 150.807861, \"Volume\": 59256200, \"openChange\": -0.0028595664979572666, \"closeChange\": 0.006666666666666599, \"weekday_num\": 1, \"month\": 11, \"day\": 16, \"year\": 2021, \"display\": \"11-2021\"}, {\"Date\": \"2021-11-17\", \"Open\": 151.0, \"High\": 155.0, \"Low\": 150.990005, \"Close\": 153.490005, \"Adj Close\": 153.294693, \"Volume\": 88807000, \"openChange\": 0.007069481031486191, \"closeChange\": 0.016490099337748365, \"weekday_num\": 2, \"month\": 11, \"day\": 17, \"year\": 2021, \"display\": \"11-2021\"}, {\"Date\": \"2021-11-18\", \"Open\": 153.710007, \"High\": 158.669998, \"Low\": 153.050003, \"Close\": 157.869995, \"Adj Close\": 157.669113, \"Volume\": 137827700, \"openChange\": 0.01794706622516551, \"closeChange\": 0.02853599490077552, \"weekday_num\": 3, \"month\": 11, \"day\": 18, \"year\": 2021, \"display\": \"11-2021\"}, {\"Date\": \"2021-11-19\", \"Open\": 157.649994, \"High\": 161.020004, \"Low\": 156.529999, \"Close\": 160.550003, \"Adj Close\": 160.345718, \"Volume\": 117305600, \"openChange\": 0.02563259918399452, \"closeChange\": 0.016976044117819944, \"weekday_num\": 4, \"month\": 11, \"day\": 19, \"year\": 2021, \"display\": \"11-2021\"}, {\"Date\": \"2021-11-22\", \"Open\": 161.679993, \"High\": 165.699997, \"Low\": 161.0, \"Close\": 161.020004, \"Adj Close\": 160.815109, \"Volume\": 117467900, \"openChange\": 0.025562950544736562, \"closeChange\": 0.0029274431094217235, \"weekday_num\": 0, \"month\": 11, \"day\": 22, \"year\": 2021, \"display\": \"11-2021\"}, {\"Date\": \"2021-11-23\", \"Open\": 161.119995, \"High\": 161.800003, \"Low\": 159.059998, \"Close\": 161.410004, \"Adj Close\": 161.20462, \"Volume\": 96041900, \"openChange\": -0.003463619645258209, \"closeChange\": 0.0024220593113386535, \"weekday_num\": 1, \"month\": 11, \"day\": 23, \"year\": 2021, \"display\": \"11-2021\"}, {\"Date\": \"2021-11-24\", \"Open\": 160.75, \"High\": 162.139999, \"Low\": 159.639999, \"Close\": 161.940002, \"Adj Close\": 161.733948, \"Volume\": 69463600, \"openChange\": -0.0022963940633190516, \"closeChange\": 0.0032835511236342096, \"weekday_num\": 2, \"month\": 11, \"day\": 24, \"year\": 2021, \"display\": \"11-2021\"}, {\"Date\": \"2021-11-26\", \"Open\": 159.570007, \"High\": 160.449997, \"Low\": 156.360001, \"Close\": 156.809998, \"Adj Close\": 156.610474, \"Volume\": 76959800, \"openChange\": -0.007340547433903555, \"closeChange\": -0.03167842371645757, \"weekday_num\": 4, \"month\": 11, \"day\": 26, \"year\": 2021, \"display\": \"11-2021\"}, {\"Date\": \"2021-11-29\", \"Open\": 159.369995, \"High\": 161.190002, \"Low\": 158.789993, \"Close\": 160.240005, \"Adj Close\": 160.036102, \"Volume\": 88748200, \"openChange\": -0.0012534435747690864, \"closeChange\": 0.02187364991867402, \"weekday_num\": 0, \"month\": 11, \"day\": 29, \"year\": 2021, \"display\": \"11-2021\"}, {\"Date\": \"2021-11-30\", \"Open\": 159.990005, \"High\": 165.520004, \"Low\": 159.919998, \"Close\": 165.300003, \"Adj Close\": 165.089676, \"Volume\": 174048100, \"openChange\": 0.00389038099674921, \"closeChange\": 0.03157762008307485, \"weekday_num\": 1, \"month\": 11, \"day\": 30, \"year\": 2021, \"display\": \"11-2021\"}, {\"Date\": \"2021-12-01\", \"Open\": 167.479996, \"High\": 170.300003, \"Low\": 164.529999, \"Close\": 164.770004, \"Adj Close\": 164.560349, \"Volume\": 152052500, \"openChange\": 0.04681536824753518, \"closeChange\": -0.003206285483249527, \"weekday_num\": 2, \"month\": 12, \"day\": 1, \"year\": 2021, \"display\": \"12-2021\"}, {\"Date\": \"2021-12-02\", \"Open\": 158.740005, \"High\": 164.199997, \"Low\": 157.800003, \"Close\": 163.759995, \"Adj Close\": 163.55162, \"Volume\": 136739200, \"openChange\": -0.05218528307106007, \"closeChange\": -0.006129811103239402, \"weekday_num\": 3, \"month\": 12, \"day\": 2, \"year\": 2021, \"display\": \"12-2021\"}, {\"Date\": \"2021-12-03\", \"Open\": 164.020004, \"High\": 164.960007, \"Low\": 159.720001, \"Close\": 161.839996, \"Adj Close\": 161.634064, \"Volume\": 118023100, \"openChange\": 0.033261930412563645, \"closeChange\": -0.011724469092710854, \"weekday_num\": 4, \"month\": 12, \"day\": 3, \"year\": 2021, \"display\": \"12-2021\"}, {\"Date\": \"2021-12-06\", \"Open\": 164.289993, \"High\": 167.880005, \"Low\": 164.279999, \"Close\": 165.320007, \"Adj Close\": 165.10965, \"Volume\": 107497000, \"openChange\": 0.0016460736094117134, \"closeChange\": 0.021502787234374265, \"weekday_num\": 0, \"month\": 12, \"day\": 6, \"year\": 2021, \"display\": \"12-2021\"}, {\"Date\": \"2021-12-07\", \"Open\": 169.080002, \"High\": 171.580002, \"Low\": 168.339996, \"Close\": 171.179993, \"Adj Close\": 170.962173, \"Volume\": 120405400, \"openChange\": 0.02915581717749549, \"closeChange\": 0.03544632078318255, \"weekday_num\": 1, \"month\": 12, \"day\": 7, \"year\": 2021, \"display\": \"12-2021\"}, {\"Date\": \"2021-12-08\", \"Open\": 172.130005, \"High\": 175.960007, \"Low\": 170.699997, \"Close\": 175.080002, \"Adj Close\": 174.857224, \"Volume\": 116998900, \"openChange\": 0.0180388157317386, \"closeChange\": 0.022783088909227978, \"weekday_num\": 2, \"month\": 12, \"day\": 8, \"year\": 2021, \"display\": \"12-2021\"}, {\"Date\": \"2021-12-09\", \"Open\": 174.910004, \"High\": 176.75, \"Low\": 173.919998, \"Close\": 174.559998, \"Adj Close\": 174.337875, \"Volume\": 108923700, \"openChange\": 0.016150577582333625, \"closeChange\": -0.0029700936375360865, \"weekday_num\": 3, \"month\": 12, \"day\": 9, \"year\": 2021, \"display\": \"12-2021\"}, {\"Date\": \"2021-12-10\", \"Open\": 175.210007, \"High\": 179.630005, \"Low\": 174.690002, \"Close\": 179.449997, \"Adj Close\": 179.221664, \"Volume\": 115402700, \"openChange\": 0.0017151849130367935, \"closeChange\": 0.028013285151389455, \"weekday_num\": 4, \"month\": 12, \"day\": 10, \"year\": 2021, \"display\": \"12-2021\"}, {\"Date\": \"2021-12-13\", \"Open\": 181.119995, \"High\": 182.130005, \"Low\": 175.529999, \"Close\": 175.740005, \"Adj Close\": 175.516388, \"Volume\": 153237000, \"openChange\": 0.0337308815928532, \"closeChange\": -0.020674238294916214, \"weekday_num\": 0, \"month\": 12, \"day\": 13, \"year\": 2021, \"display\": \"12-2021\"}, {\"Date\": \"2021-12-14\", \"Open\": 175.25, \"High\": 177.740005, \"Low\": 172.210007, \"Close\": 174.330002, \"Adj Close\": 174.108185, \"Volume\": 139380400, \"openChange\": -0.03240942558550752, \"closeChange\": -0.008023232957117488, \"weekday_num\": 1, \"month\": 12, \"day\": 14, \"year\": 2021, \"display\": \"12-2021\"}, {\"Date\": \"2021-12-15\", \"Open\": 175.110001, \"High\": 179.5, \"Low\": 172.309998, \"Close\": 179.300003, \"Adj Close\": 179.071854, \"Volume\": 131063300, \"openChange\": -0.0007988530670469673, \"closeChange\": 0.02850915472369464, \"weekday_num\": 2, \"month\": 12, \"day\": 15, \"year\": 2021, \"display\": \"12-2021\"}, {\"Date\": \"2021-12-16\", \"Open\": 179.279999, \"High\": 181.139999, \"Low\": 170.75, \"Close\": 172.259995, \"Adj Close\": 172.040802, \"Volume\": 150185800, \"openChange\": 0.023813591320806404, \"closeChange\": -0.03926384764198809, \"weekday_num\": 3, \"month\": 12, \"day\": 16, \"year\": 2021, \"display\": \"12-2021\"}, {\"Date\": \"2021-12-17\", \"Open\": 169.929993, \"High\": 173.470001, \"Low\": 169.690002, \"Close\": 171.139999, \"Adj Close\": 170.922241, \"Volume\": 195432700, \"openChange\": -0.052153090429234106, \"closeChange\": -0.006501776573254903, \"weekday_num\": 4, \"month\": 12, \"day\": 17, \"year\": 2021, \"display\": \"12-2021\"}, {\"Date\": \"2021-12-20\", \"Open\": 168.279999, \"High\": 170.580002, \"Low\": 167.460007, \"Close\": 169.75, \"Adj Close\": 169.533997, \"Volume\": 107499100, \"openChange\": -0.009709845630370806, \"closeChange\": -0.00812199958000459, \"weekday_num\": 0, \"month\": 12, \"day\": 20, \"year\": 2021, \"display\": \"12-2021\"}, {\"Date\": \"2021-12-21\", \"Open\": 171.559998, \"High\": 173.199997, \"Low\": 169.119995, \"Close\": 172.990005, \"Adj Close\": 172.769882, \"Volume\": 91185900, \"openChange\": 0.0194913181571863, \"closeChange\": 0.019086921944035273, \"weekday_num\": 1, \"month\": 12, \"day\": 21, \"year\": 2021, \"display\": \"12-2021\"}, {\"Date\": \"2021-12-22\", \"Open\": 173.039993, \"High\": 175.860001, \"Low\": 172.149994, \"Close\": 175.639999, \"Adj Close\": 175.416504, \"Volume\": 92135300, \"openChange\": 0.008626690471283505, \"closeChange\": 0.015318769428326107, \"weekday_num\": 2, \"month\": 12, \"day\": 22, \"year\": 2021, \"display\": \"12-2021\"}, {\"Date\": \"2021-12-23\", \"Open\": 175.850006, \"High\": 176.850006, \"Low\": 175.270004, \"Close\": 176.279999, \"Adj Close\": 176.055695, \"Volume\": 68356600, \"openChange\": 0.016239095663856062, \"closeChange\": 0.003643816918946996, \"weekday_num\": 3, \"month\": 12, \"day\": 23, \"year\": 2021, \"display\": \"12-2021\"}, {\"Date\": \"2021-12-27\", \"Open\": 177.089996, \"High\": 180.419998, \"Low\": 177.070007, \"Close\": 180.330002, \"Adj Close\": 180.10054, \"Volume\": 74919600, \"openChange\": 0.007051407208936933, \"closeChange\": 0.022974829946532882, \"weekday_num\": 0, \"month\": 12, \"day\": 27, \"year\": 2021, \"display\": \"12-2021\"}, {\"Date\": \"2021-12-28\", \"Open\": 180.160004, \"High\": 181.330002, \"Low\": 178.529999, \"Close\": 179.289993, \"Adj Close\": 179.061859, \"Volume\": 79144300, \"openChange\": 0.01733586351201888, \"closeChange\": -0.0057672544139383275, \"weekday_num\": 1, \"month\": 12, \"day\": 28, \"year\": 2021, \"display\": \"12-2021\"}, {\"Date\": \"2021-12-29\", \"Open\": 179.330002, \"High\": 180.630005, \"Low\": 178.139999, \"Close\": 179.380005, \"Adj Close\": 179.151749, \"Volume\": 62348900, \"openChange\": -0.004607026984746132, \"closeChange\": 0.0005020469826222396, \"weekday_num\": 2, \"month\": 12, \"day\": 29, \"year\": 2021, \"display\": \"12-2021\"}, {\"Date\": \"2021-12-30\", \"Open\": 179.470001, \"High\": 180.570007, \"Low\": 178.089996, \"Close\": 178.199997, \"Adj Close\": 177.973251, \"Volume\": 59773000, \"openChange\": 0.0007806780708115024, \"closeChange\": -0.0065782582623967745, \"weekday_num\": 3, \"month\": 12, \"day\": 30, \"year\": 2021, \"display\": \"12-2021\"}, {\"Date\": \"2021-12-31\", \"Open\": 178.089996, \"High\": 179.229996, \"Low\": 177.259995, \"Close\": 177.570007, \"Adj Close\": 177.344055, \"Volume\": 64062300, \"openChange\": -0.007689335222102023, \"closeChange\": -0.0035352974781475144, \"weekday_num\": 4, \"month\": 12, \"day\": 31, \"year\": 2021, \"display\": \"12-2021\"}, {\"Date\": \"2022-01-03\", \"Open\": 177.830002, \"High\": 182.880005, \"Low\": 177.710007, \"Close\": 182.009995, \"Adj Close\": 181.778397, \"Volume\": 104487900, \"openChange\": -0.001459902329381868, \"closeChange\": 0.025004155121759908, \"weekday_num\": 0, \"month\": 1, \"day\": 3, \"year\": 2022, \"display\": \"1-2022\"}, {\"Date\": \"2022-01-04\", \"Open\": 182.630005, \"High\": 182.940002, \"Low\": 179.119995, \"Close\": 179.699997, \"Adj Close\": 179.471344, \"Volume\": 99310400, \"openChange\": 0.026992087645593132, \"closeChange\": -0.012691599711323609, \"weekday_num\": 1, \"month\": 1, \"day\": 4, \"year\": 2022, \"display\": \"1-2022\"}, {\"Date\": \"2022-01-05\", \"Open\": 179.610001, \"High\": 180.169998, \"Low\": 174.639999, \"Close\": 174.919998, \"Adj Close\": 174.697418, \"Volume\": 94537600, \"openChange\": -0.016536187468209285, \"closeChange\": -0.026599883582635764, \"weekday_num\": 2, \"month\": 1, \"day\": 5, \"year\": 2022, \"display\": \"1-2022\"}, {\"Date\": \"2022-01-06\", \"Open\": 172.699997, \"High\": 175.300003, \"Low\": 171.639999, \"Close\": 172.0, \"Adj Close\": 171.781143, \"Volume\": 96904000, \"openChange\": -0.03847226747690968, \"closeChange\": -0.016693334286454697, \"weekday_num\": 3, \"month\": 1, \"day\": 6, \"year\": 2022, \"display\": \"1-2022\"}, {\"Date\": \"2022-01-07\", \"Open\": 172.889999, \"High\": 174.139999, \"Low\": 171.029999, \"Close\": 172.169998, \"Adj Close\": 171.950928, \"Volume\": 86709100, \"openChange\": 0.001100185311526003, \"closeChange\": 0.0009883604651161892, \"weekday_num\": 4, \"month\": 1, \"day\": 7, \"year\": 2022, \"display\": \"1-2022\"}, {\"Date\": \"2022-01-10\", \"Open\": 169.080002, \"High\": 172.5, \"Low\": 168.169998, \"Close\": 172.190002, \"Adj Close\": 171.970901, \"Volume\": 106765600, \"openChange\": -0.022037116212835328, \"closeChange\": 0.00011618749045938515, \"weekday_num\": 0, \"month\": 1, \"day\": 10, \"year\": 2022, \"display\": \"1-2022\"}, {\"Date\": \"2022-01-11\", \"Open\": 172.320007, \"High\": 175.179993, \"Low\": 170.820007, \"Close\": 175.080002, \"Adj Close\": 174.857224, \"Volume\": 76138300, \"openChange\": 0.019162555959752137, \"closeChange\": 0.01678378515844381, \"weekday_num\": 1, \"month\": 1, \"day\": 11, \"year\": 2022, \"display\": \"1-2022\"}, {\"Date\": \"2022-01-12\", \"Open\": 176.119995, \"High\": 177.179993, \"Low\": 174.820007, \"Close\": 175.529999, \"Adj Close\": 175.306641, \"Volume\": 74805200, \"openChange\": 0.022051925752301083, \"closeChange\": 0.002570236433970363, \"weekday_num\": 2, \"month\": 1, \"day\": 12, \"year\": 2022, \"display\": \"1-2022\"}, {\"Date\": \"2022-01-13\", \"Open\": 175.779999, \"High\": 176.619995, \"Low\": 171.789993, \"Close\": 172.190002, \"Adj Close\": 171.970901, \"Volume\": 84505800, \"openChange\": -0.0019304792735201914, \"closeChange\": -0.019028069384310786, \"weekday_num\": 3, \"month\": 1, \"day\": 13, \"year\": 2022, \"display\": \"1-2022\"}, {\"Date\": \"2022-01-14\", \"Open\": 171.339996, \"High\": 173.779999, \"Low\": 171.089996, \"Close\": 173.070007, \"Adj Close\": 172.849792, \"Volume\": 80440800, \"openChange\": -0.025258863495613015, \"closeChange\": 0.005110662580746217, \"weekday_num\": 4, \"month\": 1, \"day\": 14, \"year\": 2022, \"display\": \"1-2022\"}, {\"Date\": \"2022-01-18\", \"Open\": 171.509995, \"High\": 172.539993, \"Low\": 169.410004, \"Close\": 169.800003, \"Adj Close\": 169.583939, \"Volume\": 90956700, \"openChange\": 0.000992173479448466, \"closeChange\": -0.018894111444740402, \"weekday_num\": 1, \"month\": 1, \"day\": 18, \"year\": 2022, \"display\": \"1-2022\"}, {\"Date\": \"2022-01-19\", \"Open\": 170.0, \"High\": 171.080002, \"Low\": 165.940002, \"Close\": 166.229996, \"Adj Close\": 166.018478, \"Volume\": 94815000, \"openChange\": -0.008804122465282616, \"closeChange\": -0.02102477583584028, \"weekday_num\": 2, \"month\": 1, \"day\": 19, \"year\": 2022, \"display\": \"1-2022\"}, {\"Date\": \"2022-01-20\", \"Open\": 166.979996, \"High\": 169.679993, \"Low\": 164.179993, \"Close\": 164.509995, \"Adj Close\": 164.300659, \"Volume\": 91420500, \"openChange\": -0.017764729411764657, \"closeChange\": -0.01034711569144231, \"weekday_num\": 3, \"month\": 1, \"day\": 20, \"year\": 2022, \"display\": \"1-2022\"}, {\"Date\": \"2022-01-21\", \"Open\": 164.419998, \"High\": 166.330002, \"Low\": 162.300003, \"Close\": 162.410004, \"Adj Close\": 162.203354, \"Volume\": 122848900, \"openChange\": -0.015331165776288569, \"closeChange\": -0.012765127127990161, \"weekday_num\": 4, \"month\": 1, \"day\": 21, \"year\": 2022, \"display\": \"1-2022\"}, {\"Date\": \"2022-01-24\", \"Open\": 160.020004, \"High\": 162.300003, \"Low\": 154.699997, \"Close\": 161.619995, \"Adj Close\": 161.414337, \"Volume\": 162294600, \"openChange\": -0.026760698537412697, \"closeChange\": -0.004864287793503119, \"weekday_num\": 0, \"month\": 1, \"day\": 24, \"year\": 2022, \"display\": \"1-2022\"}, {\"Date\": \"2022-01-25\", \"Open\": 158.979996, \"High\": 162.759995, \"Low\": 157.020004, \"Close\": 159.779999, \"Adj Close\": 159.576691, \"Volume\": 115798400, \"openChange\": -0.006499237432839977, \"closeChange\": -0.011384705215465307, \"weekday_num\": 1, \"month\": 1, \"day\": 25, \"year\": 2022, \"display\": \"1-2022\"}, {\"Date\": \"2022-01-26\", \"Open\": 163.5, \"High\": 164.389999, \"Low\": 157.820007, \"Close\": 159.690002, \"Adj Close\": 159.486801, \"Volume\": 108275300, \"openChange\": 0.028431275089477293, \"closeChange\": -0.0005632557301493701, \"weekday_num\": 2, \"month\": 1, \"day\": 26, \"year\": 2022, \"display\": \"1-2022\"}, {\"Date\": \"2022-01-27\", \"Open\": 162.449997, \"High\": 163.839996, \"Low\": 158.279999, \"Close\": 159.220001, \"Adj Close\": 159.01741, \"Volume\": 121954600, \"openChange\": -0.006422036697247724, \"closeChange\": -0.002943208680027398, \"weekday_num\": 3, \"month\": 1, \"day\": 27, \"year\": 2022, \"display\": \"1-2022\"}, {\"Date\": \"2022-01-28\", \"Open\": 165.710007, \"High\": 170.350006, \"Low\": 162.800003, \"Close\": 170.330002, \"Adj Close\": 170.113266, \"Volume\": 179935700, \"openChange\": 0.020067775070503613, \"closeChange\": 0.06977767196471762, \"weekday_num\": 4, \"month\": 1, \"day\": 28, \"year\": 2022, \"display\": \"1-2022\"}, {\"Date\": \"2022-01-31\", \"Open\": 170.160004, \"High\": 175.0, \"Low\": 169.509995, \"Close\": 174.779999, \"Adj Close\": 174.557602, \"Volume\": 115541600, \"openChange\": 0.026854123541253605, \"closeChange\": 0.026125737965998486, \"weekday_num\": 0, \"month\": 1, \"day\": 31, \"year\": 2022, \"display\": \"1-2022\"}, {\"Date\": \"2022-02-01\", \"Open\": 174.009995, \"High\": 174.839996, \"Low\": 172.309998, \"Close\": 174.610001, \"Adj Close\": 174.387817, \"Volume\": 86213900, \"openChange\": 0.022625710563570545, \"closeChange\": -0.0009726398957125015, \"weekday_num\": 1, \"month\": 2, \"day\": 1, \"year\": 2022, \"display\": \"2-2022\"}, {\"Date\": \"2022-02-02\", \"Open\": 174.75, \"High\": 175.880005, \"Low\": 173.330002, \"Close\": 175.839996, \"Adj Close\": 175.616257, \"Volume\": 84914300, \"openChange\": 0.004252658015420296, \"closeChange\": 0.007044241412036856, \"weekday_num\": 2, \"month\": 2, \"day\": 2, \"year\": 2022, \"display\": \"2-2022\"}, {\"Date\": \"2022-02-03\", \"Open\": 174.479996, \"High\": 176.240005, \"Low\": 172.119995, \"Close\": 172.899994, \"Adj Close\": 172.679993, \"Volume\": 89418100, \"openChange\": -0.0015450872675250027, \"closeChange\": -0.01671975697724659, \"weekday_num\": 3, \"month\": 2, \"day\": 3, \"year\": 2022, \"display\": \"2-2022\"}, {\"Date\": \"2022-02-04\", \"Open\": 171.679993, \"High\": 174.100006, \"Low\": 170.679993, \"Close\": 172.389999, \"Adj Close\": 172.389999, \"Volume\": 82465400, \"openChange\": -0.016047702110217887, \"closeChange\": -0.0029496530809596244, \"weekday_num\": 4, \"month\": 2, \"day\": 4, \"year\": 2022, \"display\": \"2-2022\"}, {\"Date\": \"2022-02-07\", \"Open\": 172.860001, \"High\": 173.949997, \"Low\": 170.949997, \"Close\": 171.660004, \"Adj Close\": 171.660004, \"Volume\": 77251200, \"openChange\": 0.006873299441479075, \"closeChange\": -0.00423455539320472, \"weekday_num\": 0, \"month\": 2, \"day\": 7, \"year\": 2022, \"display\": \"2-2022\"}, {\"Date\": \"2022-02-08\", \"Open\": 171.729996, \"High\": 175.350006, \"Low\": 171.429993, \"Close\": 174.830002, \"Adj Close\": 174.830002, \"Volume\": 74829200, \"openChange\": -0.006537110919026423, \"closeChange\": 0.018466724491047026, \"weekday_num\": 1, \"month\": 2, \"day\": 8, \"year\": 2022, \"display\": \"2-2022\"}, {\"Date\": \"2022-02-09\", \"Open\": 176.050003, \"High\": 176.649994, \"Low\": 174.899994, \"Close\": 176.279999, \"Adj Close\": 176.279999, \"Volume\": 71285000, \"openChange\": 0.025155809122594963, \"closeChange\": 0.008293753837513629, \"weekday_num\": 2, \"month\": 2, \"day\": 9, \"year\": 2022, \"display\": \"2-2022\"}, {\"Date\": \"2022-02-10\", \"Open\": 174.139999, \"High\": 175.479996, \"Low\": 171.550003, \"Close\": 172.119995, \"Adj Close\": 172.119995, \"Volume\": 90865900, \"openChange\": -0.010849213106801314, \"closeChange\": -0.02359884288404157, \"weekday_num\": 3, \"month\": 2, \"day\": 10, \"year\": 2022, \"display\": \"2-2022\"}, {\"Date\": \"2022-02-11\", \"Open\": 172.330002, \"High\": 173.080002, \"Low\": 168.039993, \"Close\": 168.639999, \"Adj Close\": 168.639999, \"Volume\": 98670700, \"openChange\": -0.010393918745801645, \"closeChange\": -0.020218429590356468, \"weekday_num\": 4, \"month\": 2, \"day\": 11, \"year\": 2022, \"display\": \"2-2022\"}, {\"Date\": \"2022-02-14\", \"Open\": 167.369995, \"High\": 169.580002, \"Low\": 166.559998, \"Close\": 168.880005, \"Adj Close\": 168.880005, \"Volume\": 86185500, \"openChange\": -0.028782028331897913, \"closeChange\": 0.0014231854923103526, \"weekday_num\": 0, \"month\": 2, \"day\": 14, \"year\": 2022, \"display\": \"2-2022\"}, {\"Date\": \"2022-02-15\", \"Open\": 170.970001, \"High\": 172.949997, \"Low\": 170.25, \"Close\": 172.789993, \"Adj Close\": 172.789993, \"Volume\": 62527400, \"openChange\": 0.021509267536274912, \"closeChange\": 0.02315246260207071, \"weekday_num\": 1, \"month\": 2, \"day\": 15, \"year\": 2022, \"display\": \"2-2022\"}, {\"Date\": \"2022-02-16\", \"Open\": 171.850006, \"High\": 173.339996, \"Low\": 170.050003, \"Close\": 172.550003, \"Adj Close\": 172.550003, \"Volume\": 61177400, \"openChange\": 0.005147131045522002, \"closeChange\": -0.0013889114516024703, \"weekday_num\": 2, \"month\": 2, \"day\": 16, \"year\": 2022, \"display\": \"2-2022\"}, {\"Date\": \"2022-02-17\", \"Open\": 171.029999, \"High\": 171.910004, \"Low\": 168.470001, \"Close\": 168.880005, \"Adj Close\": 168.880005, \"Volume\": 69589300, \"openChange\": -0.00477164370887484, \"closeChange\": -0.02126918537347111, \"weekday_num\": 3, \"month\": 2, \"day\": 17, \"year\": 2022, \"display\": \"2-2022\"}, {\"Date\": \"2022-02-18\", \"Open\": 169.820007, \"High\": 170.539993, \"Low\": 166.190002, \"Close\": 167.300003, \"Adj Close\": 167.300003, \"Volume\": 82772700, \"openChange\": -0.0070747354678988295, \"closeChange\": -0.009355767131816517, \"weekday_num\": 4, \"month\": 2, \"day\": 18, \"year\": 2022, \"display\": \"2-2022\"}, {\"Date\": \"2022-02-22\", \"Open\": 164.979996, \"High\": 166.690002, \"Low\": 162.149994, \"Close\": 164.320007, \"Adj Close\": 164.320007, \"Volume\": 91162800, \"openChange\": -0.028500829116088755, \"closeChange\": -0.01781228898125009, \"weekday_num\": 1, \"month\": 2, \"day\": 22, \"year\": 2022, \"display\": \"2-2022\"}, {\"Date\": \"2022-02-23\", \"Open\": 165.539993, \"High\": 166.149994, \"Low\": 159.75, \"Close\": 160.070007, \"Adj Close\": 160.070007, \"Volume\": 90009200, \"openChange\": 0.0033943327286782843, \"closeChange\": -0.025864166376283082, \"weekday_num\": 2, \"month\": 2, \"day\": 23, \"year\": 2022, \"display\": \"2-2022\"}, {\"Date\": \"2022-02-24\", \"Open\": 152.580002, \"High\": 162.850006, \"Low\": 152.0, \"Close\": 162.740005, \"Adj Close\": 162.740005, \"Volume\": 141147500, \"openChange\": -0.07828918417315633, \"closeChange\": 0.01668018918747216, \"weekday_num\": 3, \"month\": 2, \"day\": 24, \"year\": 2022, \"display\": \"2-2022\"}, {\"Date\": \"2022-02-25\", \"Open\": 163.839996, \"High\": 165.119995, \"Low\": 160.869995, \"Close\": 164.850006, \"Adj Close\": 164.850006, \"Volume\": 91974200, \"openChange\": 0.07379731191771777, \"closeChange\": 0.012965472134525369, \"weekday_num\": 4, \"month\": 2, \"day\": 25, \"year\": 2022, \"display\": \"2-2022\"}, {\"Date\": \"2022-02-28\", \"Open\": 163.059998, \"High\": 165.419998, \"Low\": 162.429993, \"Close\": 165.119995, \"Adj Close\": 165.119995, \"Volume\": 95056600, \"openChange\": -0.00476073009669753, \"closeChange\": 0.0016377858063285622, \"weekday_num\": 0, \"month\": 2, \"day\": 28, \"year\": 2022, \"display\": \"2-2022\"}, {\"Date\": \"2022-03-01\", \"Open\": 164.699997, \"High\": 166.600006, \"Low\": 161.970001, \"Close\": 163.199997, \"Adj Close\": 163.199997, \"Volume\": 83474400, \"openChange\": 0.010057641482370094, \"closeChange\": -0.011627895216445472, \"weekday_num\": 1, \"month\": 3, \"day\": 1, \"year\": 2022, \"display\": \"3-2022\"}, {\"Date\": \"2022-03-02\", \"Open\": 164.389999, \"High\": 167.360001, \"Low\": 162.949997, \"Close\": 166.559998, \"Adj Close\": 166.559998, \"Volume\": 79724800, \"openChange\": -0.001882197969924726, \"closeChange\": 0.02058824180002894, \"weekday_num\": 2, \"month\": 3, \"day\": 2, \"year\": 2022, \"display\": \"3-2022\"}, {\"Date\": \"2022-03-03\", \"Open\": 168.470001, \"High\": 168.910004, \"Low\": 165.550003, \"Close\": 166.229996, \"Adj Close\": 166.229996, \"Volume\": 76678400, \"openChange\": 0.024819040238573287, \"closeChange\": -0.0019812800430029087, \"weekday_num\": 3, \"month\": 3, \"day\": 3, \"year\": 2022, \"display\": \"3-2022\"}, {\"Date\": \"2022-03-04\", \"Open\": 164.490005, \"High\": 165.550003, \"Low\": 162.100006, \"Close\": 163.169998, \"Adj Close\": 163.169998, \"Volume\": 83737200, \"openChange\": -0.023624360280024015, \"closeChange\": -0.018408217972886276, \"weekday_num\": 4, \"month\": 3, \"day\": 4, \"year\": 2022, \"display\": \"3-2022\"}, {\"Date\": \"2022-03-07\", \"Open\": 163.360001, \"High\": 165.020004, \"Low\": 159.039993, \"Close\": 159.300003, \"Adj Close\": 159.300003, \"Volume\": 96418800, \"openChange\": -0.006869742632690579, \"closeChange\": -0.023717564793988566, \"weekday_num\": 0, \"month\": 3, \"day\": 7, \"year\": 2022, \"display\": \"3-2022\"}, {\"Date\": \"2022-03-08\", \"Open\": 158.820007, \"High\": 162.880005, \"Low\": 155.800003, \"Close\": 157.440002, \"Adj Close\": 157.440002, \"Volume\": 131148300, \"openChange\": -0.0277913441001999, \"closeChange\": -0.01167608892009886, \"weekday_num\": 1, \"month\": 3, \"day\": 8, \"year\": 2022, \"display\": \"3-2022\"}, {\"Date\": \"2022-03-09\", \"Open\": 161.479996, \"High\": 163.410004, \"Low\": 159.410004, \"Close\": 162.949997, \"Adj Close\": 162.949997, \"Volume\": 91454900, \"openChange\": 0.016748450338501808, \"closeChange\": 0.034997427146882254, \"weekday_num\": 2, \"month\": 3, \"day\": 9, \"year\": 2022, \"display\": \"3-2022\"}, {\"Date\": \"2022-03-10\", \"Open\": 160.199997, \"High\": 160.389999, \"Low\": 155.979996, \"Close\": 158.520004, \"Adj Close\": 158.520004, \"Volume\": 105342000, \"openChange\": -0.007926672230038956, \"closeChange\": -0.02718621099452978, \"weekday_num\": 3, \"month\": 3, \"day\": 10, \"year\": 2022, \"display\": \"3-2022\"}, {\"Date\": \"2022-03-11\", \"Open\": 158.929993, \"High\": 159.279999, \"Low\": 154.5, \"Close\": 154.729996, \"Adj Close\": 154.729996, \"Volume\": 96970100, \"openChange\": -0.007927615629106377, \"closeChange\": -0.02390870492281849, \"weekday_num\": 4, \"month\": 3, \"day\": 11, \"year\": 2022, \"display\": \"3-2022\"}, {\"Date\": \"2022-03-14\", \"Open\": 151.449997, \"High\": 154.119995, \"Low\": 150.100006, \"Close\": 150.619995, \"Adj Close\": 150.619995, \"Volume\": 108732100, \"openChange\": -0.047064722390065206, \"closeChange\": -0.026562406167192076, \"weekday_num\": 0, \"month\": 3, \"day\": 14, \"year\": 2022, \"display\": \"3-2022\"}, {\"Date\": \"2022-03-15\", \"Open\": 150.899994, \"High\": 155.570007, \"Low\": 150.380005, \"Close\": 155.089996, \"Adj Close\": 155.089996, \"Volume\": 92964300, \"openChange\": -0.003631581451929655, \"closeChange\": 0.029677341311822758, \"weekday_num\": 1, \"month\": 3, \"day\": 15, \"year\": 2022, \"display\": \"3-2022\"}, {\"Date\": \"2022-03-16\", \"Open\": 157.050003, \"High\": 160.0, \"Low\": 154.460007, \"Close\": 159.589996, \"Adj Close\": 159.589996, \"Volume\": 102300200, \"openChange\": 0.04075552845946451, \"closeChange\": 0.02901541115521078, \"weekday_num\": 2, \"month\": 3, \"day\": 16, \"year\": 2022, \"display\": \"3-2022\"}, {\"Date\": \"2022-03-17\", \"Open\": 158.610001, \"High\": 161.0, \"Low\": 157.630005, \"Close\": 160.619995, \"Adj Close\": 160.619995, \"Volume\": 75615400, \"openChange\": 0.009933129386823447, \"closeChange\": 0.00645403236929698, \"weekday_num\": 3, \"month\": 3, \"day\": 17, \"year\": 2022, \"display\": \"3-2022\"}, {\"Date\": \"2022-03-18\", \"Open\": 160.509995, \"High\": 164.479996, \"Low\": 159.759995, \"Close\": 163.979996, \"Adj Close\": 163.979996, \"Volume\": 123511700, \"openChange\": 0.011979030250431677, \"closeChange\": 0.02091894598801347, \"weekday_num\": 4, \"month\": 3, \"day\": 18, \"year\": 2022, \"display\": \"3-2022\"}, {\"Date\": \"2022-03-21\", \"Open\": 163.509995, \"High\": 166.350006, \"Low\": 163.009995, \"Close\": 165.380005, \"Adj Close\": 165.380005, \"Volume\": 95811400, \"openChange\": 0.01869042485485095, \"closeChange\": 0.008537681632825533, \"weekday_num\": 0, \"month\": 3, \"day\": 21, \"year\": 2022, \"display\": \"3-2022\"}, {\"Date\": \"2022-03-22\", \"Open\": 165.509995, \"High\": 169.419998, \"Low\": 164.910004, \"Close\": 168.820007, \"Adj Close\": 168.820007, \"Volume\": 81532000, \"openChange\": 0.012231668161937215, \"closeChange\": 0.02080059194580386, \"weekday_num\": 1, \"month\": 3, \"day\": 22, \"year\": 2022, \"display\": \"3-2022\"}, {\"Date\": \"2022-03-23\", \"Open\": 167.990005, \"High\": 172.639999, \"Low\": 167.649994, \"Close\": 170.210007, \"Adj Close\": 170.210007, \"Volume\": 98062700, \"openChange\": 0.014984049754819928, \"closeChange\": 0.008233621267412783, \"weekday_num\": 2, \"month\": 3, \"day\": 23, \"year\": 2022, \"display\": \"3-2022\"}, {\"Date\": \"2022-03-24\", \"Open\": 171.059998, \"High\": 174.139999, \"Low\": 170.210007, \"Close\": 174.070007, \"Adj Close\": 174.070007, \"Volume\": 90131400, \"openChange\": 0.018274855102242693, \"closeChange\": 0.022677867582721056, \"weekday_num\": 3, \"month\": 3, \"day\": 24, \"year\": 2022, \"display\": \"3-2022\"}, {\"Date\": \"2022-03-25\", \"Open\": 173.880005, \"High\": 175.279999, \"Low\": 172.75, \"Close\": 174.720001, \"Adj Close\": 174.720001, \"Volume\": 80546200, \"openChange\": 0.0164854848180227, \"closeChange\": 0.0037340953286684186, \"weekday_num\": 4, \"month\": 3, \"day\": 25, \"year\": 2022, \"display\": \"3-2022\"}, {\"Date\": \"2022-03-28\", \"Open\": 172.169998, \"High\": 175.729996, \"Low\": 172.0, \"Close\": 175.600006, \"Adj Close\": 175.600006, \"Volume\": 90371900, \"openChange\": -0.009834408504876824, \"closeChange\": 0.00503665862501923, \"weekday_num\": 0, \"month\": 3, \"day\": 28, \"year\": 2022, \"display\": \"3-2022\"}, {\"Date\": \"2022-03-29\", \"Open\": 176.690002, \"High\": 179.009995, \"Low\": 176.339996, \"Close\": 178.960007, \"Adj Close\": 178.960007, \"Volume\": 100589400, \"openChange\": 0.026253145452205917, \"closeChange\": 0.019134401396318834, \"weekday_num\": 1, \"month\": 3, \"day\": 29, \"year\": 2022, \"display\": \"3-2022\"}, {\"Date\": \"2022-03-30\", \"Open\": 178.550003, \"High\": 179.610001, \"Low\": 176.699997, \"Close\": 177.770004, \"Adj Close\": 177.770004, \"Volume\": 92633200, \"openChange\": 0.010526917080458276, \"closeChange\": -0.006649547124794153, \"weekday_num\": 2, \"month\": 3, \"day\": 30, \"year\": 2022, \"display\": \"3-2022\"}, {\"Date\": \"2022-03-31\", \"Open\": 177.839996, \"High\": 178.029999, \"Low\": 174.399994, \"Close\": 174.610001, \"Adj Close\": 174.610001, \"Volume\": 103049300, \"openChange\": -0.003976516315152279, \"closeChange\": -0.01777579416603936, \"weekday_num\": 3, \"month\": 3, \"day\": 31, \"year\": 2022, \"display\": \"3-2022\"}, {\"Date\": \"2022-04-01\", \"Open\": 174.029999, \"High\": 174.880005, \"Low\": 171.940002, \"Close\": 174.309998, \"Adj Close\": 174.309998, \"Volume\": 78699800, \"openChange\": -0.021423735299679225, \"closeChange\": -0.001718131826824787, \"weekday_num\": 4, \"month\": 4, \"day\": 1, \"year\": 2022, \"display\": \"4-2022\"}, {\"Date\": \"2022-04-04\", \"Open\": 174.570007, \"High\": 178.490005, \"Low\": 174.440002, \"Close\": 178.440002, \"Adj Close\": 178.440002, \"Volume\": 76468400, \"openChange\": 0.003102959277727635, \"closeChange\": 0.023693442988852453, \"weekday_num\": 0, \"month\": 4, \"day\": 4, \"year\": 2022, \"display\": \"4-2022\"}, {\"Date\": \"2022-04-05\", \"Open\": 177.5, \"High\": 178.300003, \"Low\": 174.419998, \"Close\": 175.059998, \"Adj Close\": 175.059998, \"Volume\": 73401800, \"openChange\": 0.016784057297998478, \"closeChange\": -0.01894196347296606, \"weekday_num\": 1, \"month\": 4, \"day\": 5, \"year\": 2022, \"display\": \"4-2022\"}, {\"Date\": \"2022-04-06\", \"Open\": 172.360001, \"High\": 173.630005, \"Low\": 170.130005, \"Close\": 171.830002, \"Adj Close\": 171.830002, \"Volume\": 89058800, \"openChange\": -0.028957740845070412, \"closeChange\": -0.01845079422427509, \"weekday_num\": 2, \"month\": 4, \"day\": 6, \"year\": 2022, \"display\": \"4-2022\"}, {\"Date\": \"2022-04-07\", \"Open\": 171.160004, \"High\": 173.360001, \"Low\": 169.850006, \"Close\": 172.139999, \"Adj Close\": 172.139999, \"Volume\": 77594700, \"openChange\": -0.006962154751902205, \"closeChange\": 0.0018040912319838842, \"weekday_num\": 3, \"month\": 4, \"day\": 7, \"year\": 2022, \"display\": \"4-2022\"}, {\"Date\": \"2022-04-08\", \"Open\": 171.779999, \"High\": 171.779999, \"Low\": 169.199997, \"Close\": 170.089996, \"Adj Close\": 170.089996, \"Volume\": 76515900, \"openChange\": 0.0036223123715282135, \"closeChange\": -0.011908928848082367, \"weekday_num\": 4, \"month\": 4, \"day\": 8, \"year\": 2022, \"display\": \"4-2022\"}, {\"Date\": \"2022-04-11\", \"Open\": 168.710007, \"High\": 169.029999, \"Low\": 165.5, \"Close\": 165.75, \"Adj Close\": 165.75, \"Volume\": 72246700, \"openChange\": -0.017871649888646313, \"closeChange\": -0.025515880428382265, \"weekday_num\": 0, \"month\": 4, \"day\": 11, \"year\": 2022, \"display\": \"4-2022\"}, {\"Date\": \"2022-04-12\", \"Open\": 168.020004, \"High\": 169.869995, \"Low\": 166.639999, \"Close\": 167.660004, \"Adj Close\": 167.660004, \"Volume\": 79265200, \"openChange\": -0.004089875949089272, \"closeChange\": 0.011523402714932018, \"weekday_num\": 1, \"month\": 4, \"day\": 12, \"year\": 2022, \"display\": \"4-2022\"}, {\"Date\": \"2022-04-13\", \"Open\": 167.389999, \"High\": 171.039993, \"Low\": 166.770004, \"Close\": 170.399994, \"Adj Close\": 170.399994, \"Volume\": 70618900, \"openChange\": -0.0037495832936654816, \"closeChange\": 0.016342538080817537, \"weekday_num\": 2, \"month\": 4, \"day\": 13, \"year\": 2022, \"display\": \"4-2022\"}, {\"Date\": \"2022-04-14\", \"Open\": 170.619995, \"High\": 171.270004, \"Low\": 165.039993, \"Close\": 165.289993, \"Adj Close\": 165.289993, \"Volume\": 75237500, \"openChange\": 0.019296230475513765, \"closeChange\": -0.02998826983526759, \"weekday_num\": 3, \"month\": 4, \"day\": 14, \"year\": 2022, \"display\": \"4-2022\"}, {\"Date\": \"2022-04-18\", \"Open\": 163.919998, \"High\": 166.600006, \"Low\": 163.570007, \"Close\": 165.070007, \"Adj Close\": 165.070007, \"Volume\": 69023900, \"openChange\": -0.039268533561966135, \"closeChange\": -0.0013309093672718708, \"weekday_num\": 0, \"month\": 4, \"day\": 18, \"year\": 2022, \"display\": \"4-2022\"}, {\"Date\": \"2022-04-19\", \"Open\": 165.020004, \"High\": 167.820007, \"Low\": 163.910004, \"Close\": 167.399994, \"Adj Close\": 167.399994, \"Volume\": 67723800, \"openChange\": 0.006710627217064724, \"closeChange\": 0.014115144491391396, \"weekday_num\": 1, \"month\": 4, \"day\": 19, \"year\": 2022, \"display\": \"4-2022\"}, {\"Date\": \"2022-04-20\", \"Open\": 168.759995, \"High\": 168.880005, \"Low\": 166.100006, \"Close\": 167.229996, \"Adj Close\": 167.229996, \"Volume\": 67929800, \"openChange\": 0.022663864436701875, \"closeChange\": -0.0010155197496601875, \"weekday_num\": 2, \"month\": 4, \"day\": 20, \"year\": 2022, \"display\": \"4-2022\"}, {\"Date\": \"2022-04-21\", \"Open\": 168.910004, \"High\": 171.529999, \"Low\": 165.910004, \"Close\": 166.419998, \"Adj Close\": 166.419998, \"Volume\": 87227800, \"openChange\": 0.000888889573621876, \"closeChange\": -0.004843616691828423, \"weekday_num\": 3, \"month\": 4, \"day\": 21, \"year\": 2022, \"display\": \"4-2022\"}, {\"Date\": \"2022-04-22\", \"Open\": 166.460007, \"High\": 167.869995, \"Low\": 161.5, \"Close\": 161.789993, \"Adj Close\": 161.789993, \"Volume\": 84775200, \"openChange\": -0.014504747747208557, \"closeChange\": -0.027821205718317477, \"weekday_num\": 4, \"month\": 4, \"day\": 22, \"year\": 2022, \"display\": \"4-2022\"}, {\"Date\": \"2022-04-25\", \"Open\": 161.119995, \"High\": 163.169998, \"Low\": 158.460007, \"Close\": 162.880005, \"Adj Close\": 162.880005, \"Volume\": 96046400, \"openChange\": -0.03207984966623245, \"closeChange\": 0.006737202838002387, \"weekday_num\": 0, \"month\": 4, \"day\": 25, \"year\": 2022, \"display\": \"4-2022\"}, {\"Date\": \"2022-04-26\", \"Open\": 162.25, \"High\": 162.339996, \"Low\": 156.720001, \"Close\": 156.800003, \"Adj Close\": 156.800003, \"Volume\": 95623200, \"openChange\": 0.0070134374073187455, \"closeChange\": -0.03732810543565501, \"weekday_num\": 1, \"month\": 4, \"day\": 26, \"year\": 2022, \"display\": \"4-2022\"}, {\"Date\": \"2022-04-27\", \"Open\": 155.910004, \"High\": 159.789993, \"Low\": 155.380005, \"Close\": 156.570007, \"Adj Close\": 156.570007, \"Volume\": 87511222, \"openChange\": -0.03907547611710327, \"closeChange\": -0.0014668111964257768, \"weekday_num\": 2, \"month\": 4, \"day\": 27, \"year\": 2022, \"display\": \"4-2022\"}]}}, {\"mode\": \"vega-lite\"});\n",
              "</script>"
            ],
            "text/plain": [
              "alt.Chart(...)"
            ]
          },
          "metadata": {},
          "execution_count": 4
        }
      ]
    },
    {
      "cell_type": "code",
      "source": [
        "stockDf.Date = pd.to_datetime(stockDf.Date, format = '%Y/%m/%d')\n",
        "plot_Stock = stockDf.set_index('Date') \n",
        "plot_Stock['Close'].plot(figsize=(10,5))"
      ],
      "metadata": {
        "id": "vqOgWEjyBGmM",
        "colab": {
          "base_uri": "https://localhost:8080/",
          "height": 343
        },
        "outputId": "b83e119f-c35f-46dd-b075-fb2b13b1fd61"
      },
      "execution_count": 5,
      "outputs": [
        {
          "output_type": "execute_result",
          "data": {
            "text/plain": [
              "<matplotlib.axes._subplots.AxesSubplot at 0x7f5f090c8410>"
            ]
          },
          "metadata": {},
          "execution_count": 5
        },
        {
          "output_type": "display_data",
          "data": {
            "text/plain": [
              "<Figure size 720x360 with 1 Axes>"
            ],
            "image/png": "[encoded data removed]"
          },
          "metadata": {
            "needs_background": "light"
          }
        }
      ]
    },
    {
      "cell_type": "code",
      "source": [
        "closedChart = (alt.Chart(stockDf).mark_line().encode(x='Date', y='closeChange', color=alt.value('black')).properties(height=400, width=2000))\n",
        "openChart = (alt.Chart(stockDf).mark_line().encode(x='Date', y='openChange', color=alt.value('green')).properties(height=400, width=2000))\n",
        "closedChart+openChart"
      ],
      "metadata": {
        "id": "X5X4EH9IkQ3m"
      },
      "execution_count": null,
      "outputs": []
    },
    {
      "cell_type": "code",
      "source": [
        "open = (alt.\n",
        "         Chart(stockDf).\n",
        "         mark_line().\n",
        "         encode(x=alt.X('display', sort=['year', 'month']), y='max(Close)', color='year').\n",
        "         properties(height=400, width=500))\n",
        "open"
      ],
      "metadata": {
        "id": "1OHtqmcOkaHg"
      },
      "execution_count": null,
      "outputs": []
    },
    {
      "cell_type": "code",
      "source": [
        "from altair import datum\n",
        "open = (alt.\n",
        "         Chart(stockDf).transform_filter(datum.year==2018).\n",
        "         mark_line().\n",
        "         encode(x=alt.X('display', sort=['year', 'month']), y='max(Close)', color='year').\n",
        "         properties(height=200, width=500))\n",
        "open"
      ],
      "metadata": {
        "id": "uLF0V_Tflw68"
      },
      "execution_count": null,
      "outputs": []
    },
    {
      "cell_type": "code",
      "source": [
        "from altair import datum\n",
        "open = (alt.\n",
        "         Chart(stockDf).transform_filter(datum.year==2018).\n",
        "         mark_line().\n",
        "         encode(x=alt.X('week(Date):T', sort=['year', 'month']), y='max(Close)', color='year').\n",
        "         properties(height=200  , width=500))\n",
        "open"
      ],
      "metadata": {
        "id": "xl2sXK_ol0zc"
      },
      "execution_count": null,
      "outputs": []
    },
    {
      "cell_type": "code",
      "source": [
        "from altair import datum\n",
        "open = (alt.\n",
        "         Chart(stockDf).\n",
        "         mark_line().\n",
        "         encode(x=alt.X('month(Date):T'), y='max(closeChange)', color='year').\n",
        "         properties(height=200  , width=500))\n",
        "open"
      ],
      "metadata": {
        "id": "fvlptuopl_TY"
      },
      "execution_count": null,
      "outputs": []
    },
    {
      "cell_type": "code",
      "source": [
        "from altair import datum\n",
        "open = (alt.\n",
        "         Chart(stockDf).transform_filter(datum.month==3).\n",
        "         mark_line().\n",
        "         encode(x=alt.X('day', sort=['year', 'month']), y='max(Volume)', color='year').\n",
        "         properties(height=200  , width=500))\n",
        "open"
      ],
      "metadata": {
        "id": "XWuawbcFmGqS"
      },
      "execution_count": null,
      "outputs": []
    },
    {
      "cell_type": "code",
      "source": [
        "from altair import datum\n",
        "open = (alt.\n",
        "         Chart(stockDf).transform_filter(datum.month==3).\n",
        "         mark_line().\n",
        "         encode(x=alt.X('day', sort=['year', 'month']), y='max(closeChange)', color='year').\n",
        "         properties(height=200  , width=500))\n",
        "open"
      ],
      "metadata": {
        "id": "44lvBWaWmNFM"
      },
      "execution_count": null,
      "outputs": []
    },
    {
      "cell_type": "code",
      "source": [
        "\n",
        "print('Featured selected: {}'.format(cols))\n",
        "stockDf = stockDf[cols].astype(str)\n",
        "for i in cols:\n",
        "    for j in range(0, len(stockDf)):\n",
        "        stockDf[i][j] = stockDf[i][j].replace(',', '')\n",
        "\n",
        "stockDf = stockDf.astype(float)\n",
        "\n",
        "# Using multiple features (predictors)\n",
        "newDf = stockDf.to_numpy()\n",
        "myDs = stockDf.to_numpy()\n",
        "myDs = myDs.astype('float32')\n",
        "print('Shape of training set == {}.'.format(newDf.shape))\n",
        "newDf\n"
      ],
      "metadata": {
        "colab": {
          "base_uri": "https://localhost:8080/"
        },
        "id": "gJmZPzMSpkE2",
        "outputId": "775819b0-1377-48e1-ead0-50be98ab0c5e"
      },
      "execution_count": 6,
      "outputs": [
        {
          "output_type": "stream",
          "name": "stdout",
          "text": [
            "Featured selected: ['Open', 'High', 'Low', 'Close', 'Adj Close', 'Volume']\n",
            "Shape of training set == (254, 6).\n"
          ]
        },
        {
          "output_type": "execute_result",
          "data": {
            "text/plain": [
              "array([[1.35009995e+02, 1.35410004e+02, 1.34110001e+02, 1.34389999e+02,\n",
              "        1.33595963e+02, 6.60158000e+07],\n",
              "       [1.34309998e+02, 1.35020004e+02, 1.33080002e+02, 1.33580002e+02,\n",
              "        1.32790741e+02, 1.07760100e+08],\n",
              "       [1.36470001e+02, 1.37070007e+02, 1.32449997e+02, 1.33479996e+02,\n",
              "        1.32691345e+02, 1.51101000e+08],\n",
              "       ...,\n",
              "       [1.61119995e+02, 1.63169998e+02, 1.58460007e+02, 1.62880005e+02,\n",
              "        1.62880005e+02, 9.60464000e+07],\n",
              "       [1.62250000e+02, 1.62339996e+02, 1.56720001e+02, 1.56800003e+02,\n",
              "        1.56800003e+02, 9.56232000e+07],\n",
              "       [1.55910004e+02, 1.59789993e+02, 1.55380005e+02, 1.56570007e+02,\n",
              "        1.56570007e+02, 8.75112220e+07]])"
            ]
          },
          "metadata": {},
          "execution_count": 6
        }
      ]
    },
    {
      "cell_type": "code",
      "source": [
        "#Creating a new Dataframe & Dataset with subset of records \n",
        "\n",
        "#Parameters\n",
        "#limitList = False\n",
        "#fromRecord = 50\n",
        "#toRecord = 100\n",
        "\n",
        "#newDf = pd.DataFrame().assign(Open=stockDf['Open'], Close=stockDf['Close'], Volume=stockDf['Volume'])\n",
        "#if limitList:\n",
        "  #newDf = newDf.loc[fromRecord:toRecord]\n",
        "#myDs = newDf.to_numpy()\n",
        "#myDs = myDs.astype('float32')\n",
        "#newDf.head(5)"
      ],
      "metadata": {
        "colab": {
          "base_uri": "https://localhost:8080/",
          "height": 206
        },
        "id": "XTbAXf4gmVMf",
        "outputId": "bdf2c9a7-879e-4653-811e-d81c869eee96"
      },
      "execution_count": null,
      "outputs": [
        {
          "output_type": "execute_result",
          "data": {
            "text/plain": [
              "    Open  Close    Volume\n",
              "0  3.800  4.778  93831500\n",
              "1  5.158  4.766  85935500\n",
              "2  5.000  4.392  41094000\n",
              "3  4.600  3.840  25699000\n",
              "4  4.000  3.222  34334500"
            ],
            "text/html": [
              "\n",
              "  <div id=\"df-575d4c67-224d-4269-bff2-16fe07b5df21\">\n",
              "    <div class=\"colab-df-container\">\n",
              "      <div>\n",
              "<style scoped>\n",
              "    .dataframe tbody tr th:only-of-type {\n",
              "        vertical-align: middle;\n",
              "    }\n",
              "\n",
              "    .dataframe tbody tr th {\n",
              "        vertical-align: top;\n",
              "    }\n",
              "\n",
              "    .dataframe thead th {\n",
              "        text-align: right;\n",
              "    }\n",
              "</style>\n",
              "<table border=\"1\" class=\"dataframe\">\n",
              "  <thead>\n",
              "    <tr style=\"text-align: right;\">\n",
              "      <th></th>\n",
              "      <th>Open</th>\n",
              "      <th>Close</th>\n",
              "      <th>Volume</th>\n",
              "    </tr>\n",
              "  </thead>\n",
              "  <tbody>\n",
              "    <tr>\n",
              "      <th>0</th>\n",
              "      <td>3.800</td>\n",
              "      <td>4.778</td>\n",
              "      <td>93831500</td>\n",
              "    </tr>\n",
              "    <tr>\n",
              "      <th>1</th>\n",
              "      <td>5.158</td>\n",
              "      <td>4.766</td>\n",
              "      <td>85935500</td>\n",
              "    </tr>\n",
              "    <tr>\n",
              "      <th>2</th>\n",
              "      <td>5.000</td>\n",
              "      <td>4.392</td>\n",
              "      <td>41094000</td>\n",
              "    </tr>\n",
              "    <tr>\n",
              "      <th>3</th>\n",
              "      <td>4.600</td>\n",
              "      <td>3.840</td>\n",
              "      <td>25699000</td>\n",
              "    </tr>\n",
              "    <tr>\n",
              "      <th>4</th>\n",
              "      <td>4.000</td>\n",
              "      <td>3.222</td>\n",
              "      <td>34334500</td>\n",
              "    </tr>\n",
              "  </tbody>\n",
              "</table>\n",
              "</div>\n",
              "      <button class=\"colab-df-convert\" onclick=\"convertToInteractive('df-575d4c67-224d-4269-bff2-16fe07b5df21')\"\n",
              "              title=\"Convert this dataframe to an interactive table.\"\n",
              "              style=\"display:none;\">\n",
              "        \n",
              "  <svg xmlns=\"http://www.w3.org/2000/svg\" height=\"24px\"viewBox=\"0 0 24 24\"\n",
              "       width=\"24px\">\n",
              "    <path d=\"M0 0h24v24H0V0z\" fill=\"none\"/>\n",
              "    <path d=\"M18.56 5.44l.94 2.06.94-2.06 2.06-.94-2.06-.94-.94-2.06-.94 2.06-2.06.94zm-11 1L8.5 8.5l.94-2.06 2.06-.94-2.06-.94L8.5 2.5l-.94 2.06-2.06.94zm10 10l.94 2.06.94-2.06 2.06-.94-2.06-.94-.94-2.06-.94 2.06-2.06.94z\"/><path d=\"M17.41 7.96l-1.37-1.37c-.4-.4-.92-.59-1.43-.59-.52 0-1.04.2-1.43.59L10.3 9.45l-7.72 7.72c-.78.78-.78 2.05 0 2.83L4 21.41c.39.39.9.59 1.41.59.51 0 1.02-.2 1.41-.59l7.78-7.78 2.81-2.81c.8-.78.8-2.07 0-2.86zM5.41 20L4 18.59l7.72-7.72 1.47 1.35L5.41 20z\"/>\n",
              "  </svg>\n",
              "      </button>\n",
              "      \n",
              "  <style>\n",
              "    .colab-df-container {\n",
              "      display:flex;\n",
              "      flex-wrap:wrap;\n",
              "      gap: 12px;\n",
              "    }\n",
              "\n",
              "    .colab-df-convert {\n",
              "      background-color: #E8F0FE;\n",
              "      border: none;\n",
              "      border-radius: 50%;\n",
              "      cursor: pointer;\n",
              "      display: none;\n",
              "      fill: #1967D2;\n",
              "      height: 32px;\n",
              "      padding: 0 0 0 0;\n",
              "      width: 32px;\n",
              "    }\n",
              "\n",
              "    .colab-df-convert:hover {\n",
              "      background-color: #E2EBFA;\n",
              "      box-shadow: 0px 1px 2px rgba(60, 64, 67, 0.3), 0px 1px 3px 1px rgba(60, 64, 67, 0.15);\n",
              "      fill: #174EA6;\n",
              "    }\n",
              "\n",
              "    [theme=dark] .colab-df-convert {\n",
              "      background-color: #3B4455;\n",
              "      fill: #D2E3FC;\n",
              "    }\n",
              "\n",
              "    [theme=dark] .colab-df-convert:hover {\n",
              "      background-color: #434B5C;\n",
              "      box-shadow: 0px 1px 3px 1px rgba(0, 0, 0, 0.15);\n",
              "      filter: drop-shadow(0px 1px 2px rgba(0, 0, 0, 0.3));\n",
              "      fill: #FFFFFF;\n",
              "    }\n",
              "  </style>\n",
              "\n",
              "      <script>\n",
              "        const buttonEl =\n",
              "          document.querySelector('#df-575d4c67-224d-4269-bff2-16fe07b5df21 button.colab-df-convert');\n",
              "        buttonEl.style.display =\n",
              "          google.colab.kernel.accessAllowed ? 'block' : 'none';\n",
              "\n",
              "        async function convertToInteractive(key) {\n",
              "          const element = document.querySelector('#df-575d4c67-224d-4269-bff2-16fe07b5df21');\n",
              "          const dataTable =\n",
              "            await google.colab.kernel.invokeFunction('convertToInteractive',\n",
              "                                                     [key], {});\n",
              "          if (!dataTable) return;\n",
              "\n",
              "          const docLinkHtml = 'Like what you see? Visit the ' +\n",
              "            '<a target=\"_blank\" href=https://colab.research.google.com/notebooks/data_table.ipynb>data table notebook</a>'\n",
              "            + ' to learn more about interactive tables.';\n",
              "          element.innerHTML = '';\n",
              "          dataTable['output_type'] = 'display_data';\n",
              "          await google.colab.output.renderOutput(dataTable, element);\n",
              "          const docLink = document.createElement('div');\n",
              "          docLink.innerHTML = docLinkHtml;\n",
              "          element.appendChild(docLink);\n",
              "        }\n",
              "      </script>\n",
              "    </div>\n",
              "  </div>\n",
              "  "
            ]
          },
          "metadata": {},
          "execution_count": 14
        }
      ]
    },
    {
      "cell_type": "code",
      "source": [
        "#Parameters\n",
        "trainingSet = .70\n",
        "featureRange1 = 0\n",
        "featureRange2 = 1\n",
        "newShape1 = -1\n",
        "newShape2 = 1 \n",
        "\n",
        "myDs = np.reshape(myDs, (newShape1, newShape2))\n",
        "scaler = MinMaxScaler(feature_range=(featureRange1, featureRange2))\n",
        "myDs = scaler.fit_transform(myDs)\n",
        "trainingSize = int(len(myDs) * trainingSet)\n",
        "testingSize = int(len(myDs) - trainingSize)\n",
        "trainData, testData = myDs[0:trainingSize,:], myDs[testingSize:len(myDs),:]"
      ],
      "metadata": {
        "id": "VDUEirYCnYqS"
      },
      "execution_count": 7,
      "outputs": []
    },
    {
      "cell_type": "code",
      "source": [
        "#Parameters\n",
        "batchSize = 5\n",
        "timeSteps = 1\n",
        "#Batch Data for optimization and accuracy\n",
        "#This creates batches with 1 to N records.  \n",
        "#X - Each Batch starts with the next item i in the list and contains specified number of additional items\n",
        "#Y - Contains the last item in each batch \"L\" or first \"F\" or previious \"P\" or next \"N\"\n",
        "def batchData(data, size, indexAlignment = \"L\"):\n",
        "    X, Y = [], [] \n",
        "    for i in range(len(data) - size - 1): \n",
        "        X.append(data[i:(i + size), 0])\n",
        "         \n",
        "        if indexAlignment == \"N\":\n",
        "          Y.append(data[i + size, 0])\n",
        "        elif indexAlignment == \"L\":\n",
        "          Y.append(data[i + size - 1, 0])\n",
        "        elif indexAlignment == \"P\":  \n",
        "          Y.append(data[i-1, 0])\n",
        "        else:\n",
        "          Y.append(data[i, 0]) \n",
        "\n",
        "    return np.array(X), np.array(Y)\n",
        "\n",
        "#Catch Batches for Accuracy and Optimization\n",
        "X_train, Y_train = batchData(trainData, batchSize, \"L\")\n",
        "X_test, Y_test = batchData(testData, batchSize,\"L\")"
      ],
      "metadata": {
        "id": "0ENORI1GvnqW"
      },
      "execution_count": 8,
      "outputs": []
    },
    {
      "cell_type": "code",
      "source": [
        "#Reshape data to normalize it [samples, time steps, features]\n",
        "print(\"take 2\")\n",
        "print('X_Train[0] (Samples): ' + str(X_train.shape[0]))\n",
        "print('X_Train[1] (Features): ' + str(X_train.shape[1]))\n",
        "X_train = np.reshape(X_train, (X_train.shape[0], timeSteps, X_train.shape[1]))\n",
        "X_test = np.reshape(X_test, (X_test.shape[0], timeSteps, X_test.shape[1]))\n",
        "print(\"take 2\")\n",
        "print('X_Train[0] (Samples): ' + str(X_train.shape[0]))\n",
        "print('X_Train[1] (Features): ' + str(X_train.shape[1]))"
      ],
      "metadata": {
        "id": "gekbe0dZp7H-",
        "colab": {
          "base_uri": "https://localhost:8080/"
        },
        "outputId": "c19772aa-3ce0-4ff3-f1bd-38dfab225155"
      },
      "execution_count": 9,
      "outputs": [
        {
          "output_type": "stream",
          "name": "stdout",
          "text": [
            "take 2\n",
            "X_Train[0] (Samples): 1060\n",
            "X_Train[1] (Features): 5\n",
            "take 2\n",
            "X_Train[0] (Samples): 1060\n",
            "X_Train[1] (Features): 1\n"
          ]
        }
      ]
    },
    {
      "cell_type": "code",
      "source": [
        "#Parameters\n",
        "verboseAmt = 1\n",
        "epochCnt = 25\n",
        "shuffleData = False\n",
        "dropOut = 0.2\n",
        "lstmActivation = 'relu'\n",
        "activationLayer = 'linear'\n",
        "lossType = 'mean_squared_error'\n",
        "optimizerType = 'adam'\n",
        "lstmUnits = 50\n",
        "lstmMultipleLayers = False\n",
        "\n",
        "model = Sequential()\n",
        "\n",
        "if lstmMultipleLayers:\n",
        "  model.add(LSTM(units = lstmUnits, return_sequences = True, activation = lstmActivation, input_shape = (X_train.shape[1], batchSize)))\n",
        "  model.add(Dropout(dropOut))\n",
        "\n",
        "  model.add(LSTM(units = lstmUnits, return_sequences = True))\n",
        "  model.add(Dropout(dropOut))\n",
        "\n",
        "  model.add(LSTM(units = lstmUnits, return_sequences = True))\n",
        "  model.add(Dropout(dropOut))\n",
        "\n",
        "  model.add(LSTM(units = lstmUnits))\n",
        "  model.add(Dropout(dropOut))\n",
        "else:\n",
        "  model.add(LSTM(units = lstmUnits, activation = lstmActivation, input_shape = (X_train.shape[1], batchSize))) \n",
        "  model.add(Dropout(dropOut))\n",
        "\n",
        "model.add(Dense(1, activation = activationLayer))\n",
        "model.compile(loss = lossType, optimizer = optimizerType)\n",
        "modelFit = model.fit(X_train, Y_train, epochs = epochCnt, batch_size = batchSize, validation_data = (X_test, Y_test), verbose = verboseAmt, shuffle = False)\n",
        "model.summary()"
      ],
      "metadata": {
        "colab": {
          "base_uri": "https://localhost:8080/"
        },
        "id": "5LCmTInqLd8x",
        "outputId": "b78690fd-3d84-4554-86e3-1b214c2903dd"
      },
      "execution_count": 10,
      "outputs": [
        {
          "output_type": "stream",
          "name": "stdout",
          "text": [
            "Epoch 1/25\n",
            "212/212 [==============================] - 2s 5ms/step - loss: 0.0141 - val_loss: 0.0036\n",
            "Epoch 2/25\n",
            "212/212 [==============================] - 1s 3ms/step - loss: 0.0021 - val_loss: 5.1055e-04\n",
            "Epoch 3/25\n",
            "212/212 [==============================] - 1s 4ms/step - loss: 0.0014 - val_loss: 1.9221e-04\n",
            "Epoch 4/25\n",
            "212/212 [==============================] - 1s 4ms/step - loss: 9.9368e-04 - val_loss: 1.2836e-04\n",
            "Epoch 5/25\n",
            "212/212 [==============================] - 1s 4ms/step - loss: 8.1817e-04 - val_loss: 5.6266e-05\n",
            "Epoch 6/25\n",
            "212/212 [==============================] - 1s 3ms/step - loss: 7.1282e-04 - val_loss: 7.8394e-05\n",
            "Epoch 7/25\n",
            "212/212 [==============================] - 1s 3ms/step - loss: 7.0380e-04 - val_loss: 6.0591e-05\n",
            "Epoch 8/25\n",
            "212/212 [==============================] - 1s 4ms/step - loss: 6.7690e-04 - val_loss: 9.3779e-06\n",
            "Epoch 9/25\n",
            "212/212 [==============================] - 1s 4ms/step - loss: 5.4457e-04 - val_loss: 6.4584e-05\n",
            "Epoch 10/25\n",
            "212/212 [==============================] - 1s 4ms/step - loss: 4.9433e-04 - val_loss: 6.3712e-05\n",
            "Epoch 11/25\n",
            "212/212 [==============================] - 1s 4ms/step - loss: 4.0433e-04 - val_loss: 1.2448e-05\n",
            "Epoch 12/25\n",
            "212/212 [==============================] - 1s 4ms/step - loss: 5.5059e-04 - val_loss: 3.5340e-04\n",
            "Epoch 13/25\n",
            "212/212 [==============================] - 1s 3ms/step - loss: 5.3360e-04 - val_loss: 1.6849e-05\n",
            "Epoch 14/25\n",
            "212/212 [==============================] - 1s 4ms/step - loss: 5.4225e-04 - val_loss: 6.6932e-05\n",
            "Epoch 15/25\n",
            "212/212 [==============================] - 1s 4ms/step - loss: 5.6407e-04 - val_loss: 6.5209e-05\n",
            "Epoch 16/25\n",
            "212/212 [==============================] - 1s 4ms/step - loss: 5.9896e-04 - val_loss: 3.7807e-05\n",
            "Epoch 17/25\n",
            "212/212 [==============================] - 1s 3ms/step - loss: 4.8695e-04 - val_loss: 3.6991e-05\n",
            "Epoch 18/25\n",
            "212/212 [==============================] - 1s 4ms/step - loss: 4.8462e-04 - val_loss: 4.1837e-05\n",
            "Epoch 19/25\n",
            "212/212 [==============================] - 1s 4ms/step - loss: 4.7732e-04 - val_loss: 1.0664e-04\n",
            "Epoch 20/25\n",
            "212/212 [==============================] - 1s 3ms/step - loss: 4.4703e-04 - val_loss: 1.8693e-05\n",
            "Epoch 21/25\n",
            "212/212 [==============================] - 1s 4ms/step - loss: 5.0154e-04 - val_loss: 3.2930e-04\n",
            "Epoch 22/25\n",
            "212/212 [==============================] - 1s 4ms/step - loss: 4.9329e-04 - val_loss: 1.0010e-04\n",
            "Epoch 23/25\n",
            "212/212 [==============================] - 1s 3ms/step - loss: 4.4270e-04 - val_loss: 1.5322e-04\n",
            "Epoch 24/25\n",
            "212/212 [==============================] - 1s 4ms/step - loss: 4.7301e-04 - val_loss: 4.0401e-05\n",
            "Epoch 25/25\n",
            "212/212 [==============================] - 1s 4ms/step - loss: 4.5475e-04 - val_loss: 8.5344e-05\n",
            "Model: \"sequential\"\n",
            "_________________________________________________________________\n",
            " Layer (type)                Output Shape              Param #   \n",
            "=================================================================\n",
            " lstm (LSTM)                 (None, 50)                11200     \n",
            "                                                                 \n",
            " dropout (Dropout)           (None, 50)                0         \n",
            "                                                                 \n",
            " dense (Dense)               (None, 1)                 51        \n",
            "                                                                 \n",
            "=================================================================\n",
            "Total params: 11,251\n",
            "Trainable params: 11,251\n",
            "Non-trainable params: 0\n",
            "_________________________________________________________________\n"
          ]
        }
      ]
    },
    {
      "cell_type": "code",
      "source": [
        "#Predictions\n",
        "train_predict = model.predict(X_train)\n",
        "Y_trained_predict = scaler.inverse_transform(train_predict)\n",
        "\n",
        "test_predict = model.predict(X_test)\n",
        "Y_test_predict = scaler.inverse_transform(test_predict)\n",
        "\n",
        "Y_test = scaler.inverse_transform([Y_test])\n",
        "Y_train = scaler.inverse_transform([Y_train])"
      ],
      "metadata": {
        "id": "scYMPFl9uhZk"
      },
      "execution_count": 11,
      "outputs": []
    },
    {
      "cell_type": "code",
      "source": [
        "print('X_train: ' + str(len(X_train)))\n",
        "print('X_test: ' + str(len(X_test)))\n",
        "print('Y_train: ' + str(len(Y_train)))\n",
        "print('Y_test: ' + str(len(Y_test)))\n",
        "print('')\n",
        "print('train_predict: ' + str(len(train_predict)))\n",
        "print('Y_trained_predict: ' + str(len(Y_trained_predict)))\n",
        "print('test_predict: ' + str(len(test_predict)))\n",
        "print('Y_test_predict: ' + str(len(Y_test_predict)))\n",
        "print('Shape of Y_train:'  + str(Y_train.shape[0]))\n",
        "print('Shape of Y_train:' + str(Y_train.shape[0]))\n",
        "print('Shape of Y_train:'  + str(Y_train.shape[0]))\n",
        "print('Shape of Y_train:'  + str(Y_train.shape[0]))"
      ],
      "metadata": {
        "colab": {
          "base_uri": "https://localhost:8080/"
        },
        "id": "y9Wl4OhwjXdQ",
        "outputId": "f44b5e67-665c-4c7d-e862-e5fa56a34ec1"
      },
      "execution_count": 12,
      "outputs": [
        {
          "output_type": "stream",
          "name": "stdout",
          "text": [
            "X_train: 1060\n",
            "X_test: 1060\n",
            "Y_train: 1\n",
            "Y_test: 1\n",
            "\n",
            "train_predict: 1060\n",
            "Y_trained_predict: 1060\n",
            "test_predict: 1060\n",
            "Y_test_predict: 1060\n",
            "Shape of Y_train:1\n",
            "Shape of Y_train:1\n",
            "Shape of Y_train:1\n",
            "Shape of Y_train:1\n"
          ]
        }
      ]
    },
    {
      "cell_type": "code",
      "source": [
        "#inverse the inverse\n",
        "Y_trained_predict = scaler.inverse_transform(train_predict)\n",
        "Y_test_predict = scaler.inverse_transform(test_predict)\n",
        "\n",
        "s1 = Y_test.shape[0]\n",
        "s2 = Y_test.shape[1]\n",
        "Y_test = Y_test.reshape(s2,s1)\n",
        "s1 = Y_train.shape[0]\n",
        "s2 = Y_train.shape[1]\n",
        "Y_train = Y_train.reshape(s2,s1)"
      ],
      "metadata": {
        "id": "nS0SxtLENjOm"
      },
      "execution_count": 13,
      "outputs": []
    },
    {
      "cell_type": "code",
      "source": [
        "#Calculate Accuracy\n",
        "train_RMSE = np.sqrt(mean_squared_error(Y_train, Y_trained_predict))\n",
        "test_RMSE = np.sqrt(mean_squared_error(Y_test, Y_test_predict))\n",
        "\n",
        "print('Train RMSE is: ')\n",
        "print(train_RMSE, '\\n')\n",
        "print('Test RMSE is: ')\n",
        "print(test_RMSE)"
      ],
      "metadata": {
        "id": "jkQfl4IuvtVQ",
        "colab": {
          "base_uri": "https://localhost:8080/"
        },
        "outputId": "b7fdbce4-8a28-4b01-916d-1eb957eb6977"
      },
      "execution_count": 14,
      "outputs": [
        {
          "output_type": "stream",
          "name": "stdout",
          "text": [
            "Train RMSE is: \n",
            "1701176.6237109008 \n",
            "\n",
            "Test RMSE is: \n",
            "1805444.4954577265\n"
          ]
        }
      ]
    },
    {
      "cell_type": "code",
      "source": [
        "#Actual vs Predicted Data\n",
        "Y = np.append(Y_train, Y_test)\n",
        "Y_hat = np.append(Y_trained_predict, Y_test_predict)\n",
        "\n",
        "result_df = pd.DataFrame()\n",
        "result_df['Actual_Y'] = Y\n",
        "result_df['Predicted_Y'] = Y_hat\n",
        "result_df.head()"
      ],
      "metadata": {
        "id": "qVU-Qwm7v2ip",
        "colab": {
          "base_uri": "https://localhost:8080/",
          "height": 206
        },
        "outputId": "89875e62-a9f6-49a3-bdf9-ec507b461251"
      },
      "execution_count": 15,
      "outputs": [
        {
          "output_type": "execute_result",
          "data": {
            "text/plain": [
              "       Actual_Y   Predicted_Y\n",
              "0  1.335960e+02  2.590945e+05\n",
              "1  6.601580e+07  6.889646e+07\n",
              "2  1.343100e+02 -6.235238e+05\n",
              "3  1.350200e+02 -4.712609e+05\n",
              "4  1.330800e+02 -4.703989e+05"
            ],
            "text/html": [
              "\n",
              "  <div id=\"df-f46b303c-b1cb-47a3-82a5-3824a84cdf3e\">\n",
              "    <div class=\"colab-df-container\">\n",
              "      <div>\n",
              "<style scoped>\n",
              "    .dataframe tbody tr th:only-of-type {\n",
              "        vertical-align: middle;\n",
              "    }\n",
              "\n",
              "    .dataframe tbody tr th {\n",
              "        vertical-align: top;\n",
              "    }\n",
              "\n",
              "    .dataframe thead th {\n",
              "        text-align: right;\n",
              "    }\n",
              "</style>\n",
              "<table border=\"1\" class=\"dataframe\">\n",
              "  <thead>\n",
              "    <tr style=\"text-align: right;\">\n",
              "      <th></th>\n",
              "      <th>Actual_Y</th>\n",
              "      <th>Predicted_Y</th>\n",
              "    </tr>\n",
              "  </thead>\n",
              "  <tbody>\n",
              "    <tr>\n",
              "      <th>0</th>\n",
              "      <td>1.335960e+02</td>\n",
              "      <td>2.590945e+05</td>\n",
              "    </tr>\n",
              "    <tr>\n",
              "      <th>1</th>\n",
              "      <td>6.601580e+07</td>\n",
              "      <td>6.889646e+07</td>\n",
              "    </tr>\n",
              "    <tr>\n",
              "      <th>2</th>\n",
              "      <td>1.343100e+02</td>\n",
              "      <td>-6.235238e+05</td>\n",
              "    </tr>\n",
              "    <tr>\n",
              "      <th>3</th>\n",
              "      <td>1.350200e+02</td>\n",
              "      <td>-4.712609e+05</td>\n",
              "    </tr>\n",
              "    <tr>\n",
              "      <th>4</th>\n",
              "      <td>1.330800e+02</td>\n",
              "      <td>-4.703989e+05</td>\n",
              "    </tr>\n",
              "  </tbody>\n",
              "</table>\n",
              "</div>\n",
              "      <button class=\"colab-df-convert\" onclick=\"convertToInteractive('df-f46b303c-b1cb-47a3-82a5-3824a84cdf3e')\"\n",
              "              title=\"Convert this dataframe to an interactive table.\"\n",
              "              style=\"display:none;\">\n",
              "        \n",
              "  <svg xmlns=\"http://www.w3.org/2000/svg\" height=\"24px\"viewBox=\"0 0 24 24\"\n",
              "       width=\"24px\">\n",
              "    <path d=\"M0 0h24v24H0V0z\" fill=\"none\"/>\n",
              "    <path d=\"M18.56 5.44l.94 2.06.94-2.06 2.06-.94-2.06-.94-.94-2.06-.94 2.06-2.06.94zm-11 1L8.5 8.5l.94-2.06 2.06-.94-2.06-.94L8.5 2.5l-.94 2.06-2.06.94zm10 10l.94 2.06.94-2.06 2.06-.94-2.06-.94-.94-2.06-.94 2.06-2.06.94z\"/><path d=\"M17.41 7.96l-1.37-1.37c-.4-.4-.92-.59-1.43-.59-.52 0-1.04.2-1.43.59L10.3 9.45l-7.72 7.72c-.78.78-.78 2.05 0 2.83L4 21.41c.39.39.9.59 1.41.59.51 0 1.02-.2 1.41-.59l7.78-7.78 2.81-2.81c.8-.78.8-2.07 0-2.86zM5.41 20L4 18.59l7.72-7.72 1.47 1.35L5.41 20z\"/>\n",
              "  </svg>\n",
              "      </button>\n",
              "      \n",
              "  <style>\n",
              "    .colab-df-container {\n",
              "      display:flex;\n",
              "      flex-wrap:wrap;\n",
              "      gap: 12px;\n",
              "    }\n",
              "\n",
              "    .colab-df-convert {\n",
              "      background-color: #E8F0FE;\n",
              "      border: none;\n",
              "      border-radius: 50%;\n",
              "      cursor: pointer;\n",
              "      display: none;\n",
              "      fill: #1967D2;\n",
              "      height: 32px;\n",
              "      padding: 0 0 0 0;\n",
              "      width: 32px;\n",
              "    }\n",
              "\n",
              "    .colab-df-convert:hover {\n",
              "      background-color: #E2EBFA;\n",
              "      box-shadow: 0px 1px 2px rgba(60, 64, 67, 0.3), 0px 1px 3px 1px rgba(60, 64, 67, 0.15);\n",
              "      fill: #174EA6;\n",
              "    }\n",
              "\n",
              "    [theme=dark] .colab-df-convert {\n",
              "      background-color: #3B4455;\n",
              "      fill: #D2E3FC;\n",
              "    }\n",
              "\n",
              "    [theme=dark] .colab-df-convert:hover {\n",
              "      background-color: #434B5C;\n",
              "      box-shadow: 0px 1px 3px 1px rgba(0, 0, 0, 0.15);\n",
              "      filter: drop-shadow(0px 1px 2px rgba(0, 0, 0, 0.3));\n",
              "      fill: #FFFFFF;\n",
              "    }\n",
              "  </style>\n",
              "\n",
              "      <script>\n",
              "        const buttonEl =\n",
              "          document.querySelector('#df-f46b303c-b1cb-47a3-82a5-3824a84cdf3e button.colab-df-convert');\n",
              "        buttonEl.style.display =\n",
              "          google.colab.kernel.accessAllowed ? 'block' : 'none';\n",
              "\n",
              "        async function convertToInteractive(key) {\n",
              "          const element = document.querySelector('#df-f46b303c-b1cb-47a3-82a5-3824a84cdf3e');\n",
              "          const dataTable =\n",
              "            await google.colab.kernel.invokeFunction('convertToInteractive',\n",
              "                                                     [key], {});\n",
              "          if (!dataTable) return;\n",
              "\n",
              "          const docLinkHtml = 'Like what you see? Visit the ' +\n",
              "            '<a target=\"_blank\" href=https://colab.research.google.com/notebooks/data_table.ipynb>data table notebook</a>'\n",
              "            + ' to learn more about interactive tables.';\n",
              "          element.innerHTML = '';\n",
              "          dataTable['output_type'] = 'display_data';\n",
              "          await google.colab.output.renderOutput(dataTable, element);\n",
              "          const docLink = document.createElement('div');\n",
              "          docLink.innerHTML = docLinkHtml;\n",
              "          element.appendChild(docLink);\n",
              "        }\n",
              "      </script>\n",
              "    </div>\n",
              "  </div>\n",
              "  "
            ]
          },
          "metadata": {},
          "execution_count": 15
        }
      ]
    },
    {
      "cell_type": "code",
      "source": [
        "#Actual vs Predicted Graph\n",
        "result_df.plot(figsize=(20,5))\n",
        "mplot.xlabel('Time in Days')\n",
        "mplot.ylabel('Value of Stock')"
      ],
      "metadata": {
        "id": "zonvAPC4v62G",
        "colab": {
          "base_uri": "https://localhost:8080/",
          "height": 320
        },
        "outputId": "50ea6c45-2b42-47d1-fba1-74d2a83d0f3a"
      },
      "execution_count": null,
      "outputs": [
        {
          "output_type": "execute_result",
          "data": {
            "text/plain": [
              "Text(0, 0.5, 'Value of Stock')"
            ]
          },
          "metadata": {},
          "execution_count": 22
        },
        {
          "output_type": "display_data",
          "data": {
            "text/plain": [
              "<Figure size 1440x360 with 1 Axes>"
            ],
            "image/png": "[encoded data removed]"
          },
          "metadata": {
            "needs_background": "light"
          }
        }
      ]
    }
  ]
}