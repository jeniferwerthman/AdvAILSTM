{
  "nbformat": 4,
  "nbformat_minor": 0,
  "metadata": {
    "colab": {
      "name": "LSTMStock-Take2.ipynb",
      "provenance": [],
      "collapsed_sections": [],
      "authorship_tag": "ABX9TyOeiLv1ZJ9cIdUYIl9yw28J",
      "include_colab_link": true
    },
    "kernelspec": {
      "name": "python3",
      "display_name": "Python 3"
    },
    "language_info": {
      "name": "python"
    }
  },
  "cells": [
    {
      "cell_type": "markdown",
      "metadata": {
        "id": "view-in-github",
        "colab_type": "text"
      },
      "source": [
        "<a href=\"https://colab.research.google.com/github/jeniferwerthman/AdvAILSTM/blob/main/LSTMStock_FinalVersion.ipynb\" target=\"_parent\"><img src=\"https://colab.research.google.com/assets/colab-badge.svg\" alt=\"Open In Colab\"/></a>"
      ]
    },
    {
      "cell_type": "code",
      "execution_count": 93,
      "metadata": {
        "id": "XZyj7QpGi81g"
      },
      "outputs": [],
      "source": [
        "import pandas as pd\n",
        "import pandas_datareader as pdr\n",
        "import os\n",
        "import matplotlib.pyplot as mplot\n",
        "from matplotlib.ticker import MultipleLocator\n",
        "import matplotlib.dates as mdates\n",
        "import numpy as np\n",
        "import altair as alt \n",
        "import tensorflow as tf \n",
        "import datetime as dt\n",
        "from sklearn.preprocessing import MinMaxScaler\n",
        "from sklearn.metrics import mean_squared_error\n",
        "\n",
        "from keras.models import Sequential\n",
        "from keras.layers import Dense\n",
        "from keras.layers import LSTM\n",
        "from keras.layers import Dropout"
      ]
    },
    {
      "cell_type": "code",
      "source": [
        "#Import Data\n",
        "stockDf = pd.read_csv('MSFT.csv',delimiter=',')\n",
        "stockDf['openChange'] = stockDf.Open.pct_change()\n",
        "stockDf['closeChange'] = stockDf.Close.pct_change()\n",
        "stockDf['weekday_num'] = pd.DatetimeIndex(stockDf['Date']).weekday\n",
        "stockDf['month'] = pd.DatetimeIndex(stockDf['Date']).month\n",
        "stockDf['day'] = pd.DatetimeIndex(stockDf['Date']).day\n",
        "stockDf['year'] = pd.DatetimeIndex(stockDf['Date']).year\n",
        "stockDf['display'] = stockDf[\"month\"].map(str)+ \"-\" + stockDf[\"year\"].map(str)\n",
        "\n",
        "# Select features (columns) to be involved intro training and predictions\n",
        "cols = list(stockDf)[1:6]\n",
        "\n",
        "# Extract dates (will be used in visualization)\n",
        "datelist_train = list(stockDf['Date']) \n",
        "datelist_train = [dt.datetime.strptime(date, '%Y-%m-%d').date() for date in datelist_train]\n",
        "\n",
        "print('Training set shape == {}'.format(stockDf.shape))\n",
        "print('All timestamps == {}'.format(len(datelist_train)))\n",
        "print('Featured selected: {}'.format(cols))"
      ],
      "metadata": {
        "id": "GKIxzjYwjced",
        "colab": {
          "base_uri": "https://localhost:8080/"
        },
        "outputId": "10830dcc-22af-4c32-a269-16756e152e9a"
      },
      "execution_count": 116,
      "outputs": [
        {
          "output_type": "stream",
          "name": "stdout",
          "text": [
            "Training set shape == (1260, 14)\n",
            "All timestamps == 1260\n",
            "Featured selected: ['Open', 'High', 'Low', 'Close', 'Adj Close']\n"
          ]
        }
      ]
    },
    {
      "cell_type": "code",
      "source": [
        "[[stockDf]]"
      ],
      "metadata": {
        "id": "iM-IkVGVkE3a",
        "outputId": "1fc518d7-f2f8-4d07-a625-403b04914400",
        "colab": {
          "base_uri": "https://localhost:8080/"
        }
      },
      "execution_count": 98,
      "outputs": [
        {
          "output_type": "execute_result",
          "data": {
            "text/plain": [
              "[[            Date        Open        High         Low       Close   Adj Close  \\\n",
              "  0     2017-04-17   65.040001   65.489998   65.010002   65.480003   61.124588   \n",
              "  1     2017-04-18   65.330002   65.709999   65.160004   65.389999   61.040569   \n",
              "  2     2017-04-19   65.650002   65.750000   64.889999   65.040001   60.713860   \n",
              "  3     2017-04-20   65.459999   65.750000   65.139999   65.500000   61.143257   \n",
              "  4     2017-04-21   65.669998   66.699997   65.449997   66.400002   61.983387   \n",
              "  ...          ...         ...         ...         ...         ...         ...   \n",
              "  1255  2022-04-08  300.440002  301.119995  296.279999  296.970001  296.970001   \n",
              "  1256  2022-04-11  291.790009  292.609985  285.000000  285.260010  285.260010   \n",
              "  1257  2022-04-12  289.239990  290.739990  280.489990  282.059998  282.059998   \n",
              "  1258  2022-04-13  282.730011  288.579987  281.299988  287.619995  287.619995   \n",
              "  1259  2022-04-14  288.089996  288.309998  279.320007  279.829987  279.829987   \n",
              "  \n",
              "          Volume  openChange  closeChange  weekday_num  month  day  year display  \n",
              "  0     16689300         NaN          NaN            0      4   17  2017  4-2017  \n",
              "  1     15155600    0.004459    -0.001375            1      4   18  2017  4-2017  \n",
              "  2     26992800    0.004898    -0.005352            2      4   19  2017  4-2017  \n",
              "  3     22299500   -0.002894     0.007073            3      4   20  2017  4-2017  \n",
              "  4     32522600    0.003208     0.013740            4      4   21  2017  4-2017  \n",
              "  ...        ...         ...          ...          ...    ...  ...   ...     ...  \n",
              "  1255  24347400    0.012742    -0.014600            4      4    8  2022  4-2022  \n",
              "  1256  34569300   -0.028791    -0.039432            0      4   11  2022  4-2022  \n",
              "  1257  30966700   -0.008739    -0.011218            1      4   12  2022  4-2022  \n",
              "  1258  21907200   -0.022507     0.019712            2      4   13  2022  4-2022  \n",
              "  1259  28107900    0.018958    -0.027084            3      4   14  2022  4-2022  \n",
              "  \n",
              "  [1260 rows x 14 columns]]]"
            ]
          },
          "metadata": {},
          "execution_count": 98
        }
      ]
    },
    {
      "cell_type": "code",
      "source": [
        "(alt.Chart(stockDf).mark_line().encode(x='Date', y='Close').properties(height=400, width=500))"
      ],
      "metadata": {
        "id": "rjBJSywVkMt6"
      },
      "execution_count": null,
      "outputs": []
    },
    {
      "cell_type": "code",
      "source": [
        "stockDf.Date = pd.to_datetime(stockDf.Date, format = '%Y/%m/%d')\n",
        "plot_Stock = stockDf.set_index('Date') \n",
        "plot_Stock['Close'].plot(figsize=(10,5))"
      ],
      "metadata": {
        "id": "vqOgWEjyBGmM"
      },
      "execution_count": null,
      "outputs": []
    },
    {
      "cell_type": "code",
      "source": [
        "closedChart = (alt.Chart(stockDf).mark_line().encode(x='Date', y='closeChange', color=alt.value('black')).properties(height=400, width=2000))\n",
        "openChart = (alt.Chart(stockDf).mark_line().encode(x='Date', y='openChange', color=alt.value('green')).properties(height=400, width=2000))\n",
        "closedChart+openChart"
      ],
      "metadata": {
        "id": "X5X4EH9IkQ3m"
      },
      "execution_count": null,
      "outputs": []
    },
    {
      "cell_type": "code",
      "source": [
        "open = (alt.\n",
        "         Chart(stockDf).\n",
        "         mark_line().\n",
        "         encode(x=alt.X('display', sort=['year', 'month']), y='max(Close)', color='year').\n",
        "         properties(height=400, width=500))\n",
        "open"
      ],
      "metadata": {
        "id": "1OHtqmcOkaHg"
      },
      "execution_count": null,
      "outputs": []
    },
    {
      "cell_type": "code",
      "source": [
        "from altair import datum\n",
        "open = (alt.\n",
        "         Chart(stockDf).transform_filter(datum.year==2018).\n",
        "         mark_line().\n",
        "         encode(x=alt.X('display', sort=['year', 'month']), y='max(Close)', color='year').\n",
        "         properties(height=200, width=500))\n",
        "open"
      ],
      "metadata": {
        "id": "uLF0V_Tflw68"
      },
      "execution_count": null,
      "outputs": []
    },
    {
      "cell_type": "code",
      "source": [
        "from altair import datum\n",
        "open = (alt.\n",
        "         Chart(stockDf).transform_filter(datum.year==2018).\n",
        "         mark_line().\n",
        "         encode(x=alt.X('week(Date):T', sort=['year', 'month']), y='max(Close)', color='year').\n",
        "         properties(height=200  , width=500))\n",
        "open"
      ],
      "metadata": {
        "id": "xl2sXK_ol0zc"
      },
      "execution_count": null,
      "outputs": []
    },
    {
      "cell_type": "code",
      "source": [
        "from altair import datum\n",
        "open = (alt.\n",
        "         Chart(stockDf).\n",
        "         mark_line().\n",
        "         encode(x=alt.X('month(Date):T'), y='max(closeChange)', color='year').\n",
        "         properties(height=200  , width=500))\n",
        "open"
      ],
      "metadata": {
        "id": "fvlptuopl_TY"
      },
      "execution_count": null,
      "outputs": []
    },
    {
      "cell_type": "code",
      "source": [
        "from altair import datum\n",
        "open = (alt.\n",
        "         Chart(stockDf).transform_filter(datum.month==3).\n",
        "         mark_line().\n",
        "         encode(x=alt.X('day', sort=['year', 'month']), y='max(Volume)', color='year').\n",
        "         properties(height=200  , width=500))\n",
        "open"
      ],
      "metadata": {
        "id": "XWuawbcFmGqS"
      },
      "execution_count": null,
      "outputs": []
    },
    {
      "cell_type": "code",
      "source": [
        "from altair import datum\n",
        "open = (alt.\n",
        "         Chart(stockDf).transform_filter(datum.month==3).\n",
        "         mark_line().\n",
        "         encode(x=alt.X('day', sort=['year', 'month']), y='max(closeChange)', color='year').\n",
        "         properties(height=200  , width=500))\n",
        "open"
      ],
      "metadata": {
        "id": "44lvBWaWmNFM"
      },
      "execution_count": null,
      "outputs": []
    },
    {
      "cell_type": "code",
      "source": [
        "#Creating a new Dataframe & Dataset with subset of records \n",
        "\n",
        "#Parameters\n",
        "limitList = False\n",
        "fromRecord = 50\n",
        "toRecord = 100\n",
        "\n",
        "newDf = pd.DataFrame().assign(Open=stockDf['Open'], Close=stockDf['Close'], Volume=stockDf['Volume'])\n",
        "if limitList:\n",
        "  newDf = newDf.loc[fromRecord:toRecord]\n",
        "myDs = newDf.values\n",
        "myDs = myDs.astype('float32')\n",
        "newDf.head(5)"
      ],
      "metadata": {
        "colab": {
          "base_uri": "https://localhost:8080/",
          "height": 206
        },
        "id": "XTbAXf4gmVMf",
        "outputId": "af42b120-f42f-4266-d641-ca2b6be60bde"
      },
      "execution_count": 124,
      "outputs": [
        {
          "output_type": "execute_result",
          "data": {
            "text/plain": [
              "        Open      Close    Volume\n",
              "0  65.040001  65.480003  16689300\n",
              "1  65.330002  65.389999  15155600\n",
              "2  65.650002  65.040001  26992800\n",
              "3  65.459999  65.500000  22299500\n",
              "4  65.669998  66.400002  32522600"
            ],
            "text/html": [
              "\n",
              "  <div id=\"df-fed0b0b4-754c-4077-9e57-1638863ba8b3\">\n",
              "    <div class=\"colab-df-container\">\n",
              "      <div>\n",
              "<style scoped>\n",
              "    .dataframe tbody tr th:only-of-type {\n",
              "        vertical-align: middle;\n",
              "    }\n",
              "\n",
              "    .dataframe tbody tr th {\n",
              "        vertical-align: top;\n",
              "    }\n",
              "\n",
              "    .dataframe thead th {\n",
              "        text-align: right;\n",
              "    }\n",
              "</style>\n",
              "<table border=\"1\" class=\"dataframe\">\n",
              "  <thead>\n",
              "    <tr style=\"text-align: right;\">\n",
              "      <th></th>\n",
              "      <th>Open</th>\n",
              "      <th>Close</th>\n",
              "      <th>Volume</th>\n",
              "    </tr>\n",
              "  </thead>\n",
              "  <tbody>\n",
              "    <tr>\n",
              "      <th>0</th>\n",
              "      <td>65.040001</td>\n",
              "      <td>65.480003</td>\n",
              "      <td>16689300</td>\n",
              "    </tr>\n",
              "    <tr>\n",
              "      <th>1</th>\n",
              "      <td>65.330002</td>\n",
              "      <td>65.389999</td>\n",
              "      <td>15155600</td>\n",
              "    </tr>\n",
              "    <tr>\n",
              "      <th>2</th>\n",
              "      <td>65.650002</td>\n",
              "      <td>65.040001</td>\n",
              "      <td>26992800</td>\n",
              "    </tr>\n",
              "    <tr>\n",
              "      <th>3</th>\n",
              "      <td>65.459999</td>\n",
              "      <td>65.500000</td>\n",
              "      <td>22299500</td>\n",
              "    </tr>\n",
              "    <tr>\n",
              "      <th>4</th>\n",
              "      <td>65.669998</td>\n",
              "      <td>66.400002</td>\n",
              "      <td>32522600</td>\n",
              "    </tr>\n",
              "  </tbody>\n",
              "</table>\n",
              "</div>\n",
              "      <button class=\"colab-df-convert\" onclick=\"convertToInteractive('df-fed0b0b4-754c-4077-9e57-1638863ba8b3')\"\n",
              "              title=\"Convert this dataframe to an interactive table.\"\n",
              "              style=\"display:none;\">\n",
              "        \n",
              "  <svg xmlns=\"http://www.w3.org/2000/svg\" height=\"24px\"viewBox=\"0 0 24 24\"\n",
              "       width=\"24px\">\n",
              "    <path d=\"M0 0h24v24H0V0z\" fill=\"none\"/>\n",
              "    <path d=\"M18.56 5.44l.94 2.06.94-2.06 2.06-.94-2.06-.94-.94-2.06-.94 2.06-2.06.94zm-11 1L8.5 8.5l.94-2.06 2.06-.94-2.06-.94L8.5 2.5l-.94 2.06-2.06.94zm10 10l.94 2.06.94-2.06 2.06-.94-2.06-.94-.94-2.06-.94 2.06-2.06.94z\"/><path d=\"M17.41 7.96l-1.37-1.37c-.4-.4-.92-.59-1.43-.59-.52 0-1.04.2-1.43.59L10.3 9.45l-7.72 7.72c-.78.78-.78 2.05 0 2.83L4 21.41c.39.39.9.59 1.41.59.51 0 1.02-.2 1.41-.59l7.78-7.78 2.81-2.81c.8-.78.8-2.07 0-2.86zM5.41 20L4 18.59l7.72-7.72 1.47 1.35L5.41 20z\"/>\n",
              "  </svg>\n",
              "      </button>\n",
              "      \n",
              "  <style>\n",
              "    .colab-df-container {\n",
              "      display:flex;\n",
              "      flex-wrap:wrap;\n",
              "      gap: 12px;\n",
              "    }\n",
              "\n",
              "    .colab-df-convert {\n",
              "      background-color: #E8F0FE;\n",
              "      border: none;\n",
              "      border-radius: 50%;\n",
              "      cursor: pointer;\n",
              "      display: none;\n",
              "      fill: #1967D2;\n",
              "      height: 32px;\n",
              "      padding: 0 0 0 0;\n",
              "      width: 32px;\n",
              "    }\n",
              "\n",
              "    .colab-df-convert:hover {\n",
              "      background-color: #E2EBFA;\n",
              "      box-shadow: 0px 1px 2px rgba(60, 64, 67, 0.3), 0px 1px 3px 1px rgba(60, 64, 67, 0.15);\n",
              "      fill: #174EA6;\n",
              "    }\n",
              "\n",
              "    [theme=dark] .colab-df-convert {\n",
              "      background-color: #3B4455;\n",
              "      fill: #D2E3FC;\n",
              "    }\n",
              "\n",
              "    [theme=dark] .colab-df-convert:hover {\n",
              "      background-color: #434B5C;\n",
              "      box-shadow: 0px 1px 3px 1px rgba(0, 0, 0, 0.15);\n",
              "      filter: drop-shadow(0px 1px 2px rgba(0, 0, 0, 0.3));\n",
              "      fill: #FFFFFF;\n",
              "    }\n",
              "  </style>\n",
              "\n",
              "      <script>\n",
              "        const buttonEl =\n",
              "          document.querySelector('#df-fed0b0b4-754c-4077-9e57-1638863ba8b3 button.colab-df-convert');\n",
              "        buttonEl.style.display =\n",
              "          google.colab.kernel.accessAllowed ? 'block' : 'none';\n",
              "\n",
              "        async function convertToInteractive(key) {\n",
              "          const element = document.querySelector('#df-fed0b0b4-754c-4077-9e57-1638863ba8b3');\n",
              "          const dataTable =\n",
              "            await google.colab.kernel.invokeFunction('convertToInteractive',\n",
              "                                                     [key], {});\n",
              "          if (!dataTable) return;\n",
              "\n",
              "          const docLinkHtml = 'Like what you see? Visit the ' +\n",
              "            '<a target=\"_blank\" href=https://colab.research.google.com/notebooks/data_table.ipynb>data table notebook</a>'\n",
              "            + ' to learn more about interactive tables.';\n",
              "          element.innerHTML = '';\n",
              "          dataTable['output_type'] = 'display_data';\n",
              "          await google.colab.output.renderOutput(dataTable, element);\n",
              "          const docLink = document.createElement('div');\n",
              "          docLink.innerHTML = docLinkHtml;\n",
              "          element.appendChild(docLink);\n",
              "        }\n",
              "      </script>\n",
              "    </div>\n",
              "  </div>\n",
              "  "
            ]
          },
          "metadata": {},
          "execution_count": 124
        }
      ]
    },
    {
      "cell_type": "code",
      "source": [
        "#Normalizing Data\n",
        "\n",
        "#Parameters\n",
        "trainingSet = .70\n",
        "featureRange1 = 0\n",
        "featureRange2 = 1\n",
        "newShape1 = -1\n",
        "newShape2 = 1 \n",
        "\n",
        "myDs = np.reshape(myDs, (newShape1, newShape2))\n",
        "scaler = MinMaxScaler(feature_range=(featureRange1, featureRange2))\n",
        "myDs = scaler.fit_transform(myDs)\n",
        "trainingSize = int(len(myDs) * trainingSet)\n",
        "testingSize = int(len(myDs) - trainingSize)\n",
        "trainData, testData = myDs[0:trainingSize,:], myDs[testingSize:len(myDs),:]"
      ],
      "metadata": {
        "id": "VDUEirYCnYqS"
      },
      "execution_count": 129,
      "outputs": []
    },
    {
      "cell_type": "code",
      "source": [
        "#Parameters\n",
        "batchSize = 5\n",
        "timeSteps = 1\n",
        "#Batch Data for optimization and accuracy\n",
        "#This creates batches with 1 to N records.  \n",
        "#X - Each Batch starts with the next item i in the list and contains specified number of additional items\n",
        "#Y - Contains the last item in each batch \"L\" or first \"F\" or previious \"P\" or next \"N\"\n",
        "def batchData(data, size, indexAlignment = \"L\"):\n",
        "    X, Y = [], [] \n",
        "    for i in range(len(data) - size - 1): \n",
        "        X.append(data[i:(i + size), 0])\n",
        "         \n",
        "        if indexAlignment == \"N\":\n",
        "          Y.append(data[i + size, 0])\n",
        "        elif indexAlignment == \"L\":\n",
        "          Y.append(data[i + size - 1, 0])\n",
        "        elif indexAlignment == \"P\":  \n",
        "          Y.append(data[i-1, 0])\n",
        "        else:\n",
        "          Y.append(data[i, 0]) \n",
        "\n",
        "    return np.array(X), np.array(Y)\n",
        "\n",
        "#Catch Batches for Accuracy and Optimization\n",
        "X_train, Y_train = batchData(trainData, batchSize, \"L\")\n",
        "X_test, Y_test = batchData(testData, batchSize,\"L\")"
      ],
      "metadata": {
        "id": "0ENORI1GvnqW"
      },
      "execution_count": 130,
      "outputs": []
    },
    {
      "cell_type": "code",
      "source": [
        "#Reshape data to normalize it [samples, time steps, features]\n",
        "print(\"take 1\")\n",
        "print('X_Train[0] (Samples): ' + str(X_train.shape[0]))\n",
        "print('X_Train[1] (Features): ' + str(X_train.shape[1]))\n",
        "X_train = np.reshape(X_train, (X_train.shape[0], timeSteps, X_train.shape[1]))\n",
        "X_test = np.reshape(X_test, (X_test.shape[0], timeSteps, X_test.shape[1]))\n",
        "print(\"take 2\")\n",
        "print('X_Train[0] (Samples): ' + str(X_train.shape[0]))\n",
        "print('X_Train[1] (Features): ' + str(X_train.shape[1]))"
      ],
      "metadata": {
        "id": "gekbe0dZp7H-",
        "colab": {
          "base_uri": "https://localhost:8080/"
        },
        "outputId": "3af15e04-bad5-46a2-bec8-2924c0fbbd17"
      },
      "execution_count": 131,
      "outputs": [
        {
          "output_type": "stream",
          "name": "stdout",
          "text": [
            "take 2\n",
            "X_Train[0] (Samples): 2640\n",
            "X_Train[1] (Features): 5\n",
            "take 2\n",
            "X_Train[0] (Samples): 2640\n",
            "X_Train[1] (Features): 1\n"
          ]
        }
      ]
    },
    {
      "cell_type": "code",
      "source": [
        "#Parameters\n",
        "verboseAmt = 1\n",
        "epochCnt = 25\n",
        "shuffleData = False\n",
        "dropOut = 0.2\n",
        "lstmActivation = 'relu'\n",
        "activationLayer = 'linear'\n",
        "lossType = 'mean_squared_error'\n",
        "optimizerType = 'adam'\n",
        "lstmUnits = 50\n",
        "lstmMultipleLayers = True\n",
        "\n",
        "model = Sequential()\n",
        "\n",
        "if lstmMultipleLayers:\n",
        "  model.add(LSTM(units = lstmUnits, return_sequences = True, activation = lstmActivation, input_shape = (X_train.shape[1], batchSize)))\n",
        "  model.add(Dropout(dropOut))\n",
        "\n",
        "  model.add(LSTM(units = lstmUnits, return_sequences = True))\n",
        "  model.add(Dropout(dropOut))\n",
        "\n",
        "  model.add(LSTM(units = lstmUnits, return_sequences = True))\n",
        "  model.add(Dropout(dropOut))\n",
        "\n",
        "  model.add(LSTM(units = lstmUnits))\n",
        "  model.add(Dropout(dropOut))\n",
        "else:\n",
        "  model.add(LSTM(units = lstmUnits, activation = lstmActivation, input_shape = (X_train.shape[1], batchSize))) \n",
        "  model.add(Dropout(dropOut))\n",
        "\n",
        "model.add(Dense(1, activation = activationLayer))\n",
        "model.compile(loss = lossType, optimizer = optimizerType)\n",
        "modelFit = model.fit(X_train, Y_train, epochs = epochCnt, batch_size = batchSize, validation_data = (X_test, Y_test), verbose = verboseAmt, shuffle = False)\n",
        "model.summary()"
      ],
      "metadata": {
        "colab": {
          "base_uri": "https://localhost:8080/",
          "height": 1000
        },
        "id": "5LCmTInqLd8x",
        "outputId": "57f81a9a-3adc-462e-b9fd-248ef8539be9"
      },
      "execution_count": 132,
      "outputs": [
        {
          "output_type": "stream",
          "name": "stdout",
          "text": [
            "Epoch 1/100\n",
            "528/528 [==============================] - 14s 14ms/step - loss: 0.0039 - val_loss: 7.1218e-04\n",
            "Epoch 2/100\n",
            "528/528 [==============================] - 5s 9ms/step - loss: 0.0013 - val_loss: 6.9415e-04\n",
            "Epoch 3/100\n",
            "528/528 [==============================] - 5s 9ms/step - loss: 0.0011 - val_loss: 3.3105e-04\n",
            "Epoch 4/100\n",
            "528/528 [==============================] - 5s 9ms/step - loss: 9.1537e-04 - val_loss: 7.4239e-05\n",
            "Epoch 5/100\n",
            "528/528 [==============================] - 5s 9ms/step - loss: 8.1940e-04 - val_loss: 2.1520e-04\n",
            "Epoch 6/100\n",
            "528/528 [==============================] - 5s 9ms/step - loss: 0.0010 - val_loss: 3.5741e-04\n",
            "Epoch 7/100\n",
            "528/528 [==============================] - 5s 9ms/step - loss: 8.3907e-04 - val_loss: 2.1920e-04\n",
            "Epoch 8/100\n",
            "528/528 [==============================] - 5s 9ms/step - loss: 8.6153e-04 - val_loss: 1.5039e-04\n",
            "Epoch 9/100\n",
            "528/528 [==============================] - 5s 9ms/step - loss: 7.2413e-04 - val_loss: 8.6760e-05\n",
            "Epoch 10/100\n",
            "528/528 [==============================] - 5s 9ms/step - loss: 7.5583e-04 - val_loss: 1.0144e-04\n",
            "Epoch 11/100\n",
            "528/528 [==============================] - 4s 8ms/step - loss: 6.4465e-04 - val_loss: 1.7288e-04\n",
            "Epoch 12/100\n",
            "528/528 [==============================] - 5s 9ms/step - loss: 6.4229e-04 - val_loss: 1.5107e-04\n",
            "Epoch 13/100\n",
            "528/528 [==============================] - 5s 9ms/step - loss: 6.3819e-04 - val_loss: 1.7921e-04\n",
            "Epoch 14/100\n",
            "528/528 [==============================] - 5s 9ms/step - loss: 6.4624e-04 - val_loss: 2.3455e-04\n",
            "Epoch 15/100\n",
            "528/528 [==============================] - 5s 9ms/step - loss: 5.0361e-04 - val_loss: 9.4523e-05\n",
            "Epoch 16/100\n",
            "528/528 [==============================] - 5s 9ms/step - loss: 6.2510e-04 - val_loss: 5.6026e-04\n",
            "Epoch 17/100\n",
            "528/528 [==============================] - 5s 9ms/step - loss: 5.6652e-04 - val_loss: 9.9483e-05\n",
            "Epoch 18/100\n",
            "528/528 [==============================] - 5s 9ms/step - loss: 4.4122e-04 - val_loss: 8.2294e-05\n",
            "Epoch 19/100\n",
            "528/528 [==============================] - 7s 13ms/step - loss: 4.4329e-04 - val_loss: 1.2537e-04\n",
            "Epoch 20/100\n",
            "528/528 [==============================] - 5s 10ms/step - loss: 4.9092e-04 - val_loss: 8.3724e-05\n",
            "Epoch 21/100\n",
            "528/528 [==============================] - 4s 8ms/step - loss: 4.2591e-04 - val_loss: 1.1423e-04\n",
            "Epoch 22/100\n",
            "528/528 [==============================] - 5s 9ms/step - loss: 4.9403e-04 - val_loss: 1.0137e-04\n",
            "Epoch 23/100\n",
            "528/528 [==============================] - 5s 9ms/step - loss: 4.4818e-04 - val_loss: 8.8673e-05\n",
            "Epoch 24/100\n",
            "528/528 [==============================] - 5s 9ms/step - loss: 3.9610e-04 - val_loss: 6.6333e-05\n",
            "Epoch 25/100\n",
            "528/528 [==============================] - 5s 9ms/step - loss: 4.2005e-04 - val_loss: 8.6345e-05\n",
            "Epoch 26/100\n",
            "528/528 [==============================] - 5s 9ms/step - loss: 4.0472e-04 - val_loss: 9.6746e-05\n",
            "Epoch 27/100\n",
            "528/528 [==============================] - 5s 9ms/step - loss: 4.1685e-04 - val_loss: 4.7286e-05\n",
            "Epoch 28/100\n",
            "528/528 [==============================] - 5s 10ms/step - loss: 3.3233e-04 - val_loss: 6.0571e-05\n",
            "Epoch 29/100\n",
            "528/528 [==============================] - 5s 9ms/step - loss: 4.7512e-04 - val_loss: 2.2128e-04\n",
            "Epoch 30/100\n",
            "528/528 [==============================] - 5s 9ms/step - loss: 4.1864e-04 - val_loss: 2.3720e-04\n",
            "Epoch 31/100\n",
            "528/528 [==============================] - 5s 9ms/step - loss: 3.9827e-04 - val_loss: 7.8616e-05\n",
            "Epoch 32/100\n",
            "528/528 [==============================] - 5s 9ms/step - loss: 3.8515e-04 - val_loss: 1.5695e-04\n",
            "Epoch 33/100\n",
            "528/528 [==============================] - 5s 9ms/step - loss: 4.3327e-04 - val_loss: 6.6069e-05\n",
            "Epoch 34/100\n",
            "528/528 [==============================] - 5s 9ms/step - loss: 3.8746e-04 - val_loss: 3.0160e-04\n",
            "Epoch 35/100\n",
            "528/528 [==============================] - 5s 9ms/step - loss: 4.1137e-04 - val_loss: 7.2577e-05\n",
            "Epoch 36/100\n",
            "528/528 [==============================] - 8s 16ms/step - loss: 4.0850e-04 - val_loss: 3.2168e-05\n",
            "Epoch 37/100\n",
            "528/528 [==============================] - 5s 10ms/step - loss: 4.0561e-04 - val_loss: 6.6376e-05\n",
            "Epoch 38/100\n",
            "528/528 [==============================] - 5s 9ms/step - loss: 3.7079e-04 - val_loss: 6.8430e-05\n",
            "Epoch 39/100\n",
            "528/528 [==============================] - 6s 12ms/step - loss: 3.5025e-04 - val_loss: 1.9552e-04\n",
            "Epoch 40/100\n",
            "528/528 [==============================] - 6s 12ms/step - loss: 4.5353e-04 - val_loss: 1.3039e-04\n",
            "Epoch 41/100\n",
            "528/528 [==============================] - 5s 10ms/step - loss: 4.5762e-04 - val_loss: 2.2753e-04\n",
            "Epoch 42/100\n",
            "528/528 [==============================] - 5s 10ms/step - loss: 3.9240e-04 - val_loss: 9.1627e-05\n",
            "Epoch 43/100\n",
            "528/528 [==============================] - 5s 9ms/step - loss: 3.7763e-04 - val_loss: 6.4867e-05\n",
            "Epoch 44/100\n",
            "528/528 [==============================] - 5s 9ms/step - loss: 3.6028e-04 - val_loss: 2.4009e-05\n",
            "Epoch 45/100\n",
            "528/528 [==============================] - 5s 10ms/step - loss: 3.9006e-04 - val_loss: 4.6019e-05\n",
            "Epoch 46/100\n",
            "177/528 [=========>....................] - ETA: 2s - loss: 2.7272e-04"
          ]
        },
        {
          "output_type": "error",
          "ename": "KeyboardInterrupt",
          "evalue": "ignored",
          "traceback": [
            "\u001b[0;31m---------------------------------------------------------------------------\u001b[0m",
            "\u001b[0;31mKeyboardInterrupt\u001b[0m                         Traceback (most recent call last)",
            "\u001b[0;32m<ipython-input-132-df55a2762579>\u001b[0m in \u001b[0;36m<module>\u001b[0;34m()\u001b[0m\n\u001b[1;32m     31\u001b[0m \u001b[0mmodel\u001b[0m\u001b[0;34m.\u001b[0m\u001b[0madd\u001b[0m\u001b[0;34m(\u001b[0m\u001b[0mDense\u001b[0m\u001b[0;34m(\u001b[0m\u001b[0;36m1\u001b[0m\u001b[0;34m,\u001b[0m \u001b[0mactivation\u001b[0m \u001b[0;34m=\u001b[0m \u001b[0mactivationLayer\u001b[0m\u001b[0;34m)\u001b[0m\u001b[0;34m)\u001b[0m\u001b[0;34m\u001b[0m\u001b[0;34m\u001b[0m\u001b[0m\n\u001b[1;32m     32\u001b[0m \u001b[0mmodel\u001b[0m\u001b[0;34m.\u001b[0m\u001b[0mcompile\u001b[0m\u001b[0;34m(\u001b[0m\u001b[0mloss\u001b[0m \u001b[0;34m=\u001b[0m \u001b[0mlossType\u001b[0m\u001b[0;34m,\u001b[0m \u001b[0moptimizer\u001b[0m \u001b[0;34m=\u001b[0m \u001b[0moptimizerType\u001b[0m\u001b[0;34m)\u001b[0m\u001b[0;34m\u001b[0m\u001b[0;34m\u001b[0m\u001b[0m\n\u001b[0;32m---> 33\u001b[0;31m \u001b[0mmodelFit\u001b[0m \u001b[0;34m=\u001b[0m \u001b[0mmodel\u001b[0m\u001b[0;34m.\u001b[0m\u001b[0mfit\u001b[0m\u001b[0;34m(\u001b[0m\u001b[0mX_train\u001b[0m\u001b[0;34m,\u001b[0m \u001b[0mY_train\u001b[0m\u001b[0;34m,\u001b[0m \u001b[0mepochs\u001b[0m \u001b[0;34m=\u001b[0m \u001b[0mepochCnt\u001b[0m\u001b[0;34m,\u001b[0m \u001b[0mbatch_size\u001b[0m \u001b[0;34m=\u001b[0m \u001b[0mbatchSize\u001b[0m\u001b[0;34m,\u001b[0m \u001b[0mvalidation_data\u001b[0m \u001b[0;34m=\u001b[0m \u001b[0;34m(\u001b[0m\u001b[0mX_test\u001b[0m\u001b[0;34m,\u001b[0m \u001b[0mY_test\u001b[0m\u001b[0;34m)\u001b[0m\u001b[0;34m,\u001b[0m \u001b[0mverbose\u001b[0m \u001b[0;34m=\u001b[0m \u001b[0mverboseAmt\u001b[0m\u001b[0;34m,\u001b[0m \u001b[0mshuffle\u001b[0m \u001b[0;34m=\u001b[0m \u001b[0;32mFalse\u001b[0m\u001b[0;34m)\u001b[0m\u001b[0;34m\u001b[0m\u001b[0;34m\u001b[0m\u001b[0m\n\u001b[0m\u001b[1;32m     34\u001b[0m \u001b[0mmodel\u001b[0m\u001b[0;34m.\u001b[0m\u001b[0msummary\u001b[0m\u001b[0;34m(\u001b[0m\u001b[0;34m)\u001b[0m\u001b[0;34m\u001b[0m\u001b[0;34m\u001b[0m\u001b[0m\n",
            "\u001b[0;32m/usr/local/lib/python3.7/dist-packages/keras/utils/traceback_utils.py\u001b[0m in \u001b[0;36merror_handler\u001b[0;34m(*args, **kwargs)\u001b[0m\n\u001b[1;32m     62\u001b[0m     \u001b[0mfiltered_tb\u001b[0m \u001b[0;34m=\u001b[0m \u001b[0;32mNone\u001b[0m\u001b[0;34m\u001b[0m\u001b[0;34m\u001b[0m\u001b[0m\n\u001b[1;32m     63\u001b[0m     \u001b[0;32mtry\u001b[0m\u001b[0;34m:\u001b[0m\u001b[0;34m\u001b[0m\u001b[0;34m\u001b[0m\u001b[0m\n\u001b[0;32m---> 64\u001b[0;31m       \u001b[0;32mreturn\u001b[0m \u001b[0mfn\u001b[0m\u001b[0;34m(\u001b[0m\u001b[0;34m*\u001b[0m\u001b[0margs\u001b[0m\u001b[0;34m,\u001b[0m \u001b[0;34m**\u001b[0m\u001b[0mkwargs\u001b[0m\u001b[0;34m)\u001b[0m\u001b[0;34m\u001b[0m\u001b[0;34m\u001b[0m\u001b[0m\n\u001b[0m\u001b[1;32m     65\u001b[0m     \u001b[0;32mexcept\u001b[0m \u001b[0mException\u001b[0m \u001b[0;32mas\u001b[0m \u001b[0me\u001b[0m\u001b[0;34m:\u001b[0m  \u001b[0;31m# pylint: disable=broad-except\u001b[0m\u001b[0;34m\u001b[0m\u001b[0;34m\u001b[0m\u001b[0m\n\u001b[1;32m     66\u001b[0m       \u001b[0mfiltered_tb\u001b[0m \u001b[0;34m=\u001b[0m \u001b[0m_process_traceback_frames\u001b[0m\u001b[0;34m(\u001b[0m\u001b[0me\u001b[0m\u001b[0;34m.\u001b[0m\u001b[0m__traceback__\u001b[0m\u001b[0;34m)\u001b[0m\u001b[0;34m\u001b[0m\u001b[0;34m\u001b[0m\u001b[0m\n",
            "\u001b[0;32m/usr/local/lib/python3.7/dist-packages/keras/engine/training.py\u001b[0m in \u001b[0;36mfit\u001b[0;34m(self, x, y, batch_size, epochs, verbose, callbacks, validation_split, validation_data, shuffle, class_weight, sample_weight, initial_epoch, steps_per_epoch, validation_steps, validation_batch_size, validation_freq, max_queue_size, workers, use_multiprocessing)\u001b[0m\n\u001b[1;32m   1382\u001b[0m                 _r=1):\n\u001b[1;32m   1383\u001b[0m               \u001b[0mcallbacks\u001b[0m\u001b[0;34m.\u001b[0m\u001b[0mon_train_batch_begin\u001b[0m\u001b[0;34m(\u001b[0m\u001b[0mstep\u001b[0m\u001b[0;34m)\u001b[0m\u001b[0;34m\u001b[0m\u001b[0;34m\u001b[0m\u001b[0m\n\u001b[0;32m-> 1384\u001b[0;31m               \u001b[0mtmp_logs\u001b[0m \u001b[0;34m=\u001b[0m \u001b[0mself\u001b[0m\u001b[0;34m.\u001b[0m\u001b[0mtrain_function\u001b[0m\u001b[0;34m(\u001b[0m\u001b[0miterator\u001b[0m\u001b[0;34m)\u001b[0m\u001b[0;34m\u001b[0m\u001b[0;34m\u001b[0m\u001b[0m\n\u001b[0m\u001b[1;32m   1385\u001b[0m               \u001b[0;32mif\u001b[0m \u001b[0mdata_handler\u001b[0m\u001b[0;34m.\u001b[0m\u001b[0mshould_sync\u001b[0m\u001b[0;34m:\u001b[0m\u001b[0;34m\u001b[0m\u001b[0;34m\u001b[0m\u001b[0m\n\u001b[1;32m   1386\u001b[0m                 \u001b[0mcontext\u001b[0m\u001b[0;34m.\u001b[0m\u001b[0masync_wait\u001b[0m\u001b[0;34m(\u001b[0m\u001b[0;34m)\u001b[0m\u001b[0;34m\u001b[0m\u001b[0;34m\u001b[0m\u001b[0m\n",
            "\u001b[0;32m/usr/local/lib/python3.7/dist-packages/tensorflow/python/util/traceback_utils.py\u001b[0m in \u001b[0;36merror_handler\u001b[0;34m(*args, **kwargs)\u001b[0m\n\u001b[1;32m    148\u001b[0m     \u001b[0mfiltered_tb\u001b[0m \u001b[0;34m=\u001b[0m \u001b[0;32mNone\u001b[0m\u001b[0;34m\u001b[0m\u001b[0;34m\u001b[0m\u001b[0m\n\u001b[1;32m    149\u001b[0m     \u001b[0;32mtry\u001b[0m\u001b[0;34m:\u001b[0m\u001b[0;34m\u001b[0m\u001b[0;34m\u001b[0m\u001b[0m\n\u001b[0;32m--> 150\u001b[0;31m       \u001b[0;32mreturn\u001b[0m \u001b[0mfn\u001b[0m\u001b[0;34m(\u001b[0m\u001b[0;34m*\u001b[0m\u001b[0margs\u001b[0m\u001b[0;34m,\u001b[0m \u001b[0;34m**\u001b[0m\u001b[0mkwargs\u001b[0m\u001b[0;34m)\u001b[0m\u001b[0;34m\u001b[0m\u001b[0;34m\u001b[0m\u001b[0m\n\u001b[0m\u001b[1;32m    151\u001b[0m     \u001b[0;32mexcept\u001b[0m \u001b[0mException\u001b[0m \u001b[0;32mas\u001b[0m \u001b[0me\u001b[0m\u001b[0;34m:\u001b[0m\u001b[0;34m\u001b[0m\u001b[0;34m\u001b[0m\u001b[0m\n\u001b[1;32m    152\u001b[0m       \u001b[0mfiltered_tb\u001b[0m \u001b[0;34m=\u001b[0m \u001b[0m_process_traceback_frames\u001b[0m\u001b[0;34m(\u001b[0m\u001b[0me\u001b[0m\u001b[0;34m.\u001b[0m\u001b[0m__traceback__\u001b[0m\u001b[0;34m)\u001b[0m\u001b[0;34m\u001b[0m\u001b[0;34m\u001b[0m\u001b[0m\n",
            "\u001b[0;32m/usr/local/lib/python3.7/dist-packages/tensorflow/python/eager/def_function.py\u001b[0m in \u001b[0;36m__call__\u001b[0;34m(self, *args, **kwds)\u001b[0m\n\u001b[1;32m    913\u001b[0m \u001b[0;34m\u001b[0m\u001b[0m\n\u001b[1;32m    914\u001b[0m       \u001b[0;32mwith\u001b[0m \u001b[0mOptionalXlaContext\u001b[0m\u001b[0;34m(\u001b[0m\u001b[0mself\u001b[0m\u001b[0;34m.\u001b[0m\u001b[0m_jit_compile\u001b[0m\u001b[0;34m)\u001b[0m\u001b[0;34m:\u001b[0m\u001b[0;34m\u001b[0m\u001b[0;34m\u001b[0m\u001b[0m\n\u001b[0;32m--> 915\u001b[0;31m         \u001b[0mresult\u001b[0m \u001b[0;34m=\u001b[0m \u001b[0mself\u001b[0m\u001b[0;34m.\u001b[0m\u001b[0m_call\u001b[0m\u001b[0;34m(\u001b[0m\u001b[0;34m*\u001b[0m\u001b[0margs\u001b[0m\u001b[0;34m,\u001b[0m \u001b[0;34m**\u001b[0m\u001b[0mkwds\u001b[0m\u001b[0;34m)\u001b[0m\u001b[0;34m\u001b[0m\u001b[0;34m\u001b[0m\u001b[0m\n\u001b[0m\u001b[1;32m    916\u001b[0m \u001b[0;34m\u001b[0m\u001b[0m\n\u001b[1;32m    917\u001b[0m       \u001b[0mnew_tracing_count\u001b[0m \u001b[0;34m=\u001b[0m \u001b[0mself\u001b[0m\u001b[0;34m.\u001b[0m\u001b[0mexperimental_get_tracing_count\u001b[0m\u001b[0;34m(\u001b[0m\u001b[0;34m)\u001b[0m\u001b[0;34m\u001b[0m\u001b[0;34m\u001b[0m\u001b[0m\n",
            "\u001b[0;32m/usr/local/lib/python3.7/dist-packages/tensorflow/python/eager/def_function.py\u001b[0m in \u001b[0;36m_call\u001b[0;34m(self, *args, **kwds)\u001b[0m\n\u001b[1;32m    945\u001b[0m       \u001b[0;31m# In this case we have created variables on the first call, so we run the\u001b[0m\u001b[0;34m\u001b[0m\u001b[0;34m\u001b[0m\u001b[0;34m\u001b[0m\u001b[0m\n\u001b[1;32m    946\u001b[0m       \u001b[0;31m# defunned version which is guaranteed to never create variables.\u001b[0m\u001b[0;34m\u001b[0m\u001b[0;34m\u001b[0m\u001b[0;34m\u001b[0m\u001b[0m\n\u001b[0;32m--> 947\u001b[0;31m       \u001b[0;32mreturn\u001b[0m \u001b[0mself\u001b[0m\u001b[0;34m.\u001b[0m\u001b[0m_stateless_fn\u001b[0m\u001b[0;34m(\u001b[0m\u001b[0;34m*\u001b[0m\u001b[0margs\u001b[0m\u001b[0;34m,\u001b[0m \u001b[0;34m**\u001b[0m\u001b[0mkwds\u001b[0m\u001b[0;34m)\u001b[0m  \u001b[0;31m# pylint: disable=not-callable\u001b[0m\u001b[0;34m\u001b[0m\u001b[0;34m\u001b[0m\u001b[0m\n\u001b[0m\u001b[1;32m    948\u001b[0m     \u001b[0;32melif\u001b[0m \u001b[0mself\u001b[0m\u001b[0;34m.\u001b[0m\u001b[0m_stateful_fn\u001b[0m \u001b[0;32mis\u001b[0m \u001b[0;32mnot\u001b[0m \u001b[0;32mNone\u001b[0m\u001b[0;34m:\u001b[0m\u001b[0;34m\u001b[0m\u001b[0;34m\u001b[0m\u001b[0m\n\u001b[1;32m    949\u001b[0m       \u001b[0;31m# Release the lock early so that multiple threads can perform the call\u001b[0m\u001b[0;34m\u001b[0m\u001b[0;34m\u001b[0m\u001b[0;34m\u001b[0m\u001b[0m\n",
            "\u001b[0;32m/usr/local/lib/python3.7/dist-packages/tensorflow/python/eager/function.py\u001b[0m in \u001b[0;36m__call__\u001b[0;34m(self, *args, **kwargs)\u001b[0m\n\u001b[1;32m   2955\u001b[0m        filtered_flat_args) = self._maybe_define_function(args, kwargs)\n\u001b[1;32m   2956\u001b[0m     return graph_function._call_flat(\n\u001b[0;32m-> 2957\u001b[0;31m         filtered_flat_args, captured_inputs=graph_function.captured_inputs)  # pylint: disable=protected-access\n\u001b[0m\u001b[1;32m   2958\u001b[0m \u001b[0;34m\u001b[0m\u001b[0m\n\u001b[1;32m   2959\u001b[0m   \u001b[0;34m@\u001b[0m\u001b[0mproperty\u001b[0m\u001b[0;34m\u001b[0m\u001b[0;34m\u001b[0m\u001b[0m\n",
            "\u001b[0;32m/usr/local/lib/python3.7/dist-packages/tensorflow/python/eager/function.py\u001b[0m in \u001b[0;36m_call_flat\u001b[0;34m(self, args, captured_inputs, cancellation_manager)\u001b[0m\n\u001b[1;32m   1852\u001b[0m       \u001b[0;31m# No tape is watching; skip to running the function.\u001b[0m\u001b[0;34m\u001b[0m\u001b[0;34m\u001b[0m\u001b[0;34m\u001b[0m\u001b[0m\n\u001b[1;32m   1853\u001b[0m       return self._build_call_outputs(self._inference_function.call(\n\u001b[0;32m-> 1854\u001b[0;31m           ctx, args, cancellation_manager=cancellation_manager))\n\u001b[0m\u001b[1;32m   1855\u001b[0m     forward_backward = self._select_forward_and_backward_functions(\n\u001b[1;32m   1856\u001b[0m         \u001b[0margs\u001b[0m\u001b[0;34m,\u001b[0m\u001b[0;34m\u001b[0m\u001b[0;34m\u001b[0m\u001b[0m\n",
            "\u001b[0;32m/usr/local/lib/python3.7/dist-packages/tensorflow/python/eager/function.py\u001b[0m in \u001b[0;36mcall\u001b[0;34m(self, ctx, args, cancellation_manager)\u001b[0m\n\u001b[1;32m    502\u001b[0m               \u001b[0minputs\u001b[0m\u001b[0;34m=\u001b[0m\u001b[0margs\u001b[0m\u001b[0;34m,\u001b[0m\u001b[0;34m\u001b[0m\u001b[0;34m\u001b[0m\u001b[0m\n\u001b[1;32m    503\u001b[0m               \u001b[0mattrs\u001b[0m\u001b[0;34m=\u001b[0m\u001b[0mattrs\u001b[0m\u001b[0;34m,\u001b[0m\u001b[0;34m\u001b[0m\u001b[0;34m\u001b[0m\u001b[0m\n\u001b[0;32m--> 504\u001b[0;31m               ctx=ctx)\n\u001b[0m\u001b[1;32m    505\u001b[0m         \u001b[0;32melse\u001b[0m\u001b[0;34m:\u001b[0m\u001b[0;34m\u001b[0m\u001b[0;34m\u001b[0m\u001b[0m\n\u001b[1;32m    506\u001b[0m           outputs = execute.execute_with_cancellation(\n",
            "\u001b[0;32m/usr/local/lib/python3.7/dist-packages/tensorflow/python/eager/execute.py\u001b[0m in \u001b[0;36mquick_execute\u001b[0;34m(op_name, num_outputs, inputs, attrs, ctx, name)\u001b[0m\n\u001b[1;32m     53\u001b[0m     \u001b[0mctx\u001b[0m\u001b[0;34m.\u001b[0m\u001b[0mensure_initialized\u001b[0m\u001b[0;34m(\u001b[0m\u001b[0;34m)\u001b[0m\u001b[0;34m\u001b[0m\u001b[0;34m\u001b[0m\u001b[0m\n\u001b[1;32m     54\u001b[0m     tensors = pywrap_tfe.TFE_Py_Execute(ctx._handle, device_name, op_name,\n\u001b[0;32m---> 55\u001b[0;31m                                         inputs, attrs, num_outputs)\n\u001b[0m\u001b[1;32m     56\u001b[0m   \u001b[0;32mexcept\u001b[0m \u001b[0mcore\u001b[0m\u001b[0;34m.\u001b[0m\u001b[0m_NotOkStatusException\u001b[0m \u001b[0;32mas\u001b[0m \u001b[0me\u001b[0m\u001b[0;34m:\u001b[0m\u001b[0;34m\u001b[0m\u001b[0;34m\u001b[0m\u001b[0m\n\u001b[1;32m     57\u001b[0m     \u001b[0;32mif\u001b[0m \u001b[0mname\u001b[0m \u001b[0;32mis\u001b[0m \u001b[0;32mnot\u001b[0m \u001b[0;32mNone\u001b[0m\u001b[0;34m:\u001b[0m\u001b[0;34m\u001b[0m\u001b[0;34m\u001b[0m\u001b[0m\n",
            "\u001b[0;31mKeyboardInterrupt\u001b[0m: "
          ]
        }
      ]
    },
    {
      "cell_type": "code",
      "source": [
        "#Predictions\n",
        "train_predict = model.predict(X_train)\n",
        "Y_trained_predict = scaler.inverse_transform(train_predict)\n",
        "\n",
        "test_predict = model.predict(X_test)\n",
        "Y_test_predict = scaler.inverse_transform(test_predict)\n",
        "\n",
        "Y_test = scaler.inverse_transform([Y_test])\n",
        "Y_train = scaler.inverse_transform([Y_train])"
      ],
      "metadata": {
        "id": "scYMPFl9uhZk",
        "colab": {
          "base_uri": "https://localhost:8080/"
        },
        "outputId": "69ae7248-e177-4f8b-b76e-9bbc4ff9b247"
      },
      "execution_count": 133,
      "outputs": [
        {
          "output_type": "stream",
          "name": "stdout",
          "text": [
            "WARNING:tensorflow:5 out of the last 11 calls to <function Model.make_predict_function.<locals>.predict_function at 0x7f87d1899d40> triggered tf.function retracing. Tracing is expensive and the excessive number of tracings could be due to (1) creating @tf.function repeatedly in a loop, (2) passing tensors with different shapes, (3) passing Python objects instead of tensors. For (1), please define your @tf.function outside of the loop. For (2), @tf.function has experimental_relax_shapes=True option that relaxes argument shapes that can avoid unnecessary retracing. For (3), please refer to https://www.tensorflow.org/guide/function#controlling_retracing and https://www.tensorflow.org/api_docs/python/tf/function for  more details.\n"
          ]
        }
      ]
    },
    {
      "cell_type": "code",
      "source": [
        "print('X_train: ' + str(len(X_train)))\n",
        "print('X_test: ' + str(len(X_test)))\n",
        "print('Y_train: ' + str(len(Y_train)))\n",
        "print('Y_test: ' + str(len(Y_test)))\n",
        "print('')\n",
        "print('train_predict: ' + str(len(train_predict)))\n",
        "print('Y_trained_predict: ' + str(len(Y_trained_predict)))\n",
        "print('test_predict: ' + str(len(test_predict)))\n",
        "print('Y_test_predict: ' + str(len(Y_test_predict)))\n",
        "print('Shape of Y_train:' ) + Y_train.shape[0]\n",
        "print('Shape of Y_train:' ) + Y_train.shape[0]\n",
        "print('Shape of Y_train:' ) + Y_train.shape[0]\n",
        "print('Shape of Y_train:' ) + Y_train.shape[0] "
      ],
      "metadata": {
        "colab": {
          "base_uri": "https://localhost:8080/"
        },
        "id": "y9Wl4OhwjXdQ",
        "outputId": "52470422-091c-4611-a7a7-c6c15be7448d"
      },
      "execution_count": 142,
      "outputs": [
        {
          "output_type": "stream",
          "name": "stdout",
          "text": [
            "X_train: 2640\n",
            "X_test: 2640\n",
            "Y_train: 1\n",
            "Y_test: 1\n",
            "\n",
            "train_predict: 2640\n",
            "Y_hat_train: 2640\n",
            "test_predict: 2640\n",
            "Y_hat_test: 2640\n"
          ]
        }
      ]
    },
    {
      "cell_type": "code",
      "source": [
        "#inverse the inverse\n",
        "Y_trained_predict = scaler.inverse_transform(train_predict)\n",
        "Y_test_predict = scaler.inverse_transform(test_predict)\n",
        "\n",
        "s1 = Y_test.shape[0]\n",
        "s2 = Y_test.shape[1]\n",
        "Y_test = Y_test.reshape(s2,s1)\n",
        "s1 = Y_train.shape[0]\n",
        "s2 = Y_train.shape[1]\n",
        "Y_train = Y_train.reshape(s2,s1)"
      ],
      "metadata": {
        "id": "nS0SxtLENjOm"
      },
      "execution_count": 139,
      "outputs": []
    },
    {
      "cell_type": "code",
      "source": [
        "#Calculate Accuracy\n",
        "train_RMSE = np.sqrt(mean_squared_error(Y_train, Y_trained_predict))\n",
        "test_RMSE = np.sqrt(mean_squared_error(Y_test, Y_test_predict))\n",
        "\n",
        "print('Train RMSE is: ')\n",
        "print(train_RMSE, '\\n')\n",
        "print('Test RMSE is: ')\n",
        "print(test_RMSE)"
      ],
      "metadata": {
        "id": "jkQfl4IuvtVQ",
        "colab": {
          "base_uri": "https://localhost:8080/",
          "height": 387
        },
        "outputId": "187bef78-4aa1-46fa-deb8-9ca0ca910b8c"
      },
      "execution_count": 138,
      "outputs": [
        {
          "output_type": "error",
          "ename": "ValueError",
          "evalue": "ignored",
          "traceback": [
            "\u001b[0;31m---------------------------------------------------------------------------\u001b[0m",
            "\u001b[0;31mValueError\u001b[0m                                Traceback (most recent call last)",
            "\u001b[0;32m<ipython-input-138-8326827fd172>\u001b[0m in \u001b[0;36m<module>\u001b[0;34m()\u001b[0m\n\u001b[1;32m      1\u001b[0m \u001b[0;31m#Calculate Accuracy\u001b[0m\u001b[0;34m\u001b[0m\u001b[0;34m\u001b[0m\u001b[0;34m\u001b[0m\u001b[0m\n\u001b[0;32m----> 2\u001b[0;31m \u001b[0mtrain_RMSE\u001b[0m \u001b[0;34m=\u001b[0m \u001b[0mnp\u001b[0m\u001b[0;34m.\u001b[0m\u001b[0msqrt\u001b[0m\u001b[0;34m(\u001b[0m\u001b[0mmean_squared_error\u001b[0m\u001b[0;34m(\u001b[0m\u001b[0mY_train\u001b[0m\u001b[0;34m,\u001b[0m \u001b[0mY_trained_predict\u001b[0m\u001b[0;34m)\u001b[0m\u001b[0;34m)\u001b[0m\u001b[0;34m\u001b[0m\u001b[0;34m\u001b[0m\u001b[0m\n\u001b[0m\u001b[1;32m      3\u001b[0m \u001b[0mtest_RMSE\u001b[0m \u001b[0;34m=\u001b[0m \u001b[0mnp\u001b[0m\u001b[0;34m.\u001b[0m\u001b[0msqrt\u001b[0m\u001b[0;34m(\u001b[0m\u001b[0mmean_squared_error\u001b[0m\u001b[0;34m(\u001b[0m\u001b[0mY_test\u001b[0m\u001b[0;34m,\u001b[0m \u001b[0mY_test_predict\u001b[0m\u001b[0;34m)\u001b[0m\u001b[0;34m)\u001b[0m\u001b[0;34m\u001b[0m\u001b[0;34m\u001b[0m\u001b[0m\n\u001b[1;32m      4\u001b[0m \u001b[0;34m\u001b[0m\u001b[0m\n\u001b[1;32m      5\u001b[0m \u001b[0mprint\u001b[0m\u001b[0;34m(\u001b[0m\u001b[0;34m'Train RMSE is: '\u001b[0m\u001b[0;34m)\u001b[0m\u001b[0;34m\u001b[0m\u001b[0;34m\u001b[0m\u001b[0m\n",
            "\u001b[0;32m/usr/local/lib/python3.7/dist-packages/sklearn/metrics/_regression.py\u001b[0m in \u001b[0;36mmean_squared_error\u001b[0;34m(y_true, y_pred, sample_weight, multioutput, squared)\u001b[0m\n\u001b[1;32m    437\u001b[0m     \"\"\"\n\u001b[1;32m    438\u001b[0m     y_type, y_true, y_pred, multioutput = _check_reg_targets(\n\u001b[0;32m--> 439\u001b[0;31m         \u001b[0my_true\u001b[0m\u001b[0;34m,\u001b[0m \u001b[0my_pred\u001b[0m\u001b[0;34m,\u001b[0m \u001b[0mmultioutput\u001b[0m\u001b[0;34m\u001b[0m\u001b[0;34m\u001b[0m\u001b[0m\n\u001b[0m\u001b[1;32m    440\u001b[0m     )\n\u001b[1;32m    441\u001b[0m     \u001b[0mcheck_consistent_length\u001b[0m\u001b[0;34m(\u001b[0m\u001b[0my_true\u001b[0m\u001b[0;34m,\u001b[0m \u001b[0my_pred\u001b[0m\u001b[0;34m,\u001b[0m \u001b[0msample_weight\u001b[0m\u001b[0;34m)\u001b[0m\u001b[0;34m\u001b[0m\u001b[0;34m\u001b[0m\u001b[0m\n",
            "\u001b[0;32m/usr/local/lib/python3.7/dist-packages/sklearn/metrics/_regression.py\u001b[0m in \u001b[0;36m_check_reg_targets\u001b[0;34m(y_true, y_pred, multioutput, dtype)\u001b[0m\n\u001b[1;32m     92\u001b[0m         \u001b[0mthe\u001b[0m \u001b[0mdtype\u001b[0m \u001b[0margument\u001b[0m \u001b[0mpassed\u001b[0m \u001b[0mto\u001b[0m \u001b[0mcheck_array\u001b[0m\u001b[0;34m.\u001b[0m\u001b[0;34m\u001b[0m\u001b[0;34m\u001b[0m\u001b[0m\n\u001b[1;32m     93\u001b[0m     \"\"\"\n\u001b[0;32m---> 94\u001b[0;31m     \u001b[0mcheck_consistent_length\u001b[0m\u001b[0;34m(\u001b[0m\u001b[0my_true\u001b[0m\u001b[0;34m,\u001b[0m \u001b[0my_pred\u001b[0m\u001b[0;34m)\u001b[0m\u001b[0;34m\u001b[0m\u001b[0;34m\u001b[0m\u001b[0m\n\u001b[0m\u001b[1;32m     95\u001b[0m     \u001b[0my_true\u001b[0m \u001b[0;34m=\u001b[0m \u001b[0mcheck_array\u001b[0m\u001b[0;34m(\u001b[0m\u001b[0my_true\u001b[0m\u001b[0;34m,\u001b[0m \u001b[0mensure_2d\u001b[0m\u001b[0;34m=\u001b[0m\u001b[0;32mFalse\u001b[0m\u001b[0;34m,\u001b[0m \u001b[0mdtype\u001b[0m\u001b[0;34m=\u001b[0m\u001b[0mdtype\u001b[0m\u001b[0;34m)\u001b[0m\u001b[0;34m\u001b[0m\u001b[0;34m\u001b[0m\u001b[0m\n\u001b[1;32m     96\u001b[0m     \u001b[0my_pred\u001b[0m \u001b[0;34m=\u001b[0m \u001b[0mcheck_array\u001b[0m\u001b[0;34m(\u001b[0m\u001b[0my_pred\u001b[0m\u001b[0;34m,\u001b[0m \u001b[0mensure_2d\u001b[0m\u001b[0;34m=\u001b[0m\u001b[0;32mFalse\u001b[0m\u001b[0;34m,\u001b[0m \u001b[0mdtype\u001b[0m\u001b[0;34m=\u001b[0m\u001b[0mdtype\u001b[0m\u001b[0;34m)\u001b[0m\u001b[0;34m\u001b[0m\u001b[0;34m\u001b[0m\u001b[0m\n",
            "\u001b[0;32m/usr/local/lib/python3.7/dist-packages/sklearn/utils/validation.py\u001b[0m in \u001b[0;36mcheck_consistent_length\u001b[0;34m(*arrays)\u001b[0m\n\u001b[1;32m    332\u001b[0m         raise ValueError(\n\u001b[1;32m    333\u001b[0m             \u001b[0;34m\"Found input variables with inconsistent numbers of samples: %r\"\u001b[0m\u001b[0;34m\u001b[0m\u001b[0;34m\u001b[0m\u001b[0m\n\u001b[0;32m--> 334\u001b[0;31m             \u001b[0;34m%\u001b[0m \u001b[0;34m[\u001b[0m\u001b[0mint\u001b[0m\u001b[0;34m(\u001b[0m\u001b[0ml\u001b[0m\u001b[0;34m)\u001b[0m \u001b[0;32mfor\u001b[0m \u001b[0ml\u001b[0m \u001b[0;32min\u001b[0m \u001b[0mlengths\u001b[0m\u001b[0;34m]\u001b[0m\u001b[0;34m\u001b[0m\u001b[0;34m\u001b[0m\u001b[0m\n\u001b[0m\u001b[1;32m    335\u001b[0m         )\n\u001b[1;32m    336\u001b[0m \u001b[0;34m\u001b[0m\u001b[0m\n",
            "\u001b[0;31mValueError\u001b[0m: Found input variables with inconsistent numbers of samples: [1, 2640]"
          ]
        }
      ]
    },
    {
      "cell_type": "code",
      "source": [
        "#Actual vs Predicted Data\n",
        "Y = np.append(Y_train, Y_test)\n",
        "Y_hat = np.append(Y_trained_predict, Y_test_predict)\n",
        "\n",
        "result_df = pd.DataFrame()\n",
        "result_df['Actual_Y'] = Y\n",
        "result_df['Predicted_Y'] = Y_hat\n",
        "result_df.head()"
      ],
      "metadata": {
        "id": "qVU-Qwm7v2ip",
        "colab": {
          "base_uri": "https://localhost:8080/",
          "height": 206
        },
        "outputId": "229f2682-87f0-48ca-f972-e72fc9566fca"
      },
      "execution_count": 136,
      "outputs": [
        {
          "output_type": "execute_result",
          "data": {
            "text/plain": [
              "       Actual_Y  Predicted_Y\n",
              "0  3.146283e-09     0.000049\n",
              "1  1.362393e-01     0.127224\n",
              "2  5.483571e-09    -0.000031\n",
              "3  0.000000e+00    -0.000028\n",
              "4  2.426487e-01     0.227874"
            ],
            "text/html": [
              "\n",
              "  <div id=\"df-12968566-6b01-4701-a11f-830850ee2bd7\">\n",
              "    <div class=\"colab-df-container\">\n",
              "      <div>\n",
              "<style scoped>\n",
              "    .dataframe tbody tr th:only-of-type {\n",
              "        vertical-align: middle;\n",
              "    }\n",
              "\n",
              "    .dataframe tbody tr th {\n",
              "        vertical-align: top;\n",
              "    }\n",
              "\n",
              "    .dataframe thead th {\n",
              "        text-align: right;\n",
              "    }\n",
              "</style>\n",
              "<table border=\"1\" class=\"dataframe\">\n",
              "  <thead>\n",
              "    <tr style=\"text-align: right;\">\n",
              "      <th></th>\n",
              "      <th>Actual_Y</th>\n",
              "      <th>Predicted_Y</th>\n",
              "    </tr>\n",
              "  </thead>\n",
              "  <tbody>\n",
              "    <tr>\n",
              "      <th>0</th>\n",
              "      <td>3.146283e-09</td>\n",
              "      <td>0.000049</td>\n",
              "    </tr>\n",
              "    <tr>\n",
              "      <th>1</th>\n",
              "      <td>1.362393e-01</td>\n",
              "      <td>0.127224</td>\n",
              "    </tr>\n",
              "    <tr>\n",
              "      <th>2</th>\n",
              "      <td>5.483571e-09</td>\n",
              "      <td>-0.000031</td>\n",
              "    </tr>\n",
              "    <tr>\n",
              "      <th>3</th>\n",
              "      <td>0.000000e+00</td>\n",
              "      <td>-0.000028</td>\n",
              "    </tr>\n",
              "    <tr>\n",
              "      <th>4</th>\n",
              "      <td>2.426487e-01</td>\n",
              "      <td>0.227874</td>\n",
              "    </tr>\n",
              "  </tbody>\n",
              "</table>\n",
              "</div>\n",
              "      <button class=\"colab-df-convert\" onclick=\"convertToInteractive('df-12968566-6b01-4701-a11f-830850ee2bd7')\"\n",
              "              title=\"Convert this dataframe to an interactive table.\"\n",
              "              style=\"display:none;\">\n",
              "        \n",
              "  <svg xmlns=\"http://www.w3.org/2000/svg\" height=\"24px\"viewBox=\"0 0 24 24\"\n",
              "       width=\"24px\">\n",
              "    <path d=\"M0 0h24v24H0V0z\" fill=\"none\"/>\n",
              "    <path d=\"M18.56 5.44l.94 2.06.94-2.06 2.06-.94-2.06-.94-.94-2.06-.94 2.06-2.06.94zm-11 1L8.5 8.5l.94-2.06 2.06-.94-2.06-.94L8.5 2.5l-.94 2.06-2.06.94zm10 10l.94 2.06.94-2.06 2.06-.94-2.06-.94-.94-2.06-.94 2.06-2.06.94z\"/><path d=\"M17.41 7.96l-1.37-1.37c-.4-.4-.92-.59-1.43-.59-.52 0-1.04.2-1.43.59L10.3 9.45l-7.72 7.72c-.78.78-.78 2.05 0 2.83L4 21.41c.39.39.9.59 1.41.59.51 0 1.02-.2 1.41-.59l7.78-7.78 2.81-2.81c.8-.78.8-2.07 0-2.86zM5.41 20L4 18.59l7.72-7.72 1.47 1.35L5.41 20z\"/>\n",
              "  </svg>\n",
              "      </button>\n",
              "      \n",
              "  <style>\n",
              "    .colab-df-container {\n",
              "      display:flex;\n",
              "      flex-wrap:wrap;\n",
              "      gap: 12px;\n",
              "    }\n",
              "\n",
              "    .colab-df-convert {\n",
              "      background-color: #E8F0FE;\n",
              "      border: none;\n",
              "      border-radius: 50%;\n",
              "      cursor: pointer;\n",
              "      display: none;\n",
              "      fill: #1967D2;\n",
              "      height: 32px;\n",
              "      padding: 0 0 0 0;\n",
              "      width: 32px;\n",
              "    }\n",
              "\n",
              "    .colab-df-convert:hover {\n",
              "      background-color: #E2EBFA;\n",
              "      box-shadow: 0px 1px 2px rgba(60, 64, 67, 0.3), 0px 1px 3px 1px rgba(60, 64, 67, 0.15);\n",
              "      fill: #174EA6;\n",
              "    }\n",
              "\n",
              "    [theme=dark] .colab-df-convert {\n",
              "      background-color: #3B4455;\n",
              "      fill: #D2E3FC;\n",
              "    }\n",
              "\n",
              "    [theme=dark] .colab-df-convert:hover {\n",
              "      background-color: #434B5C;\n",
              "      box-shadow: 0px 1px 3px 1px rgba(0, 0, 0, 0.15);\n",
              "      filter: drop-shadow(0px 1px 2px rgba(0, 0, 0, 0.3));\n",
              "      fill: #FFFFFF;\n",
              "    }\n",
              "  </style>\n",
              "\n",
              "      <script>\n",
              "        const buttonEl =\n",
              "          document.querySelector('#df-12968566-6b01-4701-a11f-830850ee2bd7 button.colab-df-convert');\n",
              "        buttonEl.style.display =\n",
              "          google.colab.kernel.accessAllowed ? 'block' : 'none';\n",
              "\n",
              "        async function convertToInteractive(key) {\n",
              "          const element = document.querySelector('#df-12968566-6b01-4701-a11f-830850ee2bd7');\n",
              "          const dataTable =\n",
              "            await google.colab.kernel.invokeFunction('convertToInteractive',\n",
              "                                                     [key], {});\n",
              "          if (!dataTable) return;\n",
              "\n",
              "          const docLinkHtml = 'Like what you see? Visit the ' +\n",
              "            '<a target=\"_blank\" href=https://colab.research.google.com/notebooks/data_table.ipynb>data table notebook</a>'\n",
              "            + ' to learn more about interactive tables.';\n",
              "          element.innerHTML = '';\n",
              "          dataTable['output_type'] = 'display_data';\n",
              "          await google.colab.output.renderOutput(dataTable, element);\n",
              "          const docLink = document.createElement('div');\n",
              "          docLink.innerHTML = docLinkHtml;\n",
              "          element.appendChild(docLink);\n",
              "        }\n",
              "      </script>\n",
              "    </div>\n",
              "  </div>\n",
              "  "
            ]
          },
          "metadata": {},
          "execution_count": 136
        }
      ]
    },
    {
      "cell_type": "code",
      "source": [
        "#Actual vs Predicted Graph\n",
        "result_df.plot(figsize=(20,5))\n",
        "mplot.xlabel('Time in Days')\n",
        "mplot.ylabel('Value of Stock')"
      ],
      "metadata": {
        "id": "zonvAPC4v62G",
        "colab": {
          "base_uri": "https://localhost:8080/",
          "height": 337
        },
        "outputId": "a47b32ce-4c48-4631-8edb-6d0c28e14641"
      },
      "execution_count": 114,
      "outputs": [
        {
          "output_type": "execute_result",
          "data": {
            "text/plain": [
              "Text(0, 0.5, 'Value of Stock')"
            ]
          },
          "metadata": {},
          "execution_count": 114
        },
        {
          "output_type": "display_data",
          "data": {
            "text/plain": [
              "<Figure size 1440x360 with 1 Axes>"
            ],
            "image/png": "[encoded data removed]"
          },
          "metadata": {
            "needs_background": "light"
          }
        }
      ]
    }
  ]
}