{
  "nbformat": 4,
  "nbformat_minor": 0,
  "metadata": {
    "colab": {
      "name": "Copy of LSTMStock-Take2.ipynb",
      "provenance": [],
      "collapsed_sections": [],
      "include_colab_link": true
    },
    "kernelspec": {
      "name": "python3",
      "display_name": "Python 3"
    },
    "language_info": {
      "name": "python"
    }
  },
  "cells": [
    {
      "cell_type": "markdown",
      "metadata": {
        "id": "view-in-github",
        "colab_type": "text"
      },
      "source": [
        "<a href=\"https://colab.research.google.com/github/jeniferwerthman/AdvAILSTM/blob/main/Copy_of_LSTMStock_Take2.ipynb\" target=\"_parent\"><img src=\"https://colab.research.google.com/assets/colab-badge.svg\" alt=\"Open In Colab\"/></a>"
      ]
    },
    {
      "cell_type": "code",
      "source": [
        "!pip install -q yfinance"
      ],
      "metadata": {
        "id": "yHP9YPPgsQai"
      },
      "execution_count": null,
      "outputs": []
    },
    {
      "cell_type": "code",
      "execution_count": null,
      "metadata": {
        "id": "XZyj7QpGi81g"
      },
      "outputs": [],
      "source": [
        "import pandas as pd\n",
        "import pandas_datareader as pdr\n",
        "from pandas_datareader.data import DataReader\n",
        "\n",
        "import yfinance as yf\n",
        "\n",
        "import matplotlib.pyplot as mplot\n",
        "from matplotlib.ticker import MultipleLocator\n",
        "import matplotlib.dates as mdates\n",
        "\n",
        "import altair as alt \n",
        "from altair import datum\n",
        "\n",
        "import numpy as np \n",
        "from datetime import datetime as dt\n",
        "from datetime import timedelta\n",
        "\n",
        "from sklearn.preprocessing import MinMaxScaler\n",
        "from sklearn.metrics import mean_squared_error\n",
        "from keras.models import Sequential\n",
        "from keras.layers import Dense\n",
        "from keras.layers import LSTM\n",
        "from keras.layers import Dropout\n",
        "import tensorflow as tf\n",
        "from keras.preprocessing.sequence import TimeseriesGenerator"
      ]
    },
    {
      "cell_type": "code",
      "source": [
        "#Import Data \n",
        "stockTypes = ['TSLA','AAPL', 'GOOG', 'MSFT', 'AMZN', 'DELL', 'INTC', 'NVDA', 'AMD', 'PYPL', 'EBAY']\n",
        "\n",
        "#Import from API\n",
        "end = dt.now()\n",
        "start = dt(end.year - 4, end.month, end.day)\n",
        "for stockDf in stockTypes:\n",
        "    globals()[stockDf] = yf.download(stockDf, start, end)\n",
        "\n",
        "number_of_days = end - start\n",
        "us_bd = np.busdaycalendar\n",
        "datelist_past = pd.date_range(start, end, freq='C').tolist()    \n",
        "\n",
        "#Add Name\n",
        "stocks = [TSLA, AAPL, GOOG, MSFT, AMZN, DELL, INTC, NVDA, AMD, PYPL, EBAY]\n",
        "company_name = [\"TESLA\", \"APPLE\", \"GOOGLE\", \"MICROSOFT\", \"AMAZON\", \"DELL\", \"INTEL\", \"NVIDIA\", \"AMD\", \"PAYPAL\", \"EBAY\"]\n",
        "\n",
        "#Make date part of dataset\n",
        "for stock in stocks:\n",
        "  stock[\"Date\"] = stock.index\n",
        "  stock = stock[[\"Date\", \"Open\", \"High\", \n",
        "              \"Low\", \"Close\", \"Adj Close\", \"Volume\"]]\n",
        "  stock.reset_index(drop=True, inplace=True)\n",
        "  print(stock.head(2))\n",
        "\n",
        "#Additional Columns\n",
        "for stock, name in zip(stocks, company_name):\n",
        "    stock[\"company_name\"] = name\n",
        "\n",
        "for stock in stocks:\n",
        "    stock['openChange'] = stock.Open.pct_change()\n",
        "    stock['closeChange'] = stock.Close.pct_change()\n",
        "    stock['volumeChange'] = stock.Volume.pct_change() \n",
        "    stock['weekday_num'] = pd.DatetimeIndex(stock['Date']).weekday\n",
        "    stock['month'] = pd.DatetimeIndex(stock['Date']).month\n",
        "    stock['day'] = pd.DatetimeIndex(stock['Date']).day\n",
        "    stock['year'] = pd.DatetimeIndex(stock['Date']).year\n",
        "    stock['display'] = stock[\"month\"].map(str)+ \"-\" + stock[\"year\"].map(str)\n",
        "\n",
        "# Select features (columns) to be involved intro training and predictions\n",
        "cols = list(stocks[1])[0:1]\n",
        "#cols.pop(1) #Delete middle column\n",
        "\n",
        "#Forcasting Stock\n",
        "stockDf = stocks[2] #AAPL\n",
        "\n",
        "print('Training set shape == {}'.format(stocks[1].shape))\n",
        "print('Featured selected: {}'.format(cols))"
      ],
      "metadata": {
        "id": "GKIxzjYwjced"
      },
      "execution_count": null,
      "outputs": []
    },
    {
      "cell_type": "code",
      "source": [
        "stocks[2].head()"
      ],
      "metadata": {
        "id": "ql9y3xoN2P-5"
      },
      "execution_count": null,
      "outputs": []
    },
    {
      "cell_type": "code",
      "source": [
        "DELL.head()"
      ],
      "metadata": {
        "id": "VmbIOwk2x2JH"
      },
      "execution_count": null,
      "outputs": []
    },
    {
      "cell_type": "code",
      "source": [
        "#Opening Graph\n",
        "mplot.figure(figsize=(15, 6))\n",
        "mplot.subplots_adjust(top=1.25, bottom=1)\n",
        "\n",
        "for i, stock in enumerate(stocks[0:6], 1):\n",
        "    mplot.subplot(3, 3, i)\n",
        "    stock['Open'].plot()\n",
        "    mplot.ylabel('Open')\n",
        "    mplot.xlabel(None)\n",
        "    mplot.title(f\"Opening Price of {stockTypes[i - 1]}\")\n",
        "    \n",
        "mplot.tight_layout()"
      ],
      "metadata": {
        "id": "vHf-5JtPxOp_"
      },
      "execution_count": null,
      "outputs": []
    },
    {
      "cell_type": "code",
      "source": [
        "#Change Graphs\n",
        "\n",
        "mplot.figure(figsize=(15, 7))\n",
        "mplot.subplots_adjust(top=1.25, bottom=1.2)\n",
        "\n",
        "for i, stock in enumerate(stocks[0:6], 1):\n",
        "    mplot.subplot(3, 3, i)\n",
        "    stock['openChange'].plot()\n",
        "    mplot.ylabel('openChange')\n",
        "    mplot.xlabel(None)\n",
        "    mplot.title(f\"Sales open change for {stockTypes[i - 1]}\")\n",
        "    \n",
        "mplot.tight_layout()"
      ],
      "metadata": {
        "id": "gcSaLT4B8NG2"
      },
      "execution_count": null,
      "outputs": []
    },
    {
      "cell_type": "code",
      "source": [
        "mplot.figure(figsize=(15, 7))\n",
        "mplot.title(f\"Sales Volume\")\n",
        "for i, stock in enumerate(stocks[0:6], 1):\n",
        "  mplot.plot(stock['Volume'], label = stockTypes[i - 1]) \n",
        "  \n",
        "mplot.ylabel('Volume')\n",
        "mplot.xlabel(None)\n",
        "mplot.legend()\n",
        "mplot.show()  "
      ],
      "metadata": {
        "id": "CmjO_FTtLEuH"
      },
      "execution_count": null,
      "outputs": []
    },
    {
      "cell_type": "code",
      "source": [
        "#Volume Graphs\n",
        "\n",
        "mplot.figure(figsize=(15, 7))\n",
        "mplot.subplots_adjust(top=1.25, bottom=1.2)\n",
        "\n",
        "for i, stock in enumerate(stocks[0:6], 1):\n",
        "    mplot.subplot(2, 3, i)\n",
        "    stock['Volume'].plot()\n",
        "    mplot.ylabel('Volume')\n",
        "    mplot.xlabel(None)\n",
        "    mplot.title(f\"Sales Volume for {stockTypes[i - 1]}\")\n",
        "    \n",
        "mplot.tight_layout()"
      ],
      "metadata": {
        "id": "w4c0OfCBv5KH"
      },
      "execution_count": null,
      "outputs": []
    },
    {
      "cell_type": "code",
      "source": [
        "#Volume Change Graphs\n",
        "mplot.figure(figsize=(25, 7))\n",
        "mplot.subplots_adjust(top=1.25, bottom=1.2)\n",
        "\n",
        "for i, stock in enumerate(stocks[0:6], 1):\n",
        "    mplot.subplot(2, 3, i)\n",
        "    stock['volumeChange'][-244:].plot()\n",
        "    mplot.ylabel('volumeChange')\n",
        "    mplot.xlabel(None)\n",
        "    mplot.title(f\"Sales volume change for {stockTypes[i - 1]}\")\n",
        "    \n",
        "mplot.tight_layout()"
      ],
      "metadata": {
        "id": "Qa6ytEQWn5tQ"
      },
      "execution_count": null,
      "outputs": []
    },
    {
      "cell_type": "code",
      "source": [
        "def plotIt(i = 0):\n",
        "  chart = alt.Chart(stocks[i], title=company_name[i]).mark_bar().encode(\n",
        "          x='day',\n",
        "          y='Volume',\n",
        "          column='month',\n",
        "          color='year')\n",
        "  return chart"
      ],
      "metadata": {
        "id": "nICAF6AJoCEF"
      },
      "execution_count": null,
      "outputs": []
    },
    {
      "cell_type": "code",
      "source": [
        "plotIt(1)"
      ],
      "metadata": {
        "id": "17q7Zx6MoFsZ"
      },
      "execution_count": null,
      "outputs": []
    },
    {
      "cell_type": "code",
      "source": [
        "plotIt(2)"
      ],
      "metadata": {
        "id": "QJEpSHfcoFlC"
      },
      "execution_count": null,
      "outputs": []
    },
    {
      "cell_type": "code",
      "source": [
        "plotIt(3)"
      ],
      "metadata": {
        "id": "kHzM3khgoFb4"
      },
      "execution_count": null,
      "outputs": []
    },
    {
      "cell_type": "code",
      "source": [
        "plotIt(4)"
      ],
      "metadata": {
        "id": "ayuCaSqeoFQZ"
      },
      "execution_count": null,
      "outputs": []
    },
    {
      "cell_type": "code",
      "source": [
        "plotIt(5)"
      ],
      "metadata": {
        "id": "dSAEgA83oFAl"
      },
      "execution_count": null,
      "outputs": []
    },
    {
      "cell_type": "code",
      "source": [
        "plotIt(6)"
      ],
      "metadata": {
        "id": "ymNOYth9rDrw"
      },
      "execution_count": null,
      "outputs": []
    },
    {
      "cell_type": "code",
      "source": [
        "plotIt(7)"
      ],
      "metadata": {
        "id": "7f_5T8yHrDbo"
      },
      "execution_count": null,
      "outputs": []
    },
    {
      "cell_type": "code",
      "source": [
        "plotIt(8)"
      ],
      "metadata": {
        "id": "tpJTqthprDJv"
      },
      "execution_count": null,
      "outputs": []
    },
    {
      "cell_type": "code",
      "source": [
        "plotIt(9)"
      ],
      "metadata": {
        "id": "Gdzq5Ppztjyu"
      },
      "execution_count": null,
      "outputs": []
    },
    {
      "cell_type": "code",
      "source": [
        "def plotLines(i = 1, stock = None, yValue='max(Volume)'):\n",
        "   iV = (alt.Chart(stock, title=company_name[i-1]).transform_filter(datum.month==3).\n",
        "          mark_line().\n",
        "          encode(x=alt.X('day', sort=['year', 'month']), y=yValue, color='year').\n",
        "          properties(height=200  , width=500)) \n",
        "   return iV"
      ],
      "metadata": {
        "id": "S7YsTlXHoUMm"
      },
      "execution_count": null,
      "outputs": []
    },
    {
      "cell_type": "code",
      "source": [
        "plotLines(3,stockDf,'max(volumeChange)')"
      ],
      "metadata": {
        "id": "z5GjJ65TpYC_"
      },
      "execution_count": null,
      "outputs": []
    },
    {
      "cell_type": "code",
      "source": [
        "plotLines(3, stockDf)"
      ],
      "metadata": {
        "id": "a73bkMAIpI-y"
      },
      "execution_count": null,
      "outputs": []
    },
    {
      "cell_type": "code",
      "source": [
        "#Get Desired columns to train\n",
        "print('Featured selected: {}'.format(cols))\n",
        "stockDf = stockDf[cols].astype(str)\n",
        "for i in cols:\n",
        "    for j in range(0, len(stockDf)):\n",
        "        stockDf[i][j] = stockDf[i][j].replace(',', '')\n",
        "\n",
        "stockDf = stockDf.astype(float)\n",
        "\n",
        "# Using multiple features (predictors) \n",
        "fromRecord = 50\n",
        "toRecord = 100\n",
        "newDf = stockDf[fromRecord:toRecord]\n",
        "myDs = newDf.to_numpy() \n",
        "myDs = myDs.astype('float32')\n",
        "print('Shape of training set == {}.'.format(newDf.shape))\n",
        "newDf[1:5]"
      ],
      "metadata": {
        "id": "l9VGJBzZ5fbA"
      },
      "execution_count": null,
      "outputs": []
    },
    {
      "cell_type": "code",
      "source": [
        "#Parameters\n",
        "trainingSet = .70\n",
        "featureRange1 = 0\n",
        "featureRange2 = 1\n",
        "newShape1 = -1\n",
        "newShape2 = 1 \n",
        "\n",
        "myDs = np.reshape(myDs, (newShape1, newShape2))\n",
        "scaler = MinMaxScaler(feature_range=(featureRange1, featureRange2))\n",
        "myDs = scaler.fit_transform(myDs)\n",
        "trainingSize = int(len(myDs) * trainingSet)\n",
        "testingSize = int(len(myDs) - trainingSize)\n",
        "trainData, testData = myDs[0:trainingSize,:], myDs[testingSize:len(myDs),:]\n"
      ],
      "metadata": {
        "id": "VDUEirYCnYqS"
      },
      "execution_count": null,
      "outputs": []
    },
    {
      "cell_type": "code",
      "source": [
        "#Parameters\n",
        "batchSize = 5\n",
        "timeSteps = 1\n",
        "#Batch Data for optimization and accuracy\n",
        "#This creates batches with 1 to N records.  \n",
        "#X - Each Batch starts with the next item i in the list and contains specified number of additional items\n",
        "#Y - Contains the last item in each batch \"L\" or first \"F\" or previious \"P\" or next \"N\"\n",
        "def batchData(data, size, indexAlignment = \"L\"):\n",
        "    X, Y = [], [] \n",
        "    for i in range(len(data) - size - 1): \n",
        "        X.append(data[i:(i + size), 0])\n",
        "         \n",
        "        if indexAlignment == \"N\":\n",
        "          Y.append(data[i + size, 0])\n",
        "        elif indexAlignment == \"L\":\n",
        "          Y.append(data[i + size - 1, 0])\n",
        "        elif indexAlignment == \"P\":  \n",
        "          Y.append(data[i-1, 0])\n",
        "        else:\n",
        "          Y.append(data[i, 0]) \n",
        "\n",
        "    return np.array(X), np.array(Y)\n",
        "\n",
        "#Catch Batches for Accuracy and Optimization\n",
        "X_train, Y_train = batchData(trainData, batchSize, \"L\")\n",
        "X_test, Y_test = batchData(testData, batchSize,\"L\")\n",
        "\n",
        "#Reshape data to normalize it [samples, time steps, features]\n",
        "X_train = np.reshape(X_train, (X_train.shape[0], timeSteps, X_train.shape[1]))\n",
        "X_test = np.reshape(X_test, (X_test.shape[0], timeSteps, X_test.shape[1]))"
      ],
      "metadata": {
        "id": "0ENORI1GvnqW"
      },
      "execution_count": null,
      "outputs": []
    },
    {
      "cell_type": "code",
      "source": [
        "#Parameters\n",
        "verboseAmt = 1\n",
        "epochCnt = 100\n",
        "shuffleData = False\n",
        "dropOut = 0.2\n",
        "lstmActivation = 'relu' #'relu'\n",
        "activationLayer = 'linear'\n",
        "lossType = 'mean_squared_error'\n",
        "optimizerType = 'adam'\n",
        "lstmUnits = 50\n",
        "lstmMultipleLayers = False\n",
        "\n",
        "model = Sequential()\n",
        "\n",
        "if lstmMultipleLayers:\n",
        "  model.add(LSTM(units = lstmUnits, return_sequences = True, activation = lstmActivation, input_shape = (X_train.shape[1], batchSize)))\n",
        "  model.add(Dropout(dropOut))\n",
        "\n",
        "  model.add(LSTM(units = lstmUnits, return_sequences = True))\n",
        "  model.add(Dropout(dropOut))\n",
        "\n",
        "  model.add(LSTM(units = lstmUnits, return_sequences = True))\n",
        "  model.add(Dropout(dropOut))\n",
        "\n",
        "  model.add(LSTM(units = lstmUnits))\n",
        "  model.add(Dropout(dropOut))\n",
        "else:\n",
        "  model.add(LSTM(units = lstmUnits, activation = lstmActivation, input_shape = (X_train.shape[1], batchSize))) \n",
        "  model.add(Dropout(dropOut))\n",
        "\n",
        "model.add(Dense(1, activation = activationLayer))\n",
        "model.compile(loss = lossType, optimizer = optimizerType)\n",
        "modelFit = model.fit(X_train, Y_train, epochs = epochCnt, batch_size = batchSize, validation_data = (X_test, Y_test), verbose = verboseAmt, shuffle = False)\n",
        "model.summary()"
      ],
      "metadata": {
        "id": "5LCmTInqLd8x"
      },
      "execution_count": null,
      "outputs": []
    },
    {
      "cell_type": "code",
      "source": [
        "#Predictions\n",
        "train_predict = model.predict(X_train)\n",
        "Y_trained_predict = scaler.inverse_transform(train_predict)\n",
        "\n",
        "test_predict = model.predict(X_test)\n",
        "Y_test_predict = scaler.inverse_transform(test_predict)\n",
        "\n",
        "Y_test = scaler.inverse_transform([Y_test])\n",
        "Y_train = scaler.inverse_transform([Y_train])\n",
        "\n",
        "s1 = Y_test.shape[0]\n",
        "s2 = Y_test.shape[1]\n",
        "\n",
        "Y_test = Y_test.reshape(s2,s1)\n",
        "Y_train = Y_train.reshape(s2,s1)"
      ],
      "metadata": {
        "id": "scYMPFl9uhZk"
      },
      "execution_count": null,
      "outputs": []
    },
    {
      "cell_type": "code",
      "source": [
        "print('X_train: ' + str(len(X_train)))\n",
        "print('X_test: ' + str(len(X_test)))\n",
        "print('Y_train: ' + str(len(Y_train)))\n",
        "print('Y_test: ' + str(len(Y_test)))\n",
        "print('X Train Shape' + str(X_train.shape))\n",
        "print('Y Train Shape' + str(Y_train.shape))\n",
        "print('X Test Shape' + str(X_test.shape))\n",
        "print('Y Test Shape' + str(Y_test.shape))\n",
        "print('train_predict: ' + str(len(train_predict)))\n",
        "print('Y_trained_predict: ' + str(len(Y_trained_predict)))\n",
        "print('test_predict: ' + str(len(test_predict)))\n",
        "print('Y_test_predict: ' + str(len(Y_test_predict)))\n",
        "print('Shape of Y_train:'  + str(Y_train.shape[0]))\n",
        "print('Shape of Y_train:' + str(Y_train.shape[0]))\n",
        "print('Shape of Y_train:'  + str(Y_train.shape[0]))\n",
        "print('Shape of Y_train:'  + str(Y_train.shape[0]))"
      ],
      "metadata": {
        "id": "y9Wl4OhwjXdQ"
      },
      "execution_count": null,
      "outputs": []
    },
    {
      "cell_type": "code",
      "source": [
        "#Calculate Accuracy\n",
        "train_RMSE = np.sqrt(mean_squared_error(Y_train, Y_trained_predict))\n",
        "test_RMSE = np.sqrt(mean_squared_error(Y_test, Y_test_predict))\n",
        "\n",
        "print('Train RMSE is: ')\n",
        "print(train_RMSE, '\\n')\n",
        "print('Test RMSE is: ')\n",
        "print(test_RMSE)"
      ],
      "metadata": {
        "id": "jkQfl4IuvtVQ"
      },
      "execution_count": null,
      "outputs": []
    },
    {
      "cell_type": "code",
      "source": [
        "#Actual vs Predicted Data\n",
        "Y = np.append(Y_train, Y_test)\n",
        "Y_hat = np.append(Y_trained_predict, Y_test_predict)\n",
        "result_df = pd.DataFrame()\n",
        "result_df['Actual_Y'] = Y\n",
        "result_df['Predicted_Y'] = Y_hat\n",
        "result_df.head()"
      ],
      "metadata": {
        "id": "qVU-Qwm7v2ip"
      },
      "execution_count": null,
      "outputs": []
    },
    {
      "cell_type": "code",
      "source": [
        "#Actual vs Predicted Graph\n",
        "result_df.plot(figsize=(20,5))\n",
        "mplot.xlabel('Time in Days')\n",
        "mplot.ylabel('Value of Stock')"
      ],
      "metadata": {
        "id": "zonvAPC4v62G"
      },
      "execution_count": null,
      "outputs": []
    },
    {
      "cell_type": "code",
      "source": [
        "from pandas.tseries.offsets import BDay\n",
        "\n",
        "#Prediction Forcastings\n",
        "predictionCount = 9\n",
        "lookback =20 \n",
        "yesterday = end - timedelta(days=1)\n",
        "trainingStartDate = (end - BDay(lookback)).to_pydatetime()\n",
        "forcastingTrainingDays = yesterday - trainingStartDate\n",
        "datelist_future = pd.date_range(end, periods=predictionCount, freq='C').tolist()  \n",
        "datelist_training = pd.date_range(trainingStartDate, yesterday, freq='C').tolist()\n",
        "\n",
        "y_past_training = model.predict(X_train[-lookback-1:])\n",
        "print(len(y_past_training))\n",
        "y_past_training_values = scaler.inverse_transform(y_past_training[0:lookback])\n",
        "print('y_past_training_values with X_train: ')\n",
        "print(y_past_training_values[-5:])\n",
        "\n",
        "y_future_prediction = model.predict(X_train[-predictionCount:])\n",
        "y_future_prediction_values = scaler.inverse_transform(y_future_prediction)\n",
        "print('y_future_prediction_values with X_train: ')\n",
        "y_future_prediction_values1=scaler.inverse_transform(y_future_prediction_values)\n",
        "\n",
        "print(y_future_prediction_values[:5])\n",
        "print(len(y_past_training_values))\n",
        "print(len(datelist_training))\n",
        "\n",
        "#Look Back prediction\n",
        "PREDICTIONS_FUTURE = pd.DataFrame(y_future_prediction_values, columns=['Open']).set_index(pd.Series(datelist_future))\n",
        "PREDICTION_TRAIN = pd.DataFrame(y_past_training_values, columns=['Open']).set_index(pd.Series(datelist_training)) \n",
        "PREDICTIONS_FUTURE.head(11)"
      ],
      "metadata": {
        "id": "lOOHx1zgoOEV"
      },
      "execution_count": null,
      "outputs": []
    },
    {
      "cell_type": "code",
      "source": [
        "mplot.figure(figsize=(20,10))\n",
        "mplot.title(f\"Opening Price Forcasting\")\n",
        "mplot.plot(PREDICTIONS_FUTURE.index, PREDICTIONS_FUTURE['Open'], color='r', label='Predicted Stock Price')\n",
        "mplot.plot(PREDICTION_TRAIN.loc[trainingStartDate:].index, PREDICTION_TRAIN.loc[trainingStartDate:]['Open'], color='orange', label='Training predictions')\n",
        "mplot.plot(stockDf.loc[trainingStartDate:].index, stockDf.loc[trainingStartDate:]['Open'], color='b', label='Actual Stock Price')\n",
        "mplot.ylabel('Volume')\n",
        "mplot.xlabel(None)\n",
        "mplot.legend()\n",
        "mplot.show() "
      ],
      "metadata": {
        "id": "WGDwyg1pHuk1"
      },
      "execution_count": null,
      "outputs": []
    }
  ]
}